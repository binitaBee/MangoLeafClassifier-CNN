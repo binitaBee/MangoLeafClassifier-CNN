{
  "cells": [
    {
      "cell_type": "code",
      "execution_count": 1,
      "metadata": {
        "id": "GEoWxAhe_vnF",
        "colab": {
          "base_uri": "https://localhost:8080/"
        },
        "outputId": "e0b12823-a868-4d6e-8398-03a50a280ebc"
      },
      "outputs": [
        {
          "output_type": "stream",
          "name": "stdout",
          "text": [
            "Mounted at /content/drive\n"
          ]
        }
      ],
      "source": [
        "from google.colab import drive\n",
        "drive.mount('/content/drive')"
      ]
    },
    {
      "cell_type": "code",
      "execution_count": 2,
      "metadata": {
        "id": "7E5nNGKY3p9Y",
        "colab": {
          "base_uri": "https://localhost:8080/"
        },
        "outputId": "efbc8a71-1fd4-4a5d-ac80-157b9fcb0140"
      },
      "outputs": [
        {
          "output_type": "stream",
          "name": "stdout",
          "text": [
            "/content/drive/MyDrive/Preprocessed\n",
            "'African Jambo'   Fazlee\t      Maryam\n",
            " Aprupali\t 'Gopal Vog'\t      Modhurani\n",
            "'Baper Bari'\t  Haribhanga\t     'Phillipine Honey Dew'\n",
            "'Bari 11'\t 'Him Sagor'\t      Qzai\n",
            "'Bari 13'\t  image_data_pp.npy  'Red Palmar'\n",
            "'Bari 4'\t 'Indian Totapori'    Sabira\n",
            "'Bari 7'\t 'Kacha Mitha'\t     'Taiwani Red'\n",
            "'Bari 8'\t 'King Breunei'      'Thai Banana Mango'\n",
            "'Bari 9'\t  Lengra\t     'Thai Moryam'\n"
          ]
        }
      ],
      "source": [
        "%cd /content/drive/MyDrive/Preprocessed\n",
        "!ls"
      ]
    },
    {
      "cell_type": "code",
      "execution_count": 3,
      "metadata": {
        "id": "oNvg2hXW4_-n",
        "colab": {
          "base_uri": "https://localhost:8080/"
        },
        "outputId": "37ab179e-500b-4a52-dbdf-cb0f6d126534"
      },
      "outputs": [
        {
          "output_type": "execute_result",
          "data": {
            "text/plain": [
              "{'Lengra': '/Lengra',\n",
              " 'Fazlee': '/Fazlee',\n",
              " 'Haribhanga': '/Haribhanga',\n",
              " 'Thai Banana Mango': '/Thai Banana Mango',\n",
              " 'Bari 7': '/Bari 7',\n",
              " 'Bari 11': '/Bari 11',\n",
              " 'Bari 4': '/Bari 4',\n",
              " 'Bari 8': '/Bari 8',\n",
              " 'African Jambo': '/African Jambo',\n",
              " 'Sabira': '/Sabira',\n",
              " 'Phillipine Honey Dew': '/Phillipine Honey Dew',\n",
              " 'Maryam': '/Maryam',\n",
              " 'Indian Totapori': '/Indian Totapori',\n",
              " 'Kacha Mitha': '/Kacha Mitha',\n",
              " 'Thai Moryam': '/Thai Moryam',\n",
              " 'Modhurani': '/Modhurani',\n",
              " 'Baper Bari': '/Baper Bari',\n",
              " 'Red Palmar': '/Red Palmar',\n",
              " 'King Breunei': '/King Breunei',\n",
              " 'Taiwani Red': '/Taiwani Red',\n",
              " 'Qzai': '/Qzai',\n",
              " 'Him Sagor': '/Him Sagor',\n",
              " 'Gopal Vog': '/Gopal Vog',\n",
              " 'Bari 13': '/Bari 13',\n",
              " 'Aprupali': '/Aprupali',\n",
              " 'Bari 9': '/Bari 9'}"
            ]
          },
          "metadata": {},
          "execution_count": 3
        }
      ],
      "source": [
        "listOfProjati = []\n",
        "ProjatiDirectory = {}\n",
        "import os\n",
        "path = os.getcwd()\n",
        "for dir in os.listdir(path):\n",
        "  if os.path.isdir(dir):\n",
        "    if str(dir) != \"thai banana mango (renamed)\" and str(dir) != \"Jubair\":\n",
        "      listOfProjati.append(str(dir))\n",
        "      ProjatiDirectory[str(dir)] = '/' + str(dir)\n",
        "ProjatiDirectory"
      ]
    },
    {
      "cell_type": "code",
      "execution_count": 5,
      "metadata": {
        "id": "Cgbtm_2N5G1n",
        "colab": {
          "base_uri": "https://localhost:8080/"
        },
        "outputId": "e236f1be-8f26-49a1-f38e-c1578ccd6bc5"
      },
      "outputs": [
        {
          "output_type": "execute_result",
          "data": {
            "text/plain": [
              "{'Lengra': 366,\n",
              " 'Fazlee': 600,\n",
              " 'Haribhanga': 600,\n",
              " 'Thai Banana Mango': 612,\n",
              " 'Bari 7': 600,\n",
              " 'Bari 11': 600,\n",
              " 'Bari 4': 600,\n",
              " 'Bari 8': 600,\n",
              " 'African Jambo': 600,\n",
              " 'Sabira': 624,\n",
              " 'Phillipine Honey Dew': 708,\n",
              " 'Maryam': 1044,\n",
              " 'Indian Totapori': 726,\n",
              " 'Kacha Mitha': 846,\n",
              " 'Thai Moryam': 882,\n",
              " 'Modhurani': 600,\n",
              " 'Baper Bari': 600,\n",
              " 'Red Palmar': 414,\n",
              " 'King Breunei': 612,\n",
              " 'Taiwani Red': 354,\n",
              " 'Qzai': 810,\n",
              " 'Him Sagor': 438,\n",
              " 'Gopal Vog': 600,\n",
              " 'Bari 13': 510,\n",
              " 'Aprupali': 600,\n",
              " 'Bari 9': 600}"
            ]
          },
          "metadata": {},
          "execution_count": 5
        }
      ],
      "source": [
        "countDict = {}\n",
        "for projati in listOfProjati:\n",
        "  subfolderPath = path + ProjatiDirectory[projati]\n",
        "  c = 0\n",
        "  for file in os.listdir(subfolderPath):\n",
        "    if file.endswith('.jpg') or file.endswith('.JPG') or file.endswith('.jpeg') or file.endswith('.JPEG') or file.endswith('.png') or file.endswith('.PNG'):\n",
        "      # file_name, file_extension = os.path.splitext(file)\n",
        "      c += 1\n",
        "  countDict[projati] = c\n",
        "countDict"
      ]
    },
    {
      "cell_type": "code",
      "execution_count": 12,
      "metadata": {
        "colab": {
          "base_uri": "https://localhost:8080/"
        },
        "id": "DOO2iyooKX8V",
        "outputId": "6a4a256d-6d03-4b72-dfcf-cb8f39404ea3"
      },
      "outputs": [
        {
          "output_type": "stream",
          "name": "stdout",
          "text": [
            "/content/drive/MyDrive/Preprocessed\n",
            "'African Jambo'   Fazlee\t      Maryam\n",
            " Aprupali\t 'Gopal Vog'\t      Modhurani\n",
            "'Baper Bari'\t  Haribhanga\t     'Phillipine Honey Dew'\n",
            "'Bari 11'\t 'Him Sagor'\t      Qzai\n",
            "'Bari 13'\t  image_data_pp.npy  'Red Palmar'\n",
            "'Bari 4'\t 'Indian Totapori'    Sabira\n",
            "'Bari 7'\t 'Kacha Mitha'\t     'Taiwani Red'\n",
            "'Bari 8'\t 'King Breunei'      'Thai Banana Mango'\n",
            "'Bari 9'\t  Lengra\t     'Thai Moryam'\n"
          ]
        }
      ],
      "source": [
        "%cd /content/drive/MyDrive/Preprocessed\n",
        "!ls"
      ]
    },
    {
      "cell_type": "code",
      "execution_count": null,
      "metadata": {
        "id": "X3AMfb6VLDAT"
      },
      "outputs": [],
      "source": [
        "import numpy as np\n",
        "img_data=np.load('image_data_pp.npy')\n",
        "img_data"
      ]
    },
    {
      "cell_type": "code",
      "execution_count": null,
      "metadata": {
        "id": "zYLvu1Hi5spt"
      },
      "outputs": [],
      "source": [
        "import numpy as np\n",
        "import pandas as pd\n",
        "import os\n",
        "import tensorflow as tf\n",
        "import cv2\n",
        "from tensorflow import keras\n",
        "from tensorflow.keras.layers import Dense, LSTM, Dropout, GRU, Bidirectional\n",
        "from tensorflow.keras.models import Sequential, Model\n",
        "from  matplotlib import pyplot as plt\n",
        "import matplotlib.image as mpimg\n",
        "import random\n",
        "%matplotlib inline"
      ]
    },
    {
      "cell_type": "code",
      "execution_count": 14,
      "metadata": {
        "colab": {
          "base_uri": "https://localhost:8080/"
        },
        "id": "eCzmQLwN5z49",
        "outputId": "8acd53ff-73ed-4fd4-b620-fd1dad2407e1"
      },
      "outputs": [
        {
          "output_type": "execute_result",
          "data": {
            "text/plain": [
              "['Lengra',\n",
              " 'Fazlee',\n",
              " 'Haribhanga',\n",
              " 'Thai Banana Mango',\n",
              " 'Bari 7',\n",
              " 'Bari 11',\n",
              " 'Bari 4',\n",
              " 'Bari 8',\n",
              " 'African Jambo',\n",
              " 'Sabira',\n",
              " 'Phillipine Honey Dew',\n",
              " 'Maryam',\n",
              " 'Indian Totapori',\n",
              " 'Kacha Mitha',\n",
              " 'Thai Moryam',\n",
              " 'Modhurani',\n",
              " 'Baper Bari',\n",
              " 'Red Palmar',\n",
              " 'King Breunei',\n",
              " 'Taiwani Red',\n",
              " 'Qzai',\n",
              " 'Him Sagor',\n",
              " 'Gopal Vog',\n",
              " 'Bari 13',\n",
              " 'Aprupali',\n",
              " 'Bari 9']"
            ]
          },
          "metadata": {},
          "execution_count": 14
        }
      ],
      "source": [
        "listOfProjatiCopy = listOfProjati.copy()\n",
        "listOfProjatiCopy"
      ]
    },
    {
      "cell_type": "code",
      "execution_count": 15,
      "metadata": {
        "colab": {
          "base_uri": "https://localhost:8080/"
        },
        "id": "3UdT98id523l",
        "outputId": "7a585229-f7b5-4a70-e003-2aa1af49ab04"
      },
      "outputs": [
        {
          "output_type": "execute_result",
          "data": {
            "text/plain": [
              "array([16,  9, 11, 24,  6,  3,  5,  7,  0, 22, 19, 17, 13, 14, 25, 18,  2,\n",
              "       21, 15, 23, 20, 12, 10,  4,  1,  8])"
            ]
          },
          "metadata": {},
          "execution_count": 15
        }
      ],
      "source": [
        "from sklearn import preprocessing\n",
        "le = preprocessing.LabelEncoder()\n",
        "le.fit(listOfProjatiCopy)\n",
        "listOfProjatiCopy = le.transform(listOfProjatiCopy)\n",
        "listOfProjatiCopy"
      ]
    },
    {
      "cell_type": "code",
      "execution_count": 16,
      "metadata": {
        "colab": {
          "base_uri": "https://localhost:8080/"
        },
        "id": "3JxJaRRb55Qs",
        "outputId": "10130194-f61e-4309-cc5d-d2ee5fc12266"
      },
      "outputs": [
        {
          "output_type": "execute_result",
          "data": {
            "text/plain": [
              "array([16, 16, 16, ...,  8,  8,  8])"
            ]
          },
          "metadata": {},
          "execution_count": 16
        }
      ],
      "source": [
        "target_val = []\n",
        "for i in range(len(listOfProjati)):\n",
        "  tempList = [listOfProjatiCopy[i]]*countDict[listOfProjati[i]]\n",
        "  target_val.extend(tempList)\n",
        "target_val = np.array(target_val)\n",
        "target_val"
      ]
    },
    {
      "cell_type": "code",
      "execution_count": 17,
      "metadata": {
        "id": "IAMmt6Gv6EK7"
      },
      "outputs": [],
      "source": [
        "from sklearn.model_selection import train_test_split\n",
        "x, x_test, y, y_test = train_test_split(img_data,target_val,test_size=0.3, stratify=target_val)\n",
        "x_train, x_val, y_train, y_val = train_test_split(x,y,test_size = 0.2, stratify=y)"
      ]
    },
    {
      "cell_type": "code",
      "execution_count": 18,
      "metadata": {
        "colab": {
          "base_uri": "https://localhost:8080/"
        },
        "id": "zoGJ19Bw6Fpi",
        "outputId": "25d4b650-21ec-47bb-858d-f7d93bfd7afd"
      },
      "outputs": [
        {
          "output_type": "stream",
          "name": "stdout",
          "text": [
            "((9041, 128, 128, 3), (9041,))\n",
            "((4844, 128, 128, 3), (4844,))\n",
            "((2261, 128, 128, 3), (2261,))\n"
          ]
        }
      ],
      "source": [
        "print((x_train.shape,y_train.shape))\n",
        "print((x_test.shape,y_test.shape))\n",
        "print((x_val.shape,y_val.shape))"
      ]
    },
    {
      "cell_type": "code",
      "execution_count": 19,
      "metadata": {
        "id": "bK-SRnxU6HXS"
      },
      "outputs": [],
      "source": [
        "from tensorflow.keras.utils import to_categorical\n",
        "y_train=to_categorical(y_train)\n",
        "y_val=to_categorical(y_val)\n",
        "y_test=to_categorical(y_test)"
      ]
    },
    {
      "cell_type": "code",
      "execution_count": 20,
      "metadata": {
        "colab": {
          "base_uri": "https://localhost:8080/"
        },
        "id": "Vm3et-Mo6Iqa",
        "outputId": "18f6e5aa-e449-4f6d-c45a-4c76a39565d0"
      },
      "outputs": [
        {
          "output_type": "stream",
          "name": "stdout",
          "text": [
            "((9041, 128, 128, 3), (9041, 26))\n",
            "((2261, 128, 128, 3), (2261, 26))\n",
            "((4844, 128, 128, 3), (4844, 26))\n"
          ]
        }
      ],
      "source": [
        "print((x_train.shape,y_train.shape))\n",
        "print((x_val.shape,y_val.shape))\n",
        "print((x_test.shape,y_test.shape))"
      ]
    },
    {
      "cell_type": "code",
      "execution_count": 21,
      "metadata": {
        "id": "MltruYNh6MmC"
      },
      "outputs": [],
      "source": [
        "from keras.preprocessing.image import ImageDataGenerator\n",
        "train_generator = ImageDataGenerator()\n",
        "val_generator = ImageDataGenerator()\n",
        "test_generator = ImageDataGenerator()\n",
        "train_generator.fit(x_train)\n",
        "val_generator.fit(x_val)\n",
        "test_generator.fit(x_test)"
      ]
    },
    {
      "cell_type": "code",
      "execution_count": 22,
      "metadata": {
        "id": "UX3wExR56SRq"
      },
      "outputs": [],
      "source": [
        "# import seaborn as sns\n",
        "import itertools\n",
        "from sklearn.metrics import confusion_matrix\n",
        "from keras import Sequential\n",
        "from tensorflow.keras.applications.xception import Xception\n",
        "from keras.preprocessing.image import ImageDataGenerator\n",
        "from tensorflow.keras.optimizers import SGD,Adam\n",
        "from keras.callbacks import ReduceLROnPlateau\n",
        "from keras.layers import Flatten, Dense, BatchNormalization, Activation,Dropout"
      ]
    },
    {
      "cell_type": "code",
      "execution_count": 23,
      "metadata": {
        "id": "kbwJgtIP6cnS",
        "colab": {
          "base_uri": "https://localhost:8080/"
        },
        "outputId": "24e5dc06-618a-43e4-9098-3d569d1b9e3d"
      },
      "outputs": [
        {
          "output_type": "stream",
          "name": "stdout",
          "text": [
            "Downloading data from https://storage.googleapis.com/tensorflow/keras-applications/xception/xception_weights_tf_dim_ordering_tf_kernels_notop.h5\n",
            "83683744/83683744 [==============================] - 1s 0us/step\n"
          ]
        }
      ],
      "source": [
        "inc = Xception(include_top=False, weights='imagenet', input_shape=(128,128,3), classes=y_train.shape[1])"
      ]
    },
    {
      "cell_type": "code",
      "execution_count": 31,
      "metadata": {
        "id": "8UTfh7BB6eAi"
      },
      "outputs": [],
      "source": [
        "model_inc = Sequential()\n",
        "model_inc.add(inc)\n",
        "model_inc.add(Flatten())\n",
        "# model_inc.add(Dense(1024,activation=('relu'),input_dim=512))\n",
        "# model_inc.add(Dense(512,activation=('relu')))\n",
        "# model_inc.add(Dense(256,activation=('relu')))\n",
        "# model_inc.add(Dropout(.3))\n",
        "# model_inc.add(Dense(128,activation=('relu')))\n",
        "# model_inc.add(Dropout(.2))\n",
        "model_inc.add(Dense(26,activation=('softmax')))"
      ]
    },
    {
      "cell_type": "code",
      "execution_count": 32,
      "metadata": {
        "id": "5MWIVe_C6hX6"
      },
      "outputs": [],
      "source": [
        "batch_size= 36\n",
        "epochs=30\n",
        "learning_rate=.001\n",
        "sgd=SGD(learning_rate,momentum=.9,nesterov=False)"
      ]
    },
    {
      "cell_type": "code",
      "execution_count": 33,
      "metadata": {
        "id": "2kRbXlsA6jEz"
      },
      "outputs": [],
      "source": [
        "model_inc.compile(optimizer=sgd,loss='categorical_crossentropy',metrics=['accuracy'])\n",
        "lrr= ReduceLROnPlateau(monitor='val_accuracy', factor=.01,  patience=3, min_lr=1e-5)"
      ]
    },
    {
      "cell_type": "code",
      "execution_count": 34,
      "metadata": {
        "colab": {
          "base_uri": "https://localhost:8080/",
          "height": 380
        },
        "id": "JTjwjcaG6j16",
        "outputId": "7ea0004f-fc47-47f5-cd31-9c4f4e35a65b"
      },
      "outputs": [
        {
          "output_type": "stream",
          "name": "stdout",
          "text": [
            "  8/334 [..............................] - ETA: 53:54 - loss: 3.3641 - accuracy: 0.0509"
          ]
        },
        {
          "output_type": "error",
          "ename": "KeyboardInterrupt",
          "evalue": "ignored",
          "traceback": [
            "\u001b[0;31m---------------------------------------------------------------------------\u001b[0m",
            "\u001b[0;31mKeyboardInterrupt\u001b[0m                         Traceback (most recent call last)",
            "\u001b[0;32m<ipython-input-34-7147635c7b59>\u001b[0m in \u001b[0;36m<cell line: 1>\u001b[0;34m()\u001b[0m\n\u001b[0;32m----> 1\u001b[0;31m \u001b[0mhist\u001b[0m \u001b[0;34m=\u001b[0m \u001b[0mmodel_inc\u001b[0m\u001b[0;34m.\u001b[0m\u001b[0mfit\u001b[0m\u001b[0;34m(\u001b[0m\u001b[0mtrain_generator\u001b[0m\u001b[0;34m.\u001b[0m\u001b[0mflow\u001b[0m\u001b[0;34m(\u001b[0m\u001b[0mx_train\u001b[0m\u001b[0;34m,\u001b[0m \u001b[0my_train\u001b[0m\u001b[0;34m,\u001b[0m \u001b[0mbatch_size\u001b[0m \u001b[0;34m=\u001b[0m \u001b[0mbatch_size\u001b[0m\u001b[0;34m)\u001b[0m\u001b[0;34m,\u001b[0m \u001b[0mepochs\u001b[0m\u001b[0;34m=\u001b[0m\u001b[0mepochs\u001b[0m\u001b[0;34m,\u001b[0m \u001b[0msteps_per_epoch\u001b[0m \u001b[0;34m=\u001b[0m \u001b[0mx_train\u001b[0m\u001b[0;34m.\u001b[0m\u001b[0mshape\u001b[0m\u001b[0;34m[\u001b[0m\u001b[0;36m0\u001b[0m\u001b[0;34m]\u001b[0m\u001b[0;34m//\u001b[0m\u001b[0mbatch_size\u001b[0m\u001b[0;34m,\u001b[0m \u001b[0mvalidation_data\u001b[0m \u001b[0;34m=\u001b[0m \u001b[0mval_generator\u001b[0m\u001b[0;34m.\u001b[0m\u001b[0mflow\u001b[0m\u001b[0;34m(\u001b[0m\u001b[0mx_val\u001b[0m\u001b[0;34m,\u001b[0m \u001b[0my_val\u001b[0m\u001b[0;34m,\u001b[0m \u001b[0mbatch_size\u001b[0m \u001b[0;34m=\u001b[0m \u001b[0mbatch_size\u001b[0m\u001b[0;34m)\u001b[0m\u001b[0;34m,\u001b[0m \u001b[0mcallbacks\u001b[0m \u001b[0;34m=\u001b[0m \u001b[0;34m[\u001b[0m\u001b[0mlrr\u001b[0m\u001b[0;34m]\u001b[0m\u001b[0;34m,\u001b[0m \u001b[0mverbose\u001b[0m \u001b[0;34m=\u001b[0m \u001b[0;36m1\u001b[0m\u001b[0;34m)\u001b[0m\u001b[0;34m\u001b[0m\u001b[0;34m\u001b[0m\u001b[0m\n\u001b[0m",
            "\u001b[0;32m/usr/local/lib/python3.10/dist-packages/keras/utils/traceback_utils.py\u001b[0m in \u001b[0;36merror_handler\u001b[0;34m(*args, **kwargs)\u001b[0m\n\u001b[1;32m     63\u001b[0m         \u001b[0mfiltered_tb\u001b[0m \u001b[0;34m=\u001b[0m \u001b[0;32mNone\u001b[0m\u001b[0;34m\u001b[0m\u001b[0;34m\u001b[0m\u001b[0m\n\u001b[1;32m     64\u001b[0m         \u001b[0;32mtry\u001b[0m\u001b[0;34m:\u001b[0m\u001b[0;34m\u001b[0m\u001b[0;34m\u001b[0m\u001b[0m\n\u001b[0;32m---> 65\u001b[0;31m             \u001b[0;32mreturn\u001b[0m \u001b[0mfn\u001b[0m\u001b[0;34m(\u001b[0m\u001b[0;34m*\u001b[0m\u001b[0margs\u001b[0m\u001b[0;34m,\u001b[0m \u001b[0;34m**\u001b[0m\u001b[0mkwargs\u001b[0m\u001b[0;34m)\u001b[0m\u001b[0;34m\u001b[0m\u001b[0;34m\u001b[0m\u001b[0m\n\u001b[0m\u001b[1;32m     66\u001b[0m         \u001b[0;32mexcept\u001b[0m \u001b[0mException\u001b[0m \u001b[0;32mas\u001b[0m \u001b[0me\u001b[0m\u001b[0;34m:\u001b[0m\u001b[0;34m\u001b[0m\u001b[0;34m\u001b[0m\u001b[0m\n\u001b[1;32m     67\u001b[0m             \u001b[0mfiltered_tb\u001b[0m \u001b[0;34m=\u001b[0m \u001b[0m_process_traceback_frames\u001b[0m\u001b[0;34m(\u001b[0m\u001b[0me\u001b[0m\u001b[0;34m.\u001b[0m\u001b[0m__traceback__\u001b[0m\u001b[0;34m)\u001b[0m\u001b[0;34m\u001b[0m\u001b[0;34m\u001b[0m\u001b[0m\n",
            "\u001b[0;32m/usr/local/lib/python3.10/dist-packages/keras/engine/training.py\u001b[0m in \u001b[0;36mfit\u001b[0;34m(self, x, y, batch_size, epochs, verbose, callbacks, validation_split, validation_data, shuffle, class_weight, sample_weight, initial_epoch, steps_per_epoch, validation_steps, validation_batch_size, validation_freq, max_queue_size, workers, use_multiprocessing)\u001b[0m\n\u001b[1;32m   1683\u001b[0m                         ):\n\u001b[1;32m   1684\u001b[0m                             \u001b[0mcallbacks\u001b[0m\u001b[0;34m.\u001b[0m\u001b[0mon_train_batch_begin\u001b[0m\u001b[0;34m(\u001b[0m\u001b[0mstep\u001b[0m\u001b[0;34m)\u001b[0m\u001b[0;34m\u001b[0m\u001b[0;34m\u001b[0m\u001b[0m\n\u001b[0;32m-> 1685\u001b[0;31m                             \u001b[0mtmp_logs\u001b[0m \u001b[0;34m=\u001b[0m \u001b[0mself\u001b[0m\u001b[0;34m.\u001b[0m\u001b[0mtrain_function\u001b[0m\u001b[0;34m(\u001b[0m\u001b[0miterator\u001b[0m\u001b[0;34m)\u001b[0m\u001b[0;34m\u001b[0m\u001b[0;34m\u001b[0m\u001b[0m\n\u001b[0m\u001b[1;32m   1686\u001b[0m                             \u001b[0;32mif\u001b[0m \u001b[0mdata_handler\u001b[0m\u001b[0;34m.\u001b[0m\u001b[0mshould_sync\u001b[0m\u001b[0;34m:\u001b[0m\u001b[0;34m\u001b[0m\u001b[0;34m\u001b[0m\u001b[0m\n\u001b[1;32m   1687\u001b[0m                                 \u001b[0mcontext\u001b[0m\u001b[0;34m.\u001b[0m\u001b[0masync_wait\u001b[0m\u001b[0;34m(\u001b[0m\u001b[0;34m)\u001b[0m\u001b[0;34m\u001b[0m\u001b[0;34m\u001b[0m\u001b[0m\n",
            "\u001b[0;32m/usr/local/lib/python3.10/dist-packages/tensorflow/python/util/traceback_utils.py\u001b[0m in \u001b[0;36merror_handler\u001b[0;34m(*args, **kwargs)\u001b[0m\n\u001b[1;32m    148\u001b[0m     \u001b[0mfiltered_tb\u001b[0m \u001b[0;34m=\u001b[0m \u001b[0;32mNone\u001b[0m\u001b[0;34m\u001b[0m\u001b[0;34m\u001b[0m\u001b[0m\n\u001b[1;32m    149\u001b[0m     \u001b[0;32mtry\u001b[0m\u001b[0;34m:\u001b[0m\u001b[0;34m\u001b[0m\u001b[0;34m\u001b[0m\u001b[0m\n\u001b[0;32m--> 150\u001b[0;31m       \u001b[0;32mreturn\u001b[0m \u001b[0mfn\u001b[0m\u001b[0;34m(\u001b[0m\u001b[0;34m*\u001b[0m\u001b[0margs\u001b[0m\u001b[0;34m,\u001b[0m \u001b[0;34m**\u001b[0m\u001b[0mkwargs\u001b[0m\u001b[0;34m)\u001b[0m\u001b[0;34m\u001b[0m\u001b[0;34m\u001b[0m\u001b[0m\n\u001b[0m\u001b[1;32m    151\u001b[0m     \u001b[0;32mexcept\u001b[0m \u001b[0mException\u001b[0m \u001b[0;32mas\u001b[0m \u001b[0me\u001b[0m\u001b[0;34m:\u001b[0m\u001b[0;34m\u001b[0m\u001b[0;34m\u001b[0m\u001b[0m\n\u001b[1;32m    152\u001b[0m       \u001b[0mfiltered_tb\u001b[0m \u001b[0;34m=\u001b[0m \u001b[0m_process_traceback_frames\u001b[0m\u001b[0;34m(\u001b[0m\u001b[0me\u001b[0m\u001b[0;34m.\u001b[0m\u001b[0m__traceback__\u001b[0m\u001b[0;34m)\u001b[0m\u001b[0;34m\u001b[0m\u001b[0;34m\u001b[0m\u001b[0m\n",
            "\u001b[0;32m/usr/local/lib/python3.10/dist-packages/tensorflow/python/eager/polymorphic_function/polymorphic_function.py\u001b[0m in \u001b[0;36m__call__\u001b[0;34m(self, *args, **kwds)\u001b[0m\n\u001b[1;32m    892\u001b[0m \u001b[0;34m\u001b[0m\u001b[0m\n\u001b[1;32m    893\u001b[0m       \u001b[0;32mwith\u001b[0m \u001b[0mOptionalXlaContext\u001b[0m\u001b[0;34m(\u001b[0m\u001b[0mself\u001b[0m\u001b[0;34m.\u001b[0m\u001b[0m_jit_compile\u001b[0m\u001b[0;34m)\u001b[0m\u001b[0;34m:\u001b[0m\u001b[0;34m\u001b[0m\u001b[0;34m\u001b[0m\u001b[0m\n\u001b[0;32m--> 894\u001b[0;31m         \u001b[0mresult\u001b[0m \u001b[0;34m=\u001b[0m \u001b[0mself\u001b[0m\u001b[0;34m.\u001b[0m\u001b[0m_call\u001b[0m\u001b[0;34m(\u001b[0m\u001b[0;34m*\u001b[0m\u001b[0margs\u001b[0m\u001b[0;34m,\u001b[0m \u001b[0;34m**\u001b[0m\u001b[0mkwds\u001b[0m\u001b[0;34m)\u001b[0m\u001b[0;34m\u001b[0m\u001b[0;34m\u001b[0m\u001b[0m\n\u001b[0m\u001b[1;32m    895\u001b[0m \u001b[0;34m\u001b[0m\u001b[0m\n\u001b[1;32m    896\u001b[0m       \u001b[0mnew_tracing_count\u001b[0m \u001b[0;34m=\u001b[0m \u001b[0mself\u001b[0m\u001b[0;34m.\u001b[0m\u001b[0mexperimental_get_tracing_count\u001b[0m\u001b[0;34m(\u001b[0m\u001b[0;34m)\u001b[0m\u001b[0;34m\u001b[0m\u001b[0;34m\u001b[0m\u001b[0m\n",
            "\u001b[0;32m/usr/local/lib/python3.10/dist-packages/tensorflow/python/eager/polymorphic_function/polymorphic_function.py\u001b[0m in \u001b[0;36m_call\u001b[0;34m(self, *args, **kwds)\u001b[0m\n\u001b[1;32m    924\u001b[0m       \u001b[0;31m# In this case we have created variables on the first call, so we run the\u001b[0m\u001b[0;34m\u001b[0m\u001b[0;34m\u001b[0m\u001b[0m\n\u001b[1;32m    925\u001b[0m       \u001b[0;31m# defunned version which is guaranteed to never create variables.\u001b[0m\u001b[0;34m\u001b[0m\u001b[0;34m\u001b[0m\u001b[0m\n\u001b[0;32m--> 926\u001b[0;31m       \u001b[0;32mreturn\u001b[0m \u001b[0mself\u001b[0m\u001b[0;34m.\u001b[0m\u001b[0m_no_variable_creation_fn\u001b[0m\u001b[0;34m(\u001b[0m\u001b[0;34m*\u001b[0m\u001b[0margs\u001b[0m\u001b[0;34m,\u001b[0m \u001b[0;34m**\u001b[0m\u001b[0mkwds\u001b[0m\u001b[0;34m)\u001b[0m  \u001b[0;31m# pylint: disable=not-callable\u001b[0m\u001b[0;34m\u001b[0m\u001b[0;34m\u001b[0m\u001b[0m\n\u001b[0m\u001b[1;32m    927\u001b[0m     \u001b[0;32melif\u001b[0m \u001b[0mself\u001b[0m\u001b[0;34m.\u001b[0m\u001b[0m_variable_creation_fn\u001b[0m \u001b[0;32mis\u001b[0m \u001b[0;32mnot\u001b[0m \u001b[0;32mNone\u001b[0m\u001b[0;34m:\u001b[0m\u001b[0;34m\u001b[0m\u001b[0;34m\u001b[0m\u001b[0m\n\u001b[1;32m    928\u001b[0m       \u001b[0;31m# Release the lock early so that multiple threads can perform the call\u001b[0m\u001b[0;34m\u001b[0m\u001b[0;34m\u001b[0m\u001b[0m\n",
            "\u001b[0;32m/usr/local/lib/python3.10/dist-packages/tensorflow/python/eager/polymorphic_function/tracing_compiler.py\u001b[0m in \u001b[0;36m__call__\u001b[0;34m(self, *args, **kwargs)\u001b[0m\n\u001b[1;32m    141\u001b[0m       (concrete_function,\n\u001b[1;32m    142\u001b[0m        filtered_flat_args) = self._maybe_define_function(args, kwargs)\n\u001b[0;32m--> 143\u001b[0;31m     return concrete_function._call_flat(\n\u001b[0m\u001b[1;32m    144\u001b[0m         filtered_flat_args, captured_inputs=concrete_function.captured_inputs)  # pylint: disable=protected-access\n\u001b[1;32m    145\u001b[0m \u001b[0;34m\u001b[0m\u001b[0m\n",
            "\u001b[0;32m/usr/local/lib/python3.10/dist-packages/tensorflow/python/eager/polymorphic_function/monomorphic_function.py\u001b[0m in \u001b[0;36m_call_flat\u001b[0;34m(self, args, captured_inputs, cancellation_manager)\u001b[0m\n\u001b[1;32m   1755\u001b[0m         and executing_eagerly):\n\u001b[1;32m   1756\u001b[0m       \u001b[0;31m# No tape is watching; skip to running the function.\u001b[0m\u001b[0;34m\u001b[0m\u001b[0;34m\u001b[0m\u001b[0m\n\u001b[0;32m-> 1757\u001b[0;31m       return self._build_call_outputs(self._inference_function.call(\n\u001b[0m\u001b[1;32m   1758\u001b[0m           ctx, args, cancellation_manager=cancellation_manager))\n\u001b[1;32m   1759\u001b[0m     forward_backward = self._select_forward_and_backward_functions(\n",
            "\u001b[0;32m/usr/local/lib/python3.10/dist-packages/tensorflow/python/eager/polymorphic_function/monomorphic_function.py\u001b[0m in \u001b[0;36mcall\u001b[0;34m(self, ctx, args, cancellation_manager)\u001b[0m\n\u001b[1;32m    379\u001b[0m       \u001b[0;32mwith\u001b[0m \u001b[0m_InterpolateFunctionError\u001b[0m\u001b[0;34m(\u001b[0m\u001b[0mself\u001b[0m\u001b[0;34m)\u001b[0m\u001b[0;34m:\u001b[0m\u001b[0;34m\u001b[0m\u001b[0;34m\u001b[0m\u001b[0m\n\u001b[1;32m    380\u001b[0m         \u001b[0;32mif\u001b[0m \u001b[0mcancellation_manager\u001b[0m \u001b[0;32mis\u001b[0m \u001b[0;32mNone\u001b[0m\u001b[0;34m:\u001b[0m\u001b[0;34m\u001b[0m\u001b[0;34m\u001b[0m\u001b[0m\n\u001b[0;32m--> 381\u001b[0;31m           outputs = execute.execute(\n\u001b[0m\u001b[1;32m    382\u001b[0m               \u001b[0mstr\u001b[0m\u001b[0;34m(\u001b[0m\u001b[0mself\u001b[0m\u001b[0;34m.\u001b[0m\u001b[0msignature\u001b[0m\u001b[0;34m.\u001b[0m\u001b[0mname\u001b[0m\u001b[0;34m)\u001b[0m\u001b[0;34m,\u001b[0m\u001b[0;34m\u001b[0m\u001b[0;34m\u001b[0m\u001b[0m\n\u001b[1;32m    383\u001b[0m               \u001b[0mnum_outputs\u001b[0m\u001b[0;34m=\u001b[0m\u001b[0mself\u001b[0m\u001b[0;34m.\u001b[0m\u001b[0m_num_outputs\u001b[0m\u001b[0;34m,\u001b[0m\u001b[0;34m\u001b[0m\u001b[0;34m\u001b[0m\u001b[0m\n",
            "\u001b[0;32m/usr/local/lib/python3.10/dist-packages/tensorflow/python/eager/execute.py\u001b[0m in \u001b[0;36mquick_execute\u001b[0;34m(op_name, num_outputs, inputs, attrs, ctx, name)\u001b[0m\n\u001b[1;32m     50\u001b[0m   \u001b[0;32mtry\u001b[0m\u001b[0;34m:\u001b[0m\u001b[0;34m\u001b[0m\u001b[0;34m\u001b[0m\u001b[0m\n\u001b[1;32m     51\u001b[0m     \u001b[0mctx\u001b[0m\u001b[0;34m.\u001b[0m\u001b[0mensure_initialized\u001b[0m\u001b[0;34m(\u001b[0m\u001b[0;34m)\u001b[0m\u001b[0;34m\u001b[0m\u001b[0;34m\u001b[0m\u001b[0m\n\u001b[0;32m---> 52\u001b[0;31m     tensors = pywrap_tfe.TFE_Py_Execute(ctx._handle, device_name, op_name,\n\u001b[0m\u001b[1;32m     53\u001b[0m                                         inputs, attrs, num_outputs)\n\u001b[1;32m     54\u001b[0m   \u001b[0;32mexcept\u001b[0m \u001b[0mcore\u001b[0m\u001b[0;34m.\u001b[0m\u001b[0m_NotOkStatusException\u001b[0m \u001b[0;32mas\u001b[0m \u001b[0me\u001b[0m\u001b[0;34m:\u001b[0m\u001b[0;34m\u001b[0m\u001b[0;34m\u001b[0m\u001b[0m\n",
            "\u001b[0;31mKeyboardInterrupt\u001b[0m: "
          ]
        }
      ],
      "source": [
        "hist = model_inc.fit(train_generator.flow(x_train, y_train, batch_size = batch_size), epochs=epochs, steps_per_epoch = x_train.shape[0]//batch_size, validation_data = val_generator.flow(x_val, y_val, batch_size = batch_size), callbacks = [lrr], verbose = 1)"
      ]
    },
    {
      "cell_type": "code",
      "execution_count": null,
      "metadata": {
        "colab": {
          "base_uri": "https://localhost:8080/",
          "height": 472
        },
        "id": "HKzC5_xb6pfq",
        "outputId": "a67637e4-2381-4bee-f63a-a5c331832a49"
      },
      "outputs": [
        {
          "data": {
            "image/png": "[encoded data removed]",
            "text/plain": [
              "<Figure size 640x480 with 1 Axes>"
            ]
          },
          "metadata": {},
          "output_type": "display_data"
        }
      ],
      "source": [
        "plt.plot(hist.history[\"accuracy\"])\n",
        "plt.plot(hist.history['val_accuracy'])\n",
        "plt.ylim(0,1)\n",
        "plt.title(\"Model accuracy\")\n",
        "plt.ylabel(\"Accuracy\")\n",
        "plt.xlabel(\"Epochs\")\n",
        "plt.legend([\"Accuracy\",\"Validation Accuracy\"])\n",
        "plt.show()"
      ]
    },
    {
      "cell_type": "code",
      "execution_count": null,
      "metadata": {
        "colab": {
          "base_uri": "https://localhost:8080/",
          "height": 472
        },
        "id": "R-31Hwh46s2h",
        "outputId": "2c28faca-0315-4c8d-8f2d-02aa80ff8c76"
      },
      "outputs": [
        {
          "data": {
            "image/png": "[encoded data removed]",
            "text/plain": [
              "<Figure size 640x480 with 1 Axes>"
            ]
          },
          "metadata": {},
          "output_type": "display_data"
        }
      ],
      "source": [
        "plt.plot(hist.history[\"loss\"])\n",
        "plt.plot(hist.history['val_loss'])\n",
        "plt.title(\"Model Loss\")\n",
        "plt.ylabel(\"Loss\")\n",
        "plt.xlabel(\"Epochs\")\n",
        "plt.legend([\"Loss\",\"Validation Loss\"])\n",
        "plt.show()"
      ]
    },
    {
      "cell_type": "code",
      "execution_count": null,
      "metadata": {
        "colab": {
          "base_uri": "https://localhost:8080/"
        },
        "id": "G7NBagcJ6vuS",
        "outputId": "80ff1b7e-3468-431c-9af7-2914ab40eec0"
      },
      "outputs": [
        {
          "name": "stdout",
          "output_type": "stream",
          "text": [
            "136/136 [==============================] - 4s 23ms/step\n"
          ]
        }
      ],
      "source": [
        "y_pred1 = model_inc.predict(x_test)\n",
        "y_true = np.argmax(y_pred1,axis=1)\n",
        "y_demo = np.argmax(y_test,axis=1)"
      ]
    },
    {
      "cell_type": "code",
      "execution_count": null,
      "metadata": {
        "colab": {
          "base_uri": "https://localhost:8080/"
        },
        "id": "sX1vmGFR68li",
        "outputId": "1d8c7939-a22f-401d-c5e3-ba0b164efc7e"
      },
      "outputs": [
        {
          "data": {
            "text/plain": [
              "0.8461004397130294"
            ]
          },
          "execution_count": 28,
          "metadata": {},
          "output_type": "execute_result"
        }
      ],
      "source": [
        "from sklearn.metrics import accuracy_score\n",
        "accuracy_score(y_true, y_demo)"
      ]
    },
    {
      "cell_type": "code",
      "execution_count": null,
      "metadata": {
        "colab": {
          "base_uri": "https://localhost:8080/"
        },
        "id": "Rxpbn4-c6-T5",
        "outputId": "c5b816f7-f0c6-453b-8f5e-fed8f6fc15ff"
      },
      "outputs": [
        {
          "data": {
            "text/plain": [
              "0.8453778938327472"
            ]
          },
          "execution_count": 29,
          "metadata": {},
          "output_type": "execute_result"
        }
      ],
      "source": [
        "from sklearn.metrics import f1_score\n",
        "f1_score(y_true, y_demo, average='weighted')"
      ]
    },
    {
      "cell_type": "code",
      "execution_count": null,
      "metadata": {
        "colab": {
          "base_uri": "https://localhost:8080/"
        },
        "id": "l7Nsj_hL7AQ4",
        "outputId": "ff316992-2768-407e-954c-8db9c287e441"
      },
      "outputs": [
        {
          "data": {
            "text/plain": [
              "0.8461004397130294"
            ]
          },
          "execution_count": 30,
          "metadata": {},
          "output_type": "execute_result"
        }
      ],
      "source": [
        "from sklearn.metrics import recall_score\n",
        "recall_score(y_true,y_demo,average='weighted')"
      ]
    },
    {
      "cell_type": "code",
      "execution_count": null,
      "metadata": {
        "colab": {
          "base_uri": "https://localhost:8080/"
        },
        "id": "p2f4dr5r7Bhp",
        "outputId": "38851079-ea87-4929-aada-a250559a88fd"
      },
      "outputs": [
        {
          "data": {
            "text/plain": [
              "0.8461101400352993"
            ]
          },
          "execution_count": 31,
          "metadata": {},
          "output_type": "execute_result"
        }
      ],
      "source": [
        "from sklearn.metrics import precision_score\n",
        "precision_score(y_true,y_demo,average='weighted')"
      ]
    },
    {
      "cell_type": "code",
      "execution_count": null,
      "metadata": {
        "colab": {
          "base_uri": "https://localhost:8080/"
        },
        "id": "OosuxMNXlHcJ",
        "outputId": "efdec54c-3298-483a-c423-08f31c47bf9d"
      },
      "outputs": [
        {
          "name": "stdout",
          "output_type": "stream",
          "text": [
            "                      precision    recall  f1-score   support\n",
            "\n",
            "              Bari-4       0.96      0.97      0.97       129\n",
            "              BARI 7       0.83      0.85      0.84       291\n",
            "              BARI 9       0.64      0.53      0.58       106\n",
            "              BARI 8       0.60      0.58      0.59        26\n",
            "             BARI 11       0.16      0.13      0.14        46\n",
            "             BARI 13       0.93      0.88      0.90       149\n",
            "              BARI 4       0.95      0.95      0.95       198\n",
            "       African Jumbo       0.92      0.94      0.93        52\n",
            "         Baper baari       0.26      0.22      0.24        64\n",
            "             Bari 11       0.14      0.18      0.16        28\n",
            "   thai banana mango       0.08      0.09      0.08        35\n",
            "          Red Palmar       0.88      0.95      0.91       169\n",
            "           Modhurani       0.97      0.89      0.93        95\n",
            "         King Brunei       0.81      0.87      0.84        85\n",
            "         Hari-Bhanga       0.84      0.88      0.86       162\n",
            "            Amrupali       0.94      0.91      0.92       211\n",
            "            himsagar       0.92      0.90      0.91       284\n",
            "              Lengra       0.70      0.74      0.72        69\n",
            "                qzai       0.93      0.96      0.94       118\n",
            "          baper bari       0.77      0.85      0.81       162\n",
            "             Moriyam       0.90      0.92      0.91       134\n",
            "            Gopalvog       0.89      0.90      0.89       269\n",
            "              Fazlee       0.94      0.90      0.92       263\n",
            "         Brunei King       0.57      0.75      0.65        16\n",
            "     Indian Totapori       0.97      0.93      0.95       231\n",
            "                Qzai       0.87      0.90      0.88       221\n",
            "         Kacha mitha       0.90      0.91      0.90       217\n",
            "         Taiwani red       0.62      0.61      0.61       168\n",
            "Philippine Honey Dew       0.90      0.86      0.88       180\n",
            "         Thai Morium       0.92      0.89      0.91        95\n",
            "              Sabira       0.62      0.83      0.71        48\n",
            "\n",
            "            accuracy                           0.85      4321\n",
            "           macro avg       0.75      0.76      0.76      4321\n",
            "        weighted avg       0.85      0.85      0.85      4321\n",
            "\n"
          ]
        }
      ],
      "source": [
        "from sklearn.metrics import classification_report\n",
        "target_names=listOfProjati\n",
        "print(classification_report(y_true, y_demo, target_names=target_names))"
      ]
    },
    {
      "cell_type": "code",
      "execution_count": null,
      "metadata": {
        "id": "C35keGZW7Cxo"
      },
      "outputs": [],
      "source": [
        "from sklearn.metrics import confusion_matrix\n",
        "cm = confusion_matrix(y_true, y_demo)"
      ]
    },
    {
      "cell_type": "code",
      "execution_count": null,
      "metadata": {
        "id": "v8-A4MbVoMtx"
      },
      "outputs": [],
      "source": []
    },
    {
      "cell_type": "code",
      "execution_count": null,
      "metadata": {
        "id": "tNg44ECtkqpD"
      },
      "outputs": [],
      "source": [
        "from tensorflow import keras\n",
        "model = keras.models.load_model('XceptionNet')"
      ]
    },
    {
      "cell_type": "code",
      "execution_count": null,
      "metadata": {
        "id": "X7kquYMrmzbN"
      },
      "outputs": [],
      "source": []
    }
  ],
  "metadata": {
    "colab": {
      "provenance": []
    },
    "kernelspec": {
      "display_name": "Python 3",
      "name": "python3"
    },
    "language_info": {
      "name": "python"
    }
  },
  "nbformat": 4,
  "nbformat_minor": 0
}