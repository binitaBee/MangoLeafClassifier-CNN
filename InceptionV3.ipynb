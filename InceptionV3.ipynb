{
  "cells": [
    {
      "cell_type": "code",
      "execution_count": 11,
      "metadata": {
        "colab": {
          "base_uri": "https://localhost:8080/"
        },
        "id": "ZP9t1JBwgjiD",
        "outputId": "1d891081-cdb4-47b4-f3dc-8ae7c6e720f8"
      },
      "outputs": [
        {
          "output_type": "stream",
          "name": "stdout",
          "text": [
            "Drive already mounted at /content/drive; to attempt to forcibly remount, call drive.mount(\"/content/drive\", force_remount=True).\n"
          ]
        }
      ],
      "source": [
        "from google.colab import drive\n",
        "drive.mount('/content/drive')"
      ]
    },
    {
      "cell_type": "code",
      "execution_count": 12,
      "metadata": {
        "colab": {
          "base_uri": "https://localhost:8080/"
        },
        "id": "7E5nNGKY3p9Y",
        "outputId": "a192c282-7625-4963-cdd8-c8c74c5a0110"
      },
      "outputs": [
        {
          "output_type": "stream",
          "name": "stdout",
          "text": [
            "/content/drive/MyDrive/Preprocessed\n",
            "'African Jambo'   Fazlee\t      Maryam\n",
            " Aprupali\t 'Gopal Vog'\t      Modhurani\n",
            "'Baper Bari'\t  Haribhanga\t     'Phillipine Honey Dew'\n",
            "'Bari 11'\t 'Him Sagor'\t      Qzai\n",
            "'Bari 13'\t  image_data_pp.npy  'Red Palmar'\n",
            "'Bari 4'\t 'Indian Totapori'    Sabira\n",
            "'Bari 7'\t 'Kacha Mitha'\t     'Taiwani Red'\n",
            "'Bari 8'\t 'King Breunei'      'Thai Banana Mango'\n",
            "'Bari 9'\t  Lengra\t     'Thai Moryam'\n"
          ]
        }
      ],
      "source": [
        "%cd /content/drive/MyDrive/Preprocessed\n",
        "!ls"
      ]
    },
    {
      "cell_type": "code",
      "execution_count": 13,
      "metadata": {
        "colab": {
          "base_uri": "https://localhost:8080/"
        },
        "id": "oNvg2hXW4_-n",
        "outputId": "4ac9e4be-188f-4877-c69e-747f8a80ae35"
      },
      "outputs": [
        {
          "output_type": "execute_result",
          "data": {
            "text/plain": [
              "{'Lengra': '/Lengra',\n",
              " 'Fazlee': '/Fazlee',\n",
              " 'Haribhanga': '/Haribhanga',\n",
              " 'Thai Banana Mango': '/Thai Banana Mango',\n",
              " 'Bari 7': '/Bari 7',\n",
              " 'Bari 11': '/Bari 11',\n",
              " 'Bari 4': '/Bari 4',\n",
              " 'Bari 8': '/Bari 8',\n",
              " 'African Jambo': '/African Jambo',\n",
              " 'Sabira': '/Sabira',\n",
              " 'Phillipine Honey Dew': '/Phillipine Honey Dew',\n",
              " 'Maryam': '/Maryam',\n",
              " 'Indian Totapori': '/Indian Totapori',\n",
              " 'Kacha Mitha': '/Kacha Mitha',\n",
              " 'Thai Moryam': '/Thai Moryam',\n",
              " 'Modhurani': '/Modhurani',\n",
              " 'Baper Bari': '/Baper Bari',\n",
              " 'Red Palmar': '/Red Palmar',\n",
              " 'King Breunei': '/King Breunei',\n",
              " 'Taiwani Red': '/Taiwani Red',\n",
              " 'Qzai': '/Qzai',\n",
              " 'Him Sagor': '/Him Sagor',\n",
              " 'Gopal Vog': '/Gopal Vog',\n",
              " 'Bari 13': '/Bari 13',\n",
              " 'Aprupali': '/Aprupali',\n",
              " 'Bari 9': '/Bari 9'}"
            ]
          },
          "metadata": {},
          "execution_count": 13
        }
      ],
      "source": [
        "listOfProjati = []\n",
        "ProjatiDirectory = {}\n",
        "import os\n",
        "path = os.getcwd()\n",
        "for dir in os.listdir(path):\n",
        "  if os.path.isdir(dir):\n",
        "    if str(dir) != \"thai banana mango (renamed)\" and str(dir) != \"Jubair\":\n",
        "      listOfProjati.append(str(dir))\n",
        "      ProjatiDirectory[str(dir)] = '/' + str(dir)\n",
        "ProjatiDirectory"
      ]
    },
    {
      "cell_type": "code",
      "execution_count": 14,
      "metadata": {
        "colab": {
          "base_uri": "https://localhost:8080/"
        },
        "id": "Cgbtm_2N5G1n",
        "outputId": "fe42b9ee-a4ef-44bf-fef4-4fd8b49579e2"
      },
      "outputs": [
        {
          "output_type": "execute_result",
          "data": {
            "text/plain": [
              "{'Lengra': 366,\n",
              " 'Fazlee': 600,\n",
              " 'Haribhanga': 600,\n",
              " 'Thai Banana Mango': 612,\n",
              " 'Bari 7': 600,\n",
              " 'Bari 11': 600,\n",
              " 'Bari 4': 600,\n",
              " 'Bari 8': 600,\n",
              " 'African Jambo': 600,\n",
              " 'Sabira': 624,\n",
              " 'Phillipine Honey Dew': 708,\n",
              " 'Maryam': 1044,\n",
              " 'Indian Totapori': 726,\n",
              " 'Kacha Mitha': 846,\n",
              " 'Thai Moryam': 882,\n",
              " 'Modhurani': 600,\n",
              " 'Baper Bari': 600,\n",
              " 'Red Palmar': 414,\n",
              " 'King Breunei': 612,\n",
              " 'Taiwani Red': 354,\n",
              " 'Qzai': 810,\n",
              " 'Him Sagor': 438,\n",
              " 'Gopal Vog': 600,\n",
              " 'Bari 13': 510,\n",
              " 'Aprupali': 600,\n",
              " 'Bari 9': 600}"
            ]
          },
          "metadata": {},
          "execution_count": 14
        }
      ],
      "source": [
        "countDict = {}\n",
        "for projati in listOfProjati:\n",
        "  subfolderPath = path + ProjatiDirectory[projati]\n",
        "  c = 0\n",
        "  for file in os.listdir(subfolderPath):\n",
        "    if file.endswith('.jpg') or file.endswith('.JPG') or file.endswith('.jpeg') or file.endswith('.JPEG')  or file.endswith('.PNG') or file.endswith('.png'):\n",
        "      # file_name, file_extension = os.path.splitext(file)\n",
        "      c += 1\n",
        "  countDict[projati] = c\n",
        "countDict"
      ]
    },
    {
      "cell_type": "code",
      "execution_count": 21,
      "metadata": {
        "id": "G2WcSIJy561k",
        "colab": {
          "base_uri": "https://localhost:8080/"
        },
        "outputId": "6c0e3d18-b901-4cef-9578-7bea5f411071"
      },
      "outputs": [
        {
          "output_type": "stream",
          "name": "stderr",
          "text": [
            "<ipython-input-21-f0493e41d889>:1: VisibleDeprecationWarning: Creating an ndarray from ragged nested sequences (which is a list-or-tuple of lists-or-tuples-or ndarrays with different lengths or shapes) is deprecated. If you meant to do this, you must specify 'dtype=object' when creating the ndarray.\n",
            "  img_data = np.array(img_data_array)\n"
          ]
        }
      ],
      "source": [
        "img_data = np.array(img_data_array)"
      ]
    },
    {
      "cell_type": "code",
      "execution_count": 16,
      "metadata": {
        "id": "zYLvu1Hi5spt"
      },
      "outputs": [],
      "source": [
        "import numpy as np\n",
        "import pandas as pd\n",
        "import os\n",
        "import tensorflow as tf\n",
        "import cv2\n",
        "from tensorflow import keras\n",
        "from tensorflow.keras.layers import Dense, LSTM, Dropout, GRU, Bidirectional\n",
        "from tensorflow.keras.models import Sequential, Model\n",
        "from  matplotlib import pyplot as plt\n",
        "import matplotlib.image as mpimg\n",
        "import random\n",
        "%matplotlib inline"
      ]
    },
    {
      "cell_type": "code",
      "source": [
        "%cd /content/drive/MyDrive/Preprocessed\n",
        "!ls"
      ],
      "metadata": {
        "colab": {
          "base_uri": "https://localhost:8080/"
        },
        "id": "AtkIi4YnxHlv",
        "outputId": "7f29c551-76e1-44ac-cdf6-f3ff594465a3"
      },
      "execution_count": 23,
      "outputs": [
        {
          "output_type": "stream",
          "name": "stdout",
          "text": [
            "/content/drive/MyDrive/Preprocessed\n",
            "'African Jambo'   Fazlee\t      Maryam\n",
            " Aprupali\t 'Gopal Vog'\t      Modhurani\n",
            "'Baper Bari'\t  Haribhanga\t     'Phillipine Honey Dew'\n",
            "'Bari 11'\t 'Him Sagor'\t      Qzai\n",
            "'Bari 13'\t  image_data_pp.npy  'Red Palmar'\n",
            "'Bari 4'\t 'Indian Totapori'    Sabira\n",
            "'Bari 7'\t 'Kacha Mitha'\t     'Taiwani Red'\n",
            "'Bari 8'\t 'King Breunei'      'Thai Banana Mango'\n",
            "'Bari 9'\t  Lengra\t     'Thai Moryam'\n"
          ]
        }
      ]
    },
    {
      "cell_type": "code",
      "source": [
        "img_data=np.load('image_data_pp.npy')\n",
        "img_data"
      ],
      "metadata": {
        "colab": {
          "base_uri": "https://localhost:8080/"
        },
        "id": "u3fg3U3txJVT",
        "outputId": "61161d4b-d759-4d1c-9385-49a400ad7f07"
      },
      "execution_count": 24,
      "outputs": [
        {
          "output_type": "execute_result",
          "data": {
            "text/plain": [
              "array([[[[0.64705884, 0.6431373 , 0.654902  ],\n",
              "         [0.64705884, 0.6431373 , 0.65882355],\n",
              "         [0.64705884, 0.6431373 , 0.65882355],\n",
              "         ...,\n",
              "         [0.7921569 , 0.8156863 , 0.80784315],\n",
              "         [0.79607844, 0.8117647 , 0.80784315],\n",
              "         [0.8       , 0.8117647 , 0.8117647 ]],\n",
              "\n",
              "        [[0.6431373 , 0.6392157 , 0.64705884],\n",
              "         [0.6431373 , 0.6392157 , 0.654902  ],\n",
              "         [0.6431373 , 0.6392157 , 0.654902  ],\n",
              "         ...,\n",
              "         [0.8       , 0.8117647 , 0.80784315],\n",
              "         [0.8039216 , 0.8117647 , 0.80784315],\n",
              "         [0.8039216 , 0.8117647 , 0.8117647 ]],\n",
              "\n",
              "        [[0.6431373 , 0.6392157 , 0.6509804 ],\n",
              "         [0.64705884, 0.6431373 , 0.654902  ],\n",
              "         [0.6431373 , 0.6392157 , 0.654902  ],\n",
              "         ...,\n",
              "         [0.8       , 0.8117647 , 0.8039216 ],\n",
              "         [0.8039216 , 0.8156863 , 0.80784315],\n",
              "         [0.8       , 0.8117647 , 0.80784315]],\n",
              "\n",
              "        ...,\n",
              "\n",
              "        [[0.7882353 , 0.78039217, 0.78039217],\n",
              "         [0.7921569 , 0.78431374, 0.78431374],\n",
              "         [0.7921569 , 0.78431374, 0.78431374],\n",
              "         ...,\n",
              "         [0.88235295, 0.88235295, 0.88235295],\n",
              "         [0.88235295, 0.88235295, 0.88235295],\n",
              "         [0.88235295, 0.88235295, 0.88235295]],\n",
              "\n",
              "        [[0.7921569 , 0.78431374, 0.78431374],\n",
              "         [0.7921569 , 0.78431374, 0.78431374],\n",
              "         [0.7921569 , 0.78431374, 0.78431374],\n",
              "         ...,\n",
              "         [0.88235295, 0.88235295, 0.88235295],\n",
              "         [0.8784314 , 0.8784314 , 0.8784314 ],\n",
              "         [0.88235295, 0.88235295, 0.88235295]],\n",
              "\n",
              "        [[0.7921569 , 0.78431374, 0.7882353 ],\n",
              "         [0.7921569 , 0.78431374, 0.78431374],\n",
              "         [0.7882353 , 0.78039217, 0.78039217],\n",
              "         ...,\n",
              "         [0.88235295, 0.88235295, 0.88235295],\n",
              "         [0.88235295, 0.88235295, 0.88235295],\n",
              "         [0.8745098 , 0.8745098 , 0.8745098 ]]],\n",
              "\n",
              "\n",
              "       [[[0.8392157 , 0.8392157 , 0.8392157 ],\n",
              "         [0.84313726, 0.84313726, 0.84313726],\n",
              "         [0.84313726, 0.84313726, 0.84313726],\n",
              "         ...,\n",
              "         [0.7058824 , 0.7058824 , 0.7058824 ],\n",
              "         [0.7019608 , 0.7019608 , 0.7019608 ],\n",
              "         [0.6901961 , 0.6901961 , 0.69411767]],\n",
              "\n",
              "        [[0.8392157 , 0.8392157 , 0.8392157 ],\n",
              "         [0.8392157 , 0.8392157 , 0.8392157 ],\n",
              "         [0.8392157 , 0.8392157 , 0.8392157 ],\n",
              "         ...,\n",
              "         [0.69803923, 0.69411767, 0.69803923],\n",
              "         [0.6901961 , 0.6901961 , 0.6901961 ],\n",
              "         [0.68235296, 0.6862745 , 0.6862745 ]],\n",
              "\n",
              "        [[0.8392157 , 0.8392157 , 0.8392157 ],\n",
              "         [0.8352941 , 0.8352941 , 0.8352941 ],\n",
              "         [0.8392157 , 0.8392157 , 0.8392157 ],\n",
              "         ...,\n",
              "         [0.69411767, 0.69411767, 0.69411767],\n",
              "         [0.6862745 , 0.6862745 , 0.6862745 ],\n",
              "         [0.68235296, 0.68235296, 0.68235296]],\n",
              "\n",
              "        ...,\n",
              "\n",
              "        [[0.77254903, 0.7921569 , 0.78431374],\n",
              "         [0.7764706 , 0.79607844, 0.7882353 ],\n",
              "         [0.7764706 , 0.79607844, 0.7882353 ],\n",
              "         ...,\n",
              "         [0.6       , 0.60784316, 0.6156863 ],\n",
              "         [0.6       , 0.60784316, 0.6117647 ],\n",
              "         [0.6       , 0.60784316, 0.6117647 ]],\n",
              "\n",
              "        [[0.77254903, 0.7921569 , 0.78431374],\n",
              "         [0.77254903, 0.7921569 , 0.78431374],\n",
              "         [0.77254903, 0.7921569 , 0.78431374],\n",
              "         ...,\n",
              "         [0.6       , 0.6039216 , 0.6156863 ],\n",
              "         [0.6039216 , 0.6117647 , 0.6156863 ],\n",
              "         [0.6       , 0.60784316, 0.6117647 ]],\n",
              "\n",
              "        [[0.77254903, 0.7921569 , 0.78431374],\n",
              "         [0.7764706 , 0.79607844, 0.7882353 ],\n",
              "         [0.77254903, 0.7921569 , 0.78431374],\n",
              "         ...,\n",
              "         [0.60784316, 0.6117647 , 0.62352943],\n",
              "         [0.60784316, 0.6117647 , 0.627451  ],\n",
              "         [0.60784316, 0.6156863 , 0.627451  ]]],\n",
              "\n",
              "\n",
              "       [[[0.8666667 , 0.8745098 , 0.8745098 ],\n",
              "         [0.8666667 , 0.8745098 , 0.8745098 ],\n",
              "         [0.8666667 , 0.8745098 , 0.8745098 ],\n",
              "         ...,\n",
              "         [0.80784315, 0.8039216 , 0.8117647 ],\n",
              "         [0.80784315, 0.8039216 , 0.8117647 ],\n",
              "         [0.8117647 , 0.80784315, 0.8156863 ]],\n",
              "\n",
              "        [[0.8666667 , 0.8745098 , 0.8745098 ],\n",
              "         [0.8627451 , 0.87058824, 0.87058824],\n",
              "         [0.8627451 , 0.87058824, 0.87058824],\n",
              "         ...,\n",
              "         [0.80784315, 0.8039216 , 0.8117647 ],\n",
              "         [0.8039216 , 0.8       , 0.80784315],\n",
              "         [0.8       , 0.79607844, 0.8       ]],\n",
              "\n",
              "        [[0.8627451 , 0.87058824, 0.87058824],\n",
              "         [0.8627451 , 0.87058824, 0.87058824],\n",
              "         [0.8627451 , 0.87058824, 0.87058824],\n",
              "         ...,\n",
              "         [0.8       , 0.8       , 0.8039216 ],\n",
              "         [0.8       , 0.79607844, 0.8       ],\n",
              "         [0.8039216 , 0.8       , 0.8       ]],\n",
              "\n",
              "        ...,\n",
              "\n",
              "        [[0.7921569 , 0.8117647 , 0.80784315],\n",
              "         [0.7921569 , 0.8117647 , 0.80784315],\n",
              "         [0.7921569 , 0.8117647 , 0.80784315],\n",
              "         ...,\n",
              "         [0.5882353 , 0.5921569 , 0.60784316],\n",
              "         [0.5921569 , 0.59607846, 0.6117647 ],\n",
              "         [0.59607846, 0.6       , 0.6156863 ]],\n",
              "\n",
              "        [[0.7921569 , 0.8117647 , 0.80784315],\n",
              "         [0.7882353 , 0.80784315, 0.8039216 ],\n",
              "         [0.7921569 , 0.8117647 , 0.80784315],\n",
              "         ...,\n",
              "         [0.5921569 , 0.59607846, 0.6117647 ],\n",
              "         [0.59607846, 0.6       , 0.6156863 ],\n",
              "         [0.59607846, 0.6       , 0.6156863 ]],\n",
              "\n",
              "        [[0.7882353 , 0.80784315, 0.8039216 ],\n",
              "         [0.7882353 , 0.80784315, 0.8039216 ],\n",
              "         [0.7882353 , 0.80784315, 0.8       ],\n",
              "         ...,\n",
              "         [0.59607846, 0.6       , 0.6156863 ],\n",
              "         [0.59607846, 0.6       , 0.6156863 ],\n",
              "         [0.6       , 0.6039216 , 0.61960787]]],\n",
              "\n",
              "\n",
              "       ...,\n",
              "\n",
              "\n",
              "       [[[0.9607843 , 0.98039216, 0.9764706 ],\n",
              "         [0.9490196 , 0.9647059 , 0.972549  ],\n",
              "         [0.9607843 , 0.98039216, 0.9764706 ],\n",
              "         ...,\n",
              "         [0.9882353 , 0.99607843, 1.        ],\n",
              "         [0.9882353 , 0.99607843, 1.        ],\n",
              "         [0.99607843, 0.99607843, 0.99607843]],\n",
              "\n",
              "        [[0.9607843 , 0.9764706 , 0.9843137 ],\n",
              "         [0.9607843 , 0.9764706 , 0.9843137 ],\n",
              "         [0.9490196 , 0.9647059 , 0.972549  ],\n",
              "         ...,\n",
              "         [0.9882353 , 0.99607843, 1.        ],\n",
              "         [0.99607843, 0.99607843, 0.99607843],\n",
              "         [0.99607843, 0.99607843, 0.99607843]],\n",
              "\n",
              "        [[0.9490196 , 0.9647059 , 0.972549  ],\n",
              "         [0.9490196 , 0.9647059 , 0.972549  ],\n",
              "         [0.9490196 , 0.9647059 , 0.972549  ],\n",
              "         ...,\n",
              "         [0.9882353 , 0.99607843, 1.        ],\n",
              "         [0.9882353 , 0.99607843, 1.        ],\n",
              "         [0.99607843, 0.99607843, 0.99607843]],\n",
              "\n",
              "        ...,\n",
              "\n",
              "        [[0.94509804, 0.94509804, 0.94509804],\n",
              "         [0.95686275, 0.95686275, 0.95686275],\n",
              "         [0.95686275, 0.95686275, 0.95686275],\n",
              "         ...,\n",
              "         [1.        , 1.        , 1.        ],\n",
              "         [0.99215686, 0.99215686, 0.99215686],\n",
              "         [1.        , 1.        , 1.        ]],\n",
              "\n",
              "        [[0.9490196 , 0.95686275, 0.9529412 ],\n",
              "         [0.95686275, 0.95686275, 0.95686275],\n",
              "         [0.95686275, 0.95686275, 0.95686275],\n",
              "         ...,\n",
              "         [0.99215686, 0.99215686, 0.99215686],\n",
              "         [0.99215686, 0.99215686, 0.99215686],\n",
              "         [0.99215686, 0.99215686, 0.99215686]],\n",
              "\n",
              "        [[0.92941177, 0.9411765 , 0.93333334],\n",
              "         [0.92941177, 0.9411765 , 0.93333334],\n",
              "         [0.92941177, 0.9411765 , 0.93333334],\n",
              "         ...,\n",
              "         [0.99215686, 0.99215686, 0.99215686],\n",
              "         [0.99215686, 0.99215686, 0.99215686],\n",
              "         [1.        , 0.99215686, 0.9882353 ]]],\n",
              "\n",
              "\n",
              "       [[[1.        , 1.        , 1.        ],\n",
              "         [1.        , 1.        , 1.        ],\n",
              "         [1.        , 1.        , 1.        ],\n",
              "         ...,\n",
              "         [1.        , 1.        , 1.        ],\n",
              "         [1.        , 1.        , 1.        ],\n",
              "         [1.        , 1.        , 1.        ]],\n",
              "\n",
              "        [[1.        , 1.        , 1.        ],\n",
              "         [1.        , 1.        , 1.        ],\n",
              "         [1.        , 1.        , 1.        ],\n",
              "         ...,\n",
              "         [1.        , 1.        , 1.        ],\n",
              "         [1.        , 1.        , 1.        ],\n",
              "         [1.        , 1.        , 1.        ]],\n",
              "\n",
              "        [[1.        , 1.        , 1.        ],\n",
              "         [1.        , 1.        , 1.        ],\n",
              "         [1.        , 1.        , 1.        ],\n",
              "         ...,\n",
              "         [1.        , 1.        , 1.        ],\n",
              "         [1.        , 1.        , 1.        ],\n",
              "         [1.        , 1.        , 1.        ]],\n",
              "\n",
              "        ...,\n",
              "\n",
              "        [[0.972549  , 0.972549  , 0.972549  ],\n",
              "         [0.972549  , 0.9764706 , 0.9764706 ],\n",
              "         [0.9764706 , 0.9764706 , 0.972549  ],\n",
              "         ...,\n",
              "         [1.        , 1.        , 1.        ],\n",
              "         [1.        , 1.        , 1.        ],\n",
              "         [1.        , 1.        , 1.        ]],\n",
              "\n",
              "        [[0.96862745, 0.9764706 , 0.972549  ],\n",
              "         [0.972549  , 0.9764706 , 0.972549  ],\n",
              "         [0.972549  , 0.9764706 , 0.972549  ],\n",
              "         ...,\n",
              "         [1.        , 1.        , 1.        ],\n",
              "         [1.        , 1.        , 1.        ],\n",
              "         [1.        , 1.        , 1.        ]],\n",
              "\n",
              "        [[0.9647059 , 0.96862745, 0.96862745],\n",
              "         [0.96862745, 0.972549  , 0.96862745],\n",
              "         [0.96862745, 0.972549  , 0.96862745],\n",
              "         ...,\n",
              "         [1.        , 1.        , 1.        ],\n",
              "         [1.        , 1.        , 1.        ],\n",
              "         [1.        , 1.        , 1.        ]]],\n",
              "\n",
              "\n",
              "       [[[0.94509804, 0.9607843 , 0.9607843 ],\n",
              "         [0.9411765 , 0.95686275, 0.9607843 ],\n",
              "         [0.94509804, 0.9607843 , 0.9607843 ],\n",
              "         ...,\n",
              "         [0.96862745, 0.9764706 , 0.9764706 ],\n",
              "         [0.972549  , 0.9764706 , 0.9764706 ],\n",
              "         [0.9764706 , 0.9764706 , 0.9764706 ]],\n",
              "\n",
              "        [[0.94509804, 0.9607843 , 0.9647059 ],\n",
              "         [0.94509804, 0.9607843 , 0.9647059 ],\n",
              "         [0.9411765 , 0.95686275, 0.9607843 ],\n",
              "         ...,\n",
              "         [0.972549  , 0.9764706 , 0.9764706 ],\n",
              "         [0.9764706 , 0.9764706 , 0.9764706 ],\n",
              "         [0.9764706 , 0.9764706 , 0.9764706 ]],\n",
              "\n",
              "        [[0.9411765 , 0.95686275, 0.9607843 ],\n",
              "         [0.9411765 , 0.95686275, 0.9607843 ],\n",
              "         [0.9411765 , 0.95686275, 0.9607843 ],\n",
              "         ...,\n",
              "         [0.972549  , 0.9764706 , 0.9764706 ],\n",
              "         [0.972549  , 0.9764706 , 0.9764706 ],\n",
              "         [0.9764706 , 0.9764706 , 0.9764706 ]],\n",
              "\n",
              "        ...,\n",
              "\n",
              "        [[0.9019608 , 0.9019608 , 0.9019608 ],\n",
              "         [0.9019608 , 0.90588236, 0.90588236],\n",
              "         [0.90588236, 0.90588236, 0.9019608 ],\n",
              "         ...,\n",
              "         [0.9882353 , 0.9882353 , 0.9882353 ],\n",
              "         [0.9843137 , 0.9843137 , 0.9843137 ],\n",
              "         [0.9882353 , 0.9882353 , 0.9882353 ]],\n",
              "\n",
              "        [[0.8980392 , 0.90588236, 0.9019608 ],\n",
              "         [0.9019608 , 0.90588236, 0.9019608 ],\n",
              "         [0.9019608 , 0.90588236, 0.9019608 ],\n",
              "         ...,\n",
              "         [0.9843137 , 0.9843137 , 0.9843137 ],\n",
              "         [0.9843137 , 0.9843137 , 0.9843137 ],\n",
              "         [0.9843137 , 0.9843137 , 0.9843137 ]],\n",
              "\n",
              "        [[0.8901961 , 0.8980392 , 0.89411765],\n",
              "         [0.89411765, 0.9019608 , 0.89411765],\n",
              "         [0.89411765, 0.9019608 , 0.89411765],\n",
              "         ...,\n",
              "         [0.9843137 , 0.9843137 , 0.9843137 ],\n",
              "         [0.9843137 , 0.9843137 , 0.9843137 ],\n",
              "         [0.9882353 , 0.9843137 , 0.9843137 ]]]], dtype=float32)"
            ]
          },
          "metadata": {},
          "execution_count": 24
        }
      ]
    },
    {
      "cell_type": "code",
      "source": [
        "import gc\n",
        "gc.collect()"
      ],
      "metadata": {
        "colab": {
          "base_uri": "https://localhost:8080/"
        },
        "id": "FRo5DHXHxOsy",
        "outputId": "a0686b7b-bf49-4eb9-9c8b-9c4f0be579d1"
      },
      "execution_count": 25,
      "outputs": [
        {
          "output_type": "execute_result",
          "data": {
            "text/plain": [
              "65"
            ]
          },
          "metadata": {},
          "execution_count": 25
        }
      ]
    },
    {
      "cell_type": "code",
      "execution_count": 26,
      "metadata": {
        "colab": {
          "base_uri": "https://localhost:8080/"
        },
        "id": "eCzmQLwN5z49",
        "outputId": "2c86ef20-3645-4d8f-9ede-6091e550c27d"
      },
      "outputs": [
        {
          "output_type": "execute_result",
          "data": {
            "text/plain": [
              "['Lengra',\n",
              " 'Fazlee',\n",
              " 'Haribhanga',\n",
              " 'Thai Banana Mango',\n",
              " 'Bari 7',\n",
              " 'Bari 11',\n",
              " 'Bari 4',\n",
              " 'Bari 8',\n",
              " 'African Jambo',\n",
              " 'Sabira',\n",
              " 'Phillipine Honey Dew',\n",
              " 'Maryam',\n",
              " 'Indian Totapori',\n",
              " 'Kacha Mitha',\n",
              " 'Thai Moryam',\n",
              " 'Modhurani',\n",
              " 'Baper Bari',\n",
              " 'Red Palmar',\n",
              " 'King Breunei',\n",
              " 'Taiwani Red',\n",
              " 'Qzai',\n",
              " 'Him Sagor',\n",
              " 'Gopal Vog',\n",
              " 'Bari 13',\n",
              " 'Aprupali',\n",
              " 'Bari 9']"
            ]
          },
          "metadata": {},
          "execution_count": 26
        }
      ],
      "source": [
        "listOfProjatiCopy = listOfProjati.copy()\n",
        "listOfProjatiCopy"
      ]
    },
    {
      "cell_type": "code",
      "execution_count": 27,
      "metadata": {
        "colab": {
          "base_uri": "https://localhost:8080/"
        },
        "id": "3UdT98id523l",
        "outputId": "84bcdd87-7d4a-4e52-e100-47337599fc61"
      },
      "outputs": [
        {
          "output_type": "execute_result",
          "data": {
            "text/plain": [
              "array([16,  9, 11, 24,  6,  3,  5,  7,  0, 22, 19, 17, 13, 14, 25, 18,  2,\n",
              "       21, 15, 23, 20, 12, 10,  4,  1,  8])"
            ]
          },
          "metadata": {},
          "execution_count": 27
        }
      ],
      "source": [
        "from sklearn import preprocessing\n",
        "le = preprocessing.LabelEncoder()\n",
        "le.fit(listOfProjatiCopy)\n",
        "listOfProjatiCopy = le.transform(listOfProjatiCopy)\n",
        "listOfProjatiCopy"
      ]
    },
    {
      "cell_type": "code",
      "execution_count": 28,
      "metadata": {
        "colab": {
          "base_uri": "https://localhost:8080/"
        },
        "id": "3JxJaRRb55Qs",
        "outputId": "cd5aaf8e-09bb-481f-ea25-b413270913bb"
      },
      "outputs": [
        {
          "output_type": "execute_result",
          "data": {
            "text/plain": [
              "array([16, 16, 16, ...,  8,  8,  8])"
            ]
          },
          "metadata": {},
          "execution_count": 28
        }
      ],
      "source": [
        "target_val = []\n",
        "for i in range(len(listOfProjati)):\n",
        "  tempList = [listOfProjatiCopy[i]]*countDict[listOfProjati[i]]\n",
        "  target_val.extend(tempList)\n",
        "target_val = np.array(target_val)\n",
        "target_val"
      ]
    },
    {
      "cell_type": "code",
      "execution_count": 29,
      "metadata": {
        "id": "IAMmt6Gv6EK7"
      },
      "outputs": [],
      "source": [
        "from sklearn.model_selection import train_test_split\n",
        "x, x_test, y, y_test = train_test_split(img_data,target_val,test_size=0.3, stratify=target_val)\n",
        "x_train, x_val, y_train, y_val = train_test_split(x,y,test_size = 0.2, stratify=y)"
      ]
    },
    {
      "cell_type": "code",
      "execution_count": 30,
      "metadata": {
        "colab": {
          "base_uri": "https://localhost:8080/"
        },
        "id": "zoGJ19Bw6Fpi",
        "outputId": "5e0bd4f4-6cde-4626-dad5-c74daff4fe12"
      },
      "outputs": [
        {
          "output_type": "stream",
          "name": "stdout",
          "text": [
            "((9041, 128, 128, 3), (9041,))\n",
            "((4844, 128, 128, 3), (4844,))\n",
            "((2261, 128, 128, 3), (2261,))\n"
          ]
        }
      ],
      "source": [
        "print((x_train.shape,y_train.shape))\n",
        "print((x_test.shape,y_test.shape))\n",
        "print((x_val.shape,y_val.shape))"
      ]
    },
    {
      "cell_type": "code",
      "execution_count": 31,
      "metadata": {
        "id": "bK-SRnxU6HXS"
      },
      "outputs": [],
      "source": [
        "from tensorflow.keras.utils import to_categorical\n",
        "y_train=to_categorical(y_train)\n",
        "y_val=to_categorical(y_val)\n",
        "y_test=to_categorical(y_test)"
      ]
    },
    {
      "cell_type": "code",
      "execution_count": 32,
      "metadata": {
        "colab": {
          "base_uri": "https://localhost:8080/"
        },
        "id": "Vm3et-Mo6Iqa",
        "outputId": "bd0e4b6c-5ff6-4ec8-f333-69dfde3ac2ed"
      },
      "outputs": [
        {
          "output_type": "stream",
          "name": "stdout",
          "text": [
            "((9041, 128, 128, 3), (9041, 26))\n",
            "((2261, 128, 128, 3), (2261, 26))\n",
            "((4844, 128, 128, 3), (4844, 26))\n"
          ]
        }
      ],
      "source": [
        "print((x_train.shape,y_train.shape))\n",
        "print((x_val.shape,y_val.shape))\n",
        "print((x_test.shape,y_test.shape))"
      ]
    },
    {
      "cell_type": "code",
      "execution_count": 33,
      "metadata": {
        "id": "MltruYNh6MmC"
      },
      "outputs": [],
      "source": [
        "from keras.preprocessing.image import ImageDataGenerator\n",
        "train_generator = ImageDataGenerator()\n",
        "val_generator = ImageDataGenerator()\n",
        "test_generator = ImageDataGenerator()\n",
        "train_generator.fit(x_train)\n",
        "val_generator.fit(x_val)\n",
        "test_generator.fit(x_test)"
      ]
    },
    {
      "cell_type": "code",
      "execution_count": 34,
      "metadata": {
        "id": "UX3wExR56SRq"
      },
      "outputs": [],
      "source": [
        "# import seaborn as sns\n",
        "import itertools\n",
        "from sklearn.metrics import confusion_matrix\n",
        "from keras import Sequential\n",
        "from keras.applications.inception_v3 import InceptionV3\n",
        "from keras.preprocessing.image import ImageDataGenerator\n",
        "from tensorflow.keras.optimizers import SGD,Adam\n",
        "from keras.callbacks import ReduceLROnPlateau\n",
        "from keras.layers import Flatten, Dense, BatchNormalization, Activation,Dropout"
      ]
    },
    {
      "cell_type": "code",
      "execution_count": 35,
      "metadata": {
        "colab": {
          "base_uri": "https://localhost:8080/"
        },
        "id": "kbwJgtIP6cnS",
        "outputId": "868257af-c4ce-45f8-9bb5-f202022df6cc"
      },
      "outputs": [
        {
          "output_type": "stream",
          "name": "stdout",
          "text": [
            "Downloading data from https://storage.googleapis.com/tensorflow/keras-applications/inception_v3/inception_v3_weights_tf_dim_ordering_tf_kernels_notop.h5\n",
            "87910968/87910968 [==============================] - 1s 0us/step\n"
          ]
        }
      ],
      "source": [
        "inc =InceptionV3(include_top=False, weights='imagenet', input_shape=(128,128,3), classes=y_train.shape[1])"
      ]
    },
    {
      "cell_type": "code",
      "execution_count": 36,
      "metadata": {
        "id": "8UTfh7BB6eAi"
      },
      "outputs": [],
      "source": [
        "model_inc = Sequential()\n",
        "model_inc.add(inc)\n",
        "model_inc.add(Flatten())\n",
        "# model_inc.add(Dense(1024,activation=('relu'),input_dim=512))\n",
        "# model_inc.add(Dense(512,activation=('relu')))\n",
        "# model_inc.add(Dense(256,activation=('relu')))\n",
        "# model_inc.add(Dropout(.3))\n",
        "# model_inc.add(Dense(128,activation=('relu')))\n",
        "# model_inc.add(Dropout(.2))\n",
        "model_inc.add(Dense(26,activation=('softmax')))"
      ]
    },
    {
      "cell_type": "code",
      "execution_count": 37,
      "metadata": {
        "id": "5MWIVe_C6hX6"
      },
      "outputs": [],
      "source": [
        "batch_size= 32\n",
        "epochs=2\n",
        "learning_rate=.001\n",
        "sgd=SGD(learning_rate,momentum=.9,nesterov=False)"
      ]
    },
    {
      "cell_type": "code",
      "execution_count": 38,
      "metadata": {
        "id": "2kRbXlsA6jEz"
      },
      "outputs": [],
      "source": [
        "model_inc.compile(optimizer=sgd,loss='categorical_crossentropy',metrics=['accuracy'])\n",
        "lrr= ReduceLROnPlateau(monitor='val_accuracy', factor=.01,  patience=3, min_lr=1e-5)"
      ]
    },
    {
      "cell_type": "code",
      "execution_count": null,
      "metadata": {
        "id": "JTjwjcaG6j16"
      },
      "outputs": [],
      "source": [
        "hist = model_inc.fit(train_generator.flow(x_train, y_train, batch_size = batch_size), epochs=epochs, steps_per_epoch = x_train.shape[0]//batch_size, validation_data = val_generator.flow(x_val, y_val, batch_size = batch_size), callbacks = [lrr], verbose = 1)"
      ]
    },
    {
      "cell_type": "code",
      "execution_count": null,
      "metadata": {
        "colab": {
          "base_uri": "https://localhost:8080/",
          "height": 472
        },
        "id": "HKzC5_xb6pfq",
        "outputId": "8702b500-0114-4495-d621-6e47bd669841"
      },
      "outputs": [
        {
          "data": {
            "image/png": "[encoded data removed]",
            "text/plain": [
              "<Figure size 640x480 with 1 Axes>"
            ]
          },
          "metadata": {},
          "output_type": "display_data"
        }
      ],
      "source": [
        "plt.plot(hist.history[\"accuracy\"])\n",
        "plt.plot(hist.history['val_accuracy'])\n",
        "plt.ylim(0,1)\n",
        "plt.title(\"Model accuracy\")\n",
        "plt.ylabel(\"Accuracy\")\n",
        "plt.xlabel(\"Epochs\")\n",
        "plt.legend([\"Accuracy\",\"Validation Accuracy\"])\n",
        "plt.show()"
      ]
    },
    {
      "cell_type": "code",
      "execution_count": null,
      "metadata": {
        "colab": {
          "base_uri": "https://localhost:8080/",
          "height": 472
        },
        "id": "R-31Hwh46s2h",
        "outputId": "6810eb65-5ad5-4418-ea9a-51a14e59368c"
      },
      "outputs": [
        {
          "data": {
            "image/png": "[encoded data removed]",
            "text/plain": [
              "<Figure size 640x480 with 1 Axes>"
            ]
          },
          "metadata": {},
          "output_type": "display_data"
        }
      ],
      "source": [
        "plt.plot(hist.history[\"loss\"])\n",
        "plt.plot(hist.history['val_loss'])\n",
        "plt.title(\"Model Loss\")\n",
        "plt.ylabel(\"Loss\")\n",
        "plt.xlabel(\"Epochs\")\n",
        "plt.legend([\"Loss\",\"Validation Loss\"])\n",
        "plt.show()"
      ]
    },
    {
      "cell_type": "code",
      "execution_count": null,
      "metadata": {
        "colab": {
          "base_uri": "https://localhost:8080/"
        },
        "id": "G7NBagcJ6vuS",
        "outputId": "03051146-5635-4e1c-e766-df58ad00a226"
      },
      "outputs": [
        {
          "name": "stdout",
          "output_type": "stream",
          "text": [
            "136/136 [==============================] - 4s 18ms/step\n"
          ]
        }
      ],
      "source": [
        "y_pred1 = model_inc.predict(x_test)\n",
        "y_true = np.argmax(y_pred1,axis=1)\n",
        "y_demo = np.argmax(y_test,axis=1)"
      ]
    },
    {
      "cell_type": "code",
      "execution_count": null,
      "metadata": {
        "colab": {
          "base_uri": "https://localhost:8080/"
        },
        "id": "sX1vmGFR68li",
        "outputId": "ceb21d4b-9628-415a-8947-492d10eeee15"
      },
      "outputs": [
        {
          "data": {
            "text/plain": [
              "0.8840546169868087"
            ]
          },
          "execution_count": 25,
          "metadata": {},
          "output_type": "execute_result"
        }
      ],
      "source": [
        "from sklearn.metrics import accuracy_score\n",
        "accuracy_score(y_true, y_demo)"
      ]
    },
    {
      "cell_type": "code",
      "execution_count": null,
      "metadata": {
        "colab": {
          "base_uri": "https://localhost:8080/"
        },
        "id": "Rxpbn4-c6-T5",
        "outputId": "d2ba8041-d354-4e38-e804-ce497c2ad3bb"
      },
      "outputs": [
        {
          "data": {
            "text/plain": [
              "0.8826279482909338"
            ]
          },
          "execution_count": 26,
          "metadata": {},
          "output_type": "execute_result"
        }
      ],
      "source": [
        "from sklearn.metrics import f1_score\n",
        "f1_score(y_true, y_demo, average='weighted')"
      ]
    },
    {
      "cell_type": "code",
      "execution_count": null,
      "metadata": {
        "colab": {
          "base_uri": "https://localhost:8080/"
        },
        "id": "l7Nsj_hL7AQ4",
        "outputId": "4642ce26-6945-413a-d67d-b2b09a396e5e"
      },
      "outputs": [
        {
          "data": {
            "text/plain": [
              "0.8840546169868087"
            ]
          },
          "execution_count": 27,
          "metadata": {},
          "output_type": "execute_result"
        }
      ],
      "source": [
        "from sklearn.metrics import recall_score\n",
        "recall_score(y_true,y_demo,average='weighted')"
      ]
    },
    {
      "cell_type": "code",
      "execution_count": null,
      "metadata": {
        "colab": {
          "base_uri": "https://localhost:8080/"
        },
        "id": "p2f4dr5r7Bhp",
        "outputId": "a72892f5-89f8-44a7-94db-ee15fd06fb72"
      },
      "outputs": [
        {
          "data": {
            "text/plain": [
              "0.8828515117968099"
            ]
          },
          "execution_count": 28,
          "metadata": {},
          "output_type": "execute_result"
        }
      ],
      "source": [
        "from sklearn.metrics import precision_score\n",
        "precision_score(y_true,y_demo,average='weighted')"
      ]
    },
    {
      "cell_type": "code",
      "execution_count": null,
      "metadata": {
        "id": "C35keGZW7Cxo"
      },
      "outputs": [],
      "source": [
        "from sklearn.metrics import confusion_matrix\n",
        "cm = confusion_matrix(y_true, y_demo)"
      ]
    }
  ],
  "metadata": {
    "accelerator": "GPU",
    "colab": {
      "provenance": []
    },
    "gpuClass": "standard",
    "kernelspec": {
      "display_name": "Python 3",
      "name": "python3"
    },
    "language_info": {
      "name": "python"
    }
  },
  "nbformat": 4,
  "nbformat_minor": 0
}