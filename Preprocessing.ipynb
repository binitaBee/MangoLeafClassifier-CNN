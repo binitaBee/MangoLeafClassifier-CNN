{
  "cells": [
    {
      "cell_type": "markdown",
      "metadata": {
        "id": "xYFEFaFQfQDH"
      },
      "source": [
        "# Data Loading"
      ]
    },
    {
      "cell_type": "code",
      "execution_count": null,
      "metadata": {
        "id": "xr63Z3St4wbG"
      },
      "outputs": [],
      "source": [
        "from google.colab import drive\n",
        "drive.mount('/content/drive')"
      ]
    },
    {
      "cell_type": "code",
      "execution_count": null,
      "metadata": {
        "id": "Y4pm7knF4wbH"
      },
      "outputs": [],
      "source": [
        "%cd /content/drive/MyDrive/Mangooo/\n",
        "!ls"
      ]
    },
    {
      "cell_type": "code",
      "execution_count": null,
      "metadata": {
        "id": "_6P3UVxd4wbI"
      },
      "outputs": [],
      "source": [
        "listOfProjati = []\n",
        "ProjatiDirectory = {}\n",
        "import os\n",
        "path = os.getcwd()\n",
        "for dir in os.listdir(path):\n",
        "  if os.path.isdir(dir):\n",
        "    if str(dir) != \"thai banana mango (renamed)\" and str(dir) != \"Jubair\":\n",
        "      listOfProjati.append(str(dir))\n",
        "      ProjatiDirectory[str(dir)] = '/' + str(dir)\n",
        "ProjatiDirectory"
      ]
    },
    {
      "cell_type": "code",
      "execution_count": null,
      "metadata": {
        "id": "Y4o5euv34wbI"
      },
      "outputs": [],
      "source": [
        "countDict = {}\n",
        "for projati in listOfProjati:\n",
        "  subfolderPath = path + ProjatiDirectory[projati]\n",
        "  c = 0\n",
        "  for file in os.listdir(subfolderPath):\n",
        "    if file.endswith('.jpg') or file.endswith('.JPG') or file.endswith('.jpeg') or file.endswith('.JPEG') or file.endswith('.png'):\n",
        "      # file_name, file_extension = os.path.splitext(file)\n",
        "      c += 1\n",
        "  countDict[projati] = c\n",
        "countDict"
      ]
    },
    {
      "cell_type": "code",
      "execution_count": null,
      "metadata": {
        "id": "t6ffZAu94wbJ"
      },
      "outputs": [],
      "source": [
        "countDict"
      ]
    },
    {
      "cell_type": "code",
      "execution_count": null,
      "metadata": {
        "id": "j6oyjOAQ4wbJ"
      },
      "outputs": [],
      "source": [
        "listOfProjati"
      ]
    },
    {
      "cell_type": "code",
      "execution_count": null,
      "metadata": {
        "id": "rGwOHvO_4wbJ"
      },
      "outputs": [],
      "source": [
        "c = 0\n",
        "for aam in countDict:\n",
        "  c += countDict[aam]\n",
        "c"
      ]
    },
    {
      "cell_type": "code",
      "execution_count": null,
      "metadata": {
        "id": "CMLRX4Qk4wbJ"
      },
      "outputs": [],
      "source": [
        "import seaborn as sns\n",
        "import matplotlib.pyplot as plt\n",
        "\n",
        "sns.barplot(x=list(countDict.keys()), y=list(countDict.values()))\n",
        "plt.xticks(rotation=90)\n",
        "plt.show()"
      ]
    },
    {
      "cell_type": "markdown",
      "metadata": {
        "id": "jCED61SOLGQC"
      },
      "source": [
        "# Augmentation"
      ]
    },
    {
      "cell_type": "code",
      "execution_count": null,
      "metadata": {
        "id": "VJrciiLm4wbK"
      },
      "outputs": [],
      "source": [
        "resolution ="
      ]
    },
    {
      "cell_type": "code",
      "execution_count": null,
      "metadata": {
        "id": "aCSnNihw4wbK"
      },
      "outputs": [],
      "source": [
        "from tensorflow.keras.preprocessing.image import ImageDataGenerator\n",
        "import cv2\n",
        "import numpy as np\n",
        "from skimage import io\n",
        "import albumentations as A"
      ]
    },
    {
      "cell_type": "markdown",
      "metadata": {
        "id": "owbMOcM2dlDs"
      },
      "source": [
        "## Augmentation functions"
      ]
    },
    {
      "cell_type": "code",
      "execution_count": null,
      "metadata": {
        "id": "fMyho2524wbK"
      },
      "outputs": [],
      "source": [
        "def rotation(image):\n",
        "  transform = A.Compose([\n",
        "    A.Rotate(p=1)\n",
        "  ])\n",
        "  transformed = transform(image=image)\n",
        "  return transformed[\"image\"]\n",
        "\n",
        "def flip(image):\n",
        "  transform = A.Compose([\n",
        "    A.HorizontalFlip(p=1),\n",
        "  ])\n",
        "  transformed = transform(image=image)\n",
        "  return transformed[\"image\"]\n",
        "\n",
        "def enhance(image):\n",
        "  bgr = image\n",
        "  lab = cv2.cvtColor(bgr, cv2.COLOR_BGR2LAB)\n",
        "  clahe = cv2.createCLAHE(clipLimit=2.0)\n",
        "  lab[...,0] = clahe.apply(lab[...,0])\n",
        "  bgr = cv2.cvtColor(lab, cv2.COLOR_LAB2BGR)\n",
        "  return bgr\n",
        "\n",
        "def random_brightness_contrast(image):\n",
        "  transform = A.Compose([\n",
        "    A.RandomBrightnessContrast(p=1),\n",
        "  ])\n",
        "  transformed = transform(image=image)\n",
        "  return transformed[\"image\"]\n",
        "\n",
        "def random_gaussian_noise(image):\n",
        "    transform = A.Compose([\n",
        "        A.GaussNoise(),\n",
        "    ])\n",
        "    transformed = transform(image=image)\n",
        "    return transformed[\"image\"]\n",
        "\n",
        "def random_horizontal_shear(image):\n",
        "    transform = A.Compose([\n",
        "        A.HorizontalShear(),\n",
        "    ])\n",
        "    transformed = transform(image=image)\n",
        "    return transformed[\"image\"]\n",
        "\n",
        "def random_vertical_shear(image):\n",
        "    transform = A.Compose([\n",
        "        A.VerticalShear(),\n",
        "    ])\n",
        "    transformed = transform(image=image)\n",
        "    return transformed[\"image\"]\n",
        "\n",
        "def random_gaussian_blur(image):\n",
        "    transform = A.Compose([\n",
        "        A.GaussianBlur(),\n",
        "    ])\n",
        "    transformed = transform(image=image)\n",
        "    return transformed[\"image\"]\n",
        "\n",
        "def random_color_jitter(image):\n",
        "    transform = A.Compose([\n",
        "        A.ColorJitter(),\n",
        "    ])\n",
        "    transformed = transform(image=image)\n",
        "    return transformed[\"image\"]\n",
        "\n",
        "def random_color_jitter(image):\n",
        "    transform = A.Compose([\n",
        "        A.ColorJitter(),\n",
        "    ])\n",
        "    transformed = transform(image=image)\n",
        "    return transformed[\"image\"]\n",
        "\n",
        "def random_grayscale(image):\n",
        "    transform = A.Compose([\n",
        "        A.ToGray(),\n",
        "    ])\n",
        "    transformed = transform(image=image)\n",
        "    return transformed[\"image\"]\n",
        "\n",
        "def random_grid_shuffle(image):\n",
        "    transform = A.Compose([\n",
        "        A.GridDistortion(num_steps=10),\n",
        "    ])\n",
        "    transformed = transform(image=image)\n",
        "    return transformed[\"image\"]\n",
        "\n",
        "def optical_distortion(image):\n",
        "    transform = A.Compose([\n",
        "        A.OpticalDistortion(distort_limit=0.3, shift_limit=0.3),\n",
        "    ])\n",
        "    transformed = transform(image=image)\n",
        "    return transformed[\"image\"]\n",
        "\n",
        "def random_affine(image):\n",
        "    transform = A.Compose([\n",
        "        A.Affine(scale=1.2, rotate=45, translate_percent=0.1, shear=20),\n",
        "    ])\n",
        "    transformed = transform(image=image)\n",
        "    return transformed[\"image\"]"
      ]
    },
    {
      "cell_type": "code",
      "execution_count": null,
      "metadata": {
        "id": "b8aVvUiU4wbL"
      },
      "outputs": [],
      "source": [
        "augmentationList = [\n",
        "    'rotation',\n",
        "    'flip',\n",
        "    'enhance',\n",
        "    'random_brightness_contrast',\n",
        "    'random_gaussian_noise',\n",
        "    'random_horizontal_shear',\n",
        "    'random_vertical_shear',\n",
        "    'random_gaussian_blur',\n",
        "    'random_color_jitter',\n",
        "    'random_grayscale',\n",
        "    'random_grid_shuffle',\n",
        "    'optical_distortion',\n",
        "    'random_affine'\n",
        "]"
      ]
    },
    {
      "cell_type": "markdown",
      "metadata": {
        "id": "ILT5587tdY_7"
      },
      "source": [
        "## Testing Augmentation Functions\n",
        "\n"
      ]
    },
    {
      "cell_type": "code",
      "execution_count": null,
      "metadata": {
        "id": "3ofzS7hY4wbL"
      },
      "outputs": [],
      "source": [
        "image_path = \"/content/drive/MyDrive/Preprocessed/Baper Bari/Bbari (100).jpg\"\n",
        "image = cv2.imread(image_path)\n",
        "print(image.shape)\n",
        "plt.subplot(121)\n",
        "plt.imshow(image)\n",
        "plt.axis(\"off\")\n",
        "plt.subplot(122)\n",
        "plt.axis(\"off\")\n",
        "# plt.imshow(rotation(image))\n",
        "plt.imshow(random_affine(image))\n",
        "\n",
        "# enhance(image)"
      ]
    },
    {
      "cell_type": "code",
      "execution_count": null,
      "metadata": {
        "id": "O-yw1zY64wbL"
      },
      "outputs": [],
      "source": [
        "import glob\n",
        "images = glob.glob('/content/drive/MyDrive/Mangooo/**/*.jpg', recursive = True)\n",
        "len(images)"
      ]
    },
    {
      "cell_type": "markdown",
      "metadata": {
        "id": "c4wqNCAEd2Gf"
      },
      "source": [
        "## Applying augmentation for all the images"
      ]
    },
    {
      "cell_type": "code",
      "execution_count": null,
      "metadata": {
        "id": "c5z260D44wbL"
      },
      "outputs": [],
      "source": [
        "IMG_HEIGHT, IMG_WIDTH = resolution, resolution\n",
        "for projati in listOfProjati:\n",
        "  for file in os.listdir(path + ProjatiDirectory[projati]):\n",
        "    if file.endswith('.jpg') or file.endswith('.JPG') or file.endswith('.jpeg') or file.endswith('.JPEG'):\n",
        "      path = os.getcwd()\n",
        "      image_path= os.path.join(str(path + ProjatiDirectory[projati]),  file)\n",
        "      image = cv2.imread(image_path)\n",
        "\n",
        "      try:\n",
        "        image = cv2.resize(image, (IMG_HEIGHT, IMG_WIDTH),interpolation = cv2.INTER_AREA)\n",
        "\n",
        "        # iterator\n",
        "        for augType in augmentationList:\n",
        "          func = globals()[augType]\n",
        "          generated_image = func(image)\n",
        "          image_path2 = f\"{path}{ProjatiDirectory[projati]}/{file.split('.')[0]} {augType}.png\"\n",
        "          cv2.imwrite(image_path2, generated_image)\n",
        "\n",
        "      except Exception as error:\n",
        "        print(\"failed\", projati, file, error)"
      ]
    },
    {
      "cell_type": "markdown",
      "metadata": {
        "id": "LZ7RWJc2e8aT"
      },
      "source": [
        "# Normalizing and Converting to numerical matrix"
      ]
    },
    {
      "cell_type": "code",
      "execution_count": null,
      "metadata": {
        "id": "xv5ECdo74wbM"
      },
      "outputs": [],
      "source": [
        "import cv2\n",
        "import numpy as np\n",
        "from skimage import io\n",
        "\n",
        "img_data_array=[]\n",
        "IMG_HEIGHT, IMG_WIDTH = resolution, resolution\n",
        "for projati in listOfProjati:\n",
        "  for file in os.listdir(path + ProjatiDirectory[projati]):\n",
        "    if file.endswith('.jpg') or file.endswith('.JPG') or file.endswith('.jpeg') or file.endswith('.JPEG') or file.endswith('.png'):\n",
        "      image_path= os.path.join(str(path + ProjatiDirectory[projati]),  file)\n",
        "      image = cv2.imread(image_path)\n",
        "      try:\n",
        "        image = cv2.resize(image, (IMG_HEIGHT, IMG_WIDTH),interpolation = cv2.INTER_AREA)\n",
        "      except:\n",
        "        print(\"failed\", projati, file)\n",
        "      image = np.array(image)\n",
        "      image = image.astype('float32')\n",
        "      image /= 255.0\n",
        "      img_data_array.append(image)\n",
        "\n",
        "img_data_array"
      ]
    },
    {
      "cell_type": "markdown",
      "metadata": {
        "id": "ksLjwQCbrJix"
      },
      "source": [
        "# Model Training"
      ]
    },
    {
      "cell_type": "code",
      "execution_count": null,
      "metadata": {
        "id": "GerIloh84wbM"
      },
      "outputs": [],
      "source": [
        "import numpy as np\n",
        "import pandas as pd\n",
        "import os\n",
        "import tensorflow as tf\n",
        "import cv2\n",
        "from tensorflow import keras\n",
        "from tensorflow.keras.layers import Dense, LSTM, Dropout, GRU, Bidirectional\n",
        "from tensorflow.keras.models import Sequential, Model\n",
        "from  matplotlib import pyplot as plt\n",
        "import matplotlib.image as mpimg\n",
        "import random\n",
        "%matplotlib inline"
      ]
    },
    {
      "cell_type": "code",
      "execution_count": null,
      "metadata": {
        "id": "dLpa_GzZ4wbM"
      },
      "outputs": [],
      "source": [
        "%cd /content/drive/MyDrive/Preprocessed\n",
        "!ls"
      ]
    },
    {
      "cell_type": "code",
      "execution_count": null,
      "metadata": {
        "id": "XAFQJjAL4wbM"
      },
      "outputs": [],
      "source": [
        "a = np.array(img_data_array)\n",
        "np.save('image_data.npy', a)"
      ]
    },
    {
      "cell_type": "code",
      "execution_count": null,
      "metadata": {
        "id": "PYTPQ89V4wbM"
      },
      "outputs": [],
      "source": [
        "img_data=np.load('image_data.npy')\n",
        "img_data"
      ]
    },
    {
      "cell_type": "code",
      "execution_count": null,
      "metadata": {
        "id": "gNL-O25f4wbM"
      },
      "outputs": [],
      "source": [
        "import gc\n",
        "gc.collect()"
      ]
    },
    {
      "cell_type": "code",
      "execution_count": null,
      "metadata": {
        "id": "pXwMjL8-4wbN"
      },
      "outputs": [],
      "source": [
        "listOfProjatiCopy = listOfProjati.copy()\n",
        "listOfProjatiCopy"
      ]
    },
    {
      "cell_type": "code",
      "execution_count": null,
      "metadata": {
        "id": "wb5woO3d4wbN"
      },
      "outputs": [],
      "source": [
        "from sklearn import preprocessing\n",
        "le = preprocessing.LabelEncoder()\n",
        "le.fit(listOfProjatiCopy)\n",
        "listOfProjatiCopy = le.transform(listOfProjatiCopy)\n",
        "listOfProjatiCopy"
      ]
    },
    {
      "cell_type": "code",
      "execution_count": null,
      "metadata": {
        "id": "hoUSgXtx4wbN"
      },
      "outputs": [],
      "source": [
        "target_val = []\n",
        "for i in range(len(listOfProjati)):\n",
        "  tempList = [listOfProjatiCopy[i]]*countDict[listOfProjati[i]]\n",
        "  target_val.extend(tempList)\n",
        "target_val = np.array(target_val)\n",
        "target_val"
      ]
    },
    {
      "cell_type": "code",
      "execution_count": null,
      "metadata": {
        "id": "gXke9qvh4wbN"
      },
      "outputs": [],
      "source": [
        "target_val.size"
      ]
    },
    {
      "cell_type": "code",
      "execution_count": null,
      "metadata": {
        "id": "-h-u-GQM4wbN"
      },
      "outputs": [],
      "source": [
        "from sklearn.model_selection import train_test_split\n",
        "x, x_test, y, y_test = train_test_split(img_data,target_val,test_size=0.3, stratify=target_val)\n",
        "x_train, x_val, y_train, y_val = train_test_split(x,y,test_size = 0.2, stratify=y)"
      ]
    },
    {
      "cell_type": "code",
      "execution_count": null,
      "metadata": {
        "id": "4BSoWFN54wbN"
      },
      "outputs": [],
      "source": [
        "print((x_train.shape,y_train.shape))\n",
        "print((x_test.shape,y_test.shape))\n",
        "print((x_val.shape,y_val.shape))"
      ]
    },
    {
      "cell_type": "code",
      "execution_count": null,
      "metadata": {
        "id": "zdjMsj2X4wbN"
      },
      "outputs": [],
      "source": [
        "from tensorflow.keras.utils import to_categorical\n",
        "y_train=to_categorical(y_train)\n",
        "y_val=to_categorical(y_val)\n",
        "y_test=to_categorical(y_test)"
      ]
    },
    {
      "cell_type": "code",
      "execution_count": null,
      "metadata": {
        "id": "be3mPRur4wbN"
      },
      "outputs": [],
      "source": [
        "print((x_train.shape,y_train.shape))\n",
        "print((x_val.shape,y_val.shape))\n",
        "print((x_test.shape,y_test.shape))"
      ]
    }
  ],
  "metadata": {
    "language_info": {
      "name": "python"
    },
    "colab": {
      "provenance": []
    }
  },
  "nbformat": 4,
  "nbformat_minor": 0
}