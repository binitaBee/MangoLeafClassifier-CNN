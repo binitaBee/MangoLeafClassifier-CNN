{
  "nbformat": 4,
  "nbformat_minor": 0,
  "metadata": {
    "colab": {
      "provenance": [],
      "gpuType": "T4"
    },
    "kernelspec": {
      "name": "python3",
      "display_name": "Python 3"
    },
    "language_info": {
      "name": "python"
    },
    "accelerator": "GPU",
    "gpuClass": "standard"
  },
  "cells": [
    {
      "cell_type": "code",
      "source": [
        "from google.colab import drive\n",
        "drive.mount('/content/drive')"
      ],
      "metadata": {
        "id": "l2lHeUGf_wVZ",
        "colab": {
          "base_uri": "https://localhost:8080/"
        },
        "outputId": "fbd26fb6-28d7-4e59-a22b-ed6e81b64c03"
      },
      "execution_count": 1,
      "outputs": [
        {
          "output_type": "stream",
          "name": "stdout",
          "text": [
            "Drive already mounted at /content/drive; to attempt to forcibly remount, call drive.mount(\"/content/drive\", force_remount=True).\n"
          ]
        }
      ]
    },
    {
      "cell_type": "code",
      "execution_count": 2,
      "metadata": {
        "colab": {
          "base_uri": "https://localhost:8080/"
        },
        "id": "7E5nNGKY3p9Y",
        "outputId": "b7b40014-b665-49ce-e95d-2821ecbb4888"
      },
      "outputs": [
        {
          "output_type": "stream",
          "name": "stdout",
          "text": [
            "/content/drive/MyDrive/Preprocessed\n",
            "'African Jambo'   Fazlee\t      Maryam\n",
            " Aprupali\t 'Gopal Vog'\t      Modhurani\n",
            "'Baper Bari'\t  Haribhanga\t     'Phillipine Honey Dew'\n",
            "'Bari 11'\t 'Him Sagor'\t      Qzai\n",
            "'Bari 13'\t  image_data_pp.npy  'Red Palmar'\n",
            "'Bari 4'\t 'Indian Totapori'    Sabira\n",
            "'Bari 7'\t 'Kacha Mitha'\t     'Taiwani Red'\n",
            "'Bari 8'\t 'King Breunei'      'Thai Banana Mango'\n",
            "'Bari 9'\t  Lengra\t     'Thai Moryam'\n"
          ]
        }
      ],
      "source": [
        "%cd /content/drive/MyDrive/Preprocessed\n",
        "!ls"
      ]
    },
    {
      "cell_type": "code",
      "source": [
        "listOfProjati = []\n",
        "ProjatiDirectory = {}\n",
        "import os\n",
        "path = os.getcwd()\n",
        "for dir in os.listdir(path):\n",
        "  if os.path.isdir(dir):\n",
        "    if str(dir) != \"thai banana mango (renamed)\" and str(dir) != \"Jubair\":\n",
        "      listOfProjati.append(str(dir))\n",
        "      ProjatiDirectory[str(dir)] = '/' + str(dir)\n",
        "ProjatiDirectory"
      ],
      "metadata": {
        "colab": {
          "base_uri": "https://localhost:8080/"
        },
        "id": "oNvg2hXW4_-n",
        "outputId": "8bf9f039-e0f4-42c9-e347-8789d553f60c"
      },
      "execution_count": 3,
      "outputs": [
        {
          "output_type": "execute_result",
          "data": {
            "text/plain": [
              "{'Lengra': '/Lengra',\n",
              " 'Fazlee': '/Fazlee',\n",
              " 'Haribhanga': '/Haribhanga',\n",
              " 'Thai Banana Mango': '/Thai Banana Mango',\n",
              " 'Bari 7': '/Bari 7',\n",
              " 'Bari 11': '/Bari 11',\n",
              " 'Bari 4': '/Bari 4',\n",
              " 'Bari 8': '/Bari 8',\n",
              " 'African Jambo': '/African Jambo',\n",
              " 'Sabira': '/Sabira',\n",
              " 'Phillipine Honey Dew': '/Phillipine Honey Dew',\n",
              " 'Maryam': '/Maryam',\n",
              " 'Indian Totapori': '/Indian Totapori',\n",
              " 'Kacha Mitha': '/Kacha Mitha',\n",
              " 'Thai Moryam': '/Thai Moryam',\n",
              " 'Modhurani': '/Modhurani',\n",
              " 'Baper Bari': '/Baper Bari',\n",
              " 'Red Palmar': '/Red Palmar',\n",
              " 'King Breunei': '/King Breunei',\n",
              " 'Taiwani Red': '/Taiwani Red',\n",
              " 'Qzai': '/Qzai',\n",
              " 'Him Sagor': '/Him Sagor',\n",
              " 'Gopal Vog': '/Gopal Vog',\n",
              " 'Bari 13': '/Bari 13',\n",
              " 'Aprupali': '/Aprupali',\n",
              " 'Bari 9': '/Bari 9'}"
            ]
          },
          "metadata": {},
          "execution_count": 3
        }
      ]
    },
    {
      "cell_type": "code",
      "source": [
        "countDict = {}\n",
        "for projati in listOfProjati:\n",
        "  subfolderPath = path + ProjatiDirectory[projati]\n",
        "  c = 0\n",
        "  for file in os.listdir(subfolderPath):\n",
        "    if file.endswith('.jpg') or file.endswith('.JPG') or file.endswith('.jpeg') or file.endswith('.JPEG') or file.endswith('.png') or file.endswith('.PNG'):\n",
        "      # file_name, file_extension = os.path.splitext(file)\n",
        "      c += 1\n",
        "  countDict[projati] = c\n",
        "countDict"
      ],
      "metadata": {
        "colab": {
          "base_uri": "https://localhost:8080/"
        },
        "id": "Cgbtm_2N5G1n",
        "outputId": "0503e92a-e5c9-4995-8a12-b2add63e581c"
      },
      "execution_count": 4,
      "outputs": [
        {
          "output_type": "execute_result",
          "data": {
            "text/plain": [
              "{'Lengra': 366,\n",
              " 'Fazlee': 600,\n",
              " 'Haribhanga': 600,\n",
              " 'Thai Banana Mango': 612,\n",
              " 'Bari 7': 600,\n",
              " 'Bari 11': 600,\n",
              " 'Bari 4': 600,\n",
              " 'Bari 8': 600,\n",
              " 'African Jambo': 600,\n",
              " 'Sabira': 624,\n",
              " 'Phillipine Honey Dew': 708,\n",
              " 'Maryam': 1044,\n",
              " 'Indian Totapori': 726,\n",
              " 'Kacha Mitha': 846,\n",
              " 'Thai Moryam': 882,\n",
              " 'Modhurani': 600,\n",
              " 'Baper Bari': 600,\n",
              " 'Red Palmar': 414,\n",
              " 'King Breunei': 612,\n",
              " 'Taiwani Red': 354,\n",
              " 'Qzai': 810,\n",
              " 'Him Sagor': 438,\n",
              " 'Gopal Vog': 600,\n",
              " 'Bari 13': 510,\n",
              " 'Aprupali': 600,\n",
              " 'Bari 9': 600}"
            ]
          },
          "metadata": {},
          "execution_count": 4
        }
      ]
    },
    {
      "cell_type": "code",
      "source": [
        "%cd /content/drive/MyDrive/Preprocessed\n",
        "!ls\n"
      ],
      "metadata": {
        "colab": {
          "base_uri": "https://localhost:8080/"
        },
        "id": "DOO2iyooKX8V",
        "outputId": "01e205cf-d0af-49f8-9e06-d59d101d1d5e"
      },
      "execution_count": 5,
      "outputs": [
        {
          "output_type": "stream",
          "name": "stdout",
          "text": [
            "/content/drive/MyDrive/Preprocessed\n",
            "'African Jambo'   Fazlee\t      Maryam\n",
            " Aprupali\t 'Gopal Vog'\t      Modhurani\n",
            "'Baper Bari'\t  Haribhanga\t     'Phillipine Honey Dew'\n",
            "'Bari 11'\t 'Him Sagor'\t      Qzai\n",
            "'Bari 13'\t  image_data_pp.npy  'Red Palmar'\n",
            "'Bari 4'\t 'Indian Totapori'    Sabira\n",
            "'Bari 7'\t 'Kacha Mitha'\t     'Taiwani Red'\n",
            "'Bari 8'\t 'King Breunei'      'Thai Banana Mango'\n",
            "'Bari 9'\t  Lengra\t     'Thai Moryam'\n"
          ]
        }
      ]
    },
    {
      "cell_type": "code",
      "source": [
        "import numpy as np\n",
        "img_data=np.load('image_data_pp.npy')\n",
        "img_data"
      ],
      "metadata": {
        "id": "X3AMfb6VLDAT",
        "colab": {
          "base_uri": "https://localhost:8080/"
        },
        "outputId": "d81f31c6-c2b0-4a7a-8b97-430a87feeef1"
      },
      "execution_count": 6,
      "outputs": [
        {
          "output_type": "execute_result",
          "data": {
            "text/plain": [
              "array([[[[0.64705884, 0.6431373 , 0.654902  ],\n",
              "         [0.64705884, 0.6431373 , 0.65882355],\n",
              "         [0.64705884, 0.6431373 , 0.65882355],\n",
              "         ...,\n",
              "         [0.7921569 , 0.8156863 , 0.80784315],\n",
              "         [0.79607844, 0.8117647 , 0.80784315],\n",
              "         [0.8       , 0.8117647 , 0.8117647 ]],\n",
              "\n",
              "        [[0.6431373 , 0.6392157 , 0.64705884],\n",
              "         [0.6431373 , 0.6392157 , 0.654902  ],\n",
              "         [0.6431373 , 0.6392157 , 0.654902  ],\n",
              "         ...,\n",
              "         [0.8       , 0.8117647 , 0.80784315],\n",
              "         [0.8039216 , 0.8117647 , 0.80784315],\n",
              "         [0.8039216 , 0.8117647 , 0.8117647 ]],\n",
              "\n",
              "        [[0.6431373 , 0.6392157 , 0.6509804 ],\n",
              "         [0.64705884, 0.6431373 , 0.654902  ],\n",
              "         [0.6431373 , 0.6392157 , 0.654902  ],\n",
              "         ...,\n",
              "         [0.8       , 0.8117647 , 0.8039216 ],\n",
              "         [0.8039216 , 0.8156863 , 0.80784315],\n",
              "         [0.8       , 0.8117647 , 0.80784315]],\n",
              "\n",
              "        ...,\n",
              "\n",
              "        [[0.7882353 , 0.78039217, 0.78039217],\n",
              "         [0.7921569 , 0.78431374, 0.78431374],\n",
              "         [0.7921569 , 0.78431374, 0.78431374],\n",
              "         ...,\n",
              "         [0.88235295, 0.88235295, 0.88235295],\n",
              "         [0.88235295, 0.88235295, 0.88235295],\n",
              "         [0.88235295, 0.88235295, 0.88235295]],\n",
              "\n",
              "        [[0.7921569 , 0.78431374, 0.78431374],\n",
              "         [0.7921569 , 0.78431374, 0.78431374],\n",
              "         [0.7921569 , 0.78431374, 0.78431374],\n",
              "         ...,\n",
              "         [0.88235295, 0.88235295, 0.88235295],\n",
              "         [0.8784314 , 0.8784314 , 0.8784314 ],\n",
              "         [0.88235295, 0.88235295, 0.88235295]],\n",
              "\n",
              "        [[0.7921569 , 0.78431374, 0.7882353 ],\n",
              "         [0.7921569 , 0.78431374, 0.78431374],\n",
              "         [0.7882353 , 0.78039217, 0.78039217],\n",
              "         ...,\n",
              "         [0.88235295, 0.88235295, 0.88235295],\n",
              "         [0.88235295, 0.88235295, 0.88235295],\n",
              "         [0.8745098 , 0.8745098 , 0.8745098 ]]],\n",
              "\n",
              "\n",
              "       [[[0.8392157 , 0.8392157 , 0.8392157 ],\n",
              "         [0.84313726, 0.84313726, 0.84313726],\n",
              "         [0.84313726, 0.84313726, 0.84313726],\n",
              "         ...,\n",
              "         [0.7058824 , 0.7058824 , 0.7058824 ],\n",
              "         [0.7019608 , 0.7019608 , 0.7019608 ],\n",
              "         [0.6901961 , 0.6901961 , 0.69411767]],\n",
              "\n",
              "        [[0.8392157 , 0.8392157 , 0.8392157 ],\n",
              "         [0.8392157 , 0.8392157 , 0.8392157 ],\n",
              "         [0.8392157 , 0.8392157 , 0.8392157 ],\n",
              "         ...,\n",
              "         [0.69803923, 0.69411767, 0.69803923],\n",
              "         [0.6901961 , 0.6901961 , 0.6901961 ],\n",
              "         [0.68235296, 0.6862745 , 0.6862745 ]],\n",
              "\n",
              "        [[0.8392157 , 0.8392157 , 0.8392157 ],\n",
              "         [0.8352941 , 0.8352941 , 0.8352941 ],\n",
              "         [0.8392157 , 0.8392157 , 0.8392157 ],\n",
              "         ...,\n",
              "         [0.69411767, 0.69411767, 0.69411767],\n",
              "         [0.6862745 , 0.6862745 , 0.6862745 ],\n",
              "         [0.68235296, 0.68235296, 0.68235296]],\n",
              "\n",
              "        ...,\n",
              "\n",
              "        [[0.77254903, 0.7921569 , 0.78431374],\n",
              "         [0.7764706 , 0.79607844, 0.7882353 ],\n",
              "         [0.7764706 , 0.79607844, 0.7882353 ],\n",
              "         ...,\n",
              "         [0.6       , 0.60784316, 0.6156863 ],\n",
              "         [0.6       , 0.60784316, 0.6117647 ],\n",
              "         [0.6       , 0.60784316, 0.6117647 ]],\n",
              "\n",
              "        [[0.77254903, 0.7921569 , 0.78431374],\n",
              "         [0.77254903, 0.7921569 , 0.78431374],\n",
              "         [0.77254903, 0.7921569 , 0.78431374],\n",
              "         ...,\n",
              "         [0.6       , 0.6039216 , 0.6156863 ],\n",
              "         [0.6039216 , 0.6117647 , 0.6156863 ],\n",
              "         [0.6       , 0.60784316, 0.6117647 ]],\n",
              "\n",
              "        [[0.77254903, 0.7921569 , 0.78431374],\n",
              "         [0.7764706 , 0.79607844, 0.7882353 ],\n",
              "         [0.77254903, 0.7921569 , 0.78431374],\n",
              "         ...,\n",
              "         [0.60784316, 0.6117647 , 0.62352943],\n",
              "         [0.60784316, 0.6117647 , 0.627451  ],\n",
              "         [0.60784316, 0.6156863 , 0.627451  ]]],\n",
              "\n",
              "\n",
              "       [[[0.8666667 , 0.8745098 , 0.8745098 ],\n",
              "         [0.8666667 , 0.8745098 , 0.8745098 ],\n",
              "         [0.8666667 , 0.8745098 , 0.8745098 ],\n",
              "         ...,\n",
              "         [0.80784315, 0.8039216 , 0.8117647 ],\n",
              "         [0.80784315, 0.8039216 , 0.8117647 ],\n",
              "         [0.8117647 , 0.80784315, 0.8156863 ]],\n",
              "\n",
              "        [[0.8666667 , 0.8745098 , 0.8745098 ],\n",
              "         [0.8627451 , 0.87058824, 0.87058824],\n",
              "         [0.8627451 , 0.87058824, 0.87058824],\n",
              "         ...,\n",
              "         [0.80784315, 0.8039216 , 0.8117647 ],\n",
              "         [0.8039216 , 0.8       , 0.80784315],\n",
              "         [0.8       , 0.79607844, 0.8       ]],\n",
              "\n",
              "        [[0.8627451 , 0.87058824, 0.87058824],\n",
              "         [0.8627451 , 0.87058824, 0.87058824],\n",
              "         [0.8627451 , 0.87058824, 0.87058824],\n",
              "         ...,\n",
              "         [0.8       , 0.8       , 0.8039216 ],\n",
              "         [0.8       , 0.79607844, 0.8       ],\n",
              "         [0.8039216 , 0.8       , 0.8       ]],\n",
              "\n",
              "        ...,\n",
              "\n",
              "        [[0.7921569 , 0.8117647 , 0.80784315],\n",
              "         [0.7921569 , 0.8117647 , 0.80784315],\n",
              "         [0.7921569 , 0.8117647 , 0.80784315],\n",
              "         ...,\n",
              "         [0.5882353 , 0.5921569 , 0.60784316],\n",
              "         [0.5921569 , 0.59607846, 0.6117647 ],\n",
              "         [0.59607846, 0.6       , 0.6156863 ]],\n",
              "\n",
              "        [[0.7921569 , 0.8117647 , 0.80784315],\n",
              "         [0.7882353 , 0.80784315, 0.8039216 ],\n",
              "         [0.7921569 , 0.8117647 , 0.80784315],\n",
              "         ...,\n",
              "         [0.5921569 , 0.59607846, 0.6117647 ],\n",
              "         [0.59607846, 0.6       , 0.6156863 ],\n",
              "         [0.59607846, 0.6       , 0.6156863 ]],\n",
              "\n",
              "        [[0.7882353 , 0.80784315, 0.8039216 ],\n",
              "         [0.7882353 , 0.80784315, 0.8039216 ],\n",
              "         [0.7882353 , 0.80784315, 0.8       ],\n",
              "         ...,\n",
              "         [0.59607846, 0.6       , 0.6156863 ],\n",
              "         [0.59607846, 0.6       , 0.6156863 ],\n",
              "         [0.6       , 0.6039216 , 0.61960787]]],\n",
              "\n",
              "\n",
              "       ...,\n",
              "\n",
              "\n",
              "       [[[0.9607843 , 0.98039216, 0.9764706 ],\n",
              "         [0.9490196 , 0.9647059 , 0.972549  ],\n",
              "         [0.9607843 , 0.98039216, 0.9764706 ],\n",
              "         ...,\n",
              "         [0.9882353 , 0.99607843, 1.        ],\n",
              "         [0.9882353 , 0.99607843, 1.        ],\n",
              "         [0.99607843, 0.99607843, 0.99607843]],\n",
              "\n",
              "        [[0.9607843 , 0.9764706 , 0.9843137 ],\n",
              "         [0.9607843 , 0.9764706 , 0.9843137 ],\n",
              "         [0.9490196 , 0.9647059 , 0.972549  ],\n",
              "         ...,\n",
              "         [0.9882353 , 0.99607843, 1.        ],\n",
              "         [0.99607843, 0.99607843, 0.99607843],\n",
              "         [0.99607843, 0.99607843, 0.99607843]],\n",
              "\n",
              "        [[0.9490196 , 0.9647059 , 0.972549  ],\n",
              "         [0.9490196 , 0.9647059 , 0.972549  ],\n",
              "         [0.9490196 , 0.9647059 , 0.972549  ],\n",
              "         ...,\n",
              "         [0.9882353 , 0.99607843, 1.        ],\n",
              "         [0.9882353 , 0.99607843, 1.        ],\n",
              "         [0.99607843, 0.99607843, 0.99607843]],\n",
              "\n",
              "        ...,\n",
              "\n",
              "        [[0.94509804, 0.94509804, 0.94509804],\n",
              "         [0.95686275, 0.95686275, 0.95686275],\n",
              "         [0.95686275, 0.95686275, 0.95686275],\n",
              "         ...,\n",
              "         [1.        , 1.        , 1.        ],\n",
              "         [0.99215686, 0.99215686, 0.99215686],\n",
              "         [1.        , 1.        , 1.        ]],\n",
              "\n",
              "        [[0.9490196 , 0.95686275, 0.9529412 ],\n",
              "         [0.95686275, 0.95686275, 0.95686275],\n",
              "         [0.95686275, 0.95686275, 0.95686275],\n",
              "         ...,\n",
              "         [0.99215686, 0.99215686, 0.99215686],\n",
              "         [0.99215686, 0.99215686, 0.99215686],\n",
              "         [0.99215686, 0.99215686, 0.99215686]],\n",
              "\n",
              "        [[0.92941177, 0.9411765 , 0.93333334],\n",
              "         [0.92941177, 0.9411765 , 0.93333334],\n",
              "         [0.92941177, 0.9411765 , 0.93333334],\n",
              "         ...,\n",
              "         [0.99215686, 0.99215686, 0.99215686],\n",
              "         [0.99215686, 0.99215686, 0.99215686],\n",
              "         [1.        , 0.99215686, 0.9882353 ]]],\n",
              "\n",
              "\n",
              "       [[[1.        , 1.        , 1.        ],\n",
              "         [1.        , 1.        , 1.        ],\n",
              "         [1.        , 1.        , 1.        ],\n",
              "         ...,\n",
              "         [1.        , 1.        , 1.        ],\n",
              "         [1.        , 1.        , 1.        ],\n",
              "         [1.        , 1.        , 1.        ]],\n",
              "\n",
              "        [[1.        , 1.        , 1.        ],\n",
              "         [1.        , 1.        , 1.        ],\n",
              "         [1.        , 1.        , 1.        ],\n",
              "         ...,\n",
              "         [1.        , 1.        , 1.        ],\n",
              "         [1.        , 1.        , 1.        ],\n",
              "         [1.        , 1.        , 1.        ]],\n",
              "\n",
              "        [[1.        , 1.        , 1.        ],\n",
              "         [1.        , 1.        , 1.        ],\n",
              "         [1.        , 1.        , 1.        ],\n",
              "         ...,\n",
              "         [1.        , 1.        , 1.        ],\n",
              "         [1.        , 1.        , 1.        ],\n",
              "         [1.        , 1.        , 1.        ]],\n",
              "\n",
              "        ...,\n",
              "\n",
              "        [[0.972549  , 0.972549  , 0.972549  ],\n",
              "         [0.972549  , 0.9764706 , 0.9764706 ],\n",
              "         [0.9764706 , 0.9764706 , 0.972549  ],\n",
              "         ...,\n",
              "         [1.        , 1.        , 1.        ],\n",
              "         [1.        , 1.        , 1.        ],\n",
              "         [1.        , 1.        , 1.        ]],\n",
              "\n",
              "        [[0.96862745, 0.9764706 , 0.972549  ],\n",
              "         [0.972549  , 0.9764706 , 0.972549  ],\n",
              "         [0.972549  , 0.9764706 , 0.972549  ],\n",
              "         ...,\n",
              "         [1.        , 1.        , 1.        ],\n",
              "         [1.        , 1.        , 1.        ],\n",
              "         [1.        , 1.        , 1.        ]],\n",
              "\n",
              "        [[0.9647059 , 0.96862745, 0.96862745],\n",
              "         [0.96862745, 0.972549  , 0.96862745],\n",
              "         [0.96862745, 0.972549  , 0.96862745],\n",
              "         ...,\n",
              "         [1.        , 1.        , 1.        ],\n",
              "         [1.        , 1.        , 1.        ],\n",
              "         [1.        , 1.        , 1.        ]]],\n",
              "\n",
              "\n",
              "       [[[0.94509804, 0.9607843 , 0.9607843 ],\n",
              "         [0.9411765 , 0.95686275, 0.9607843 ],\n",
              "         [0.94509804, 0.9607843 , 0.9607843 ],\n",
              "         ...,\n",
              "         [0.96862745, 0.9764706 , 0.9764706 ],\n",
              "         [0.972549  , 0.9764706 , 0.9764706 ],\n",
              "         [0.9764706 , 0.9764706 , 0.9764706 ]],\n",
              "\n",
              "        [[0.94509804, 0.9607843 , 0.9647059 ],\n",
              "         [0.94509804, 0.9607843 , 0.9647059 ],\n",
              "         [0.9411765 , 0.95686275, 0.9607843 ],\n",
              "         ...,\n",
              "         [0.972549  , 0.9764706 , 0.9764706 ],\n",
              "         [0.9764706 , 0.9764706 , 0.9764706 ],\n",
              "         [0.9764706 , 0.9764706 , 0.9764706 ]],\n",
              "\n",
              "        [[0.9411765 , 0.95686275, 0.9607843 ],\n",
              "         [0.9411765 , 0.95686275, 0.9607843 ],\n",
              "         [0.9411765 , 0.95686275, 0.9607843 ],\n",
              "         ...,\n",
              "         [0.972549  , 0.9764706 , 0.9764706 ],\n",
              "         [0.972549  , 0.9764706 , 0.9764706 ],\n",
              "         [0.9764706 , 0.9764706 , 0.9764706 ]],\n",
              "\n",
              "        ...,\n",
              "\n",
              "        [[0.9019608 , 0.9019608 , 0.9019608 ],\n",
              "         [0.9019608 , 0.90588236, 0.90588236],\n",
              "         [0.90588236, 0.90588236, 0.9019608 ],\n",
              "         ...,\n",
              "         [0.9882353 , 0.9882353 , 0.9882353 ],\n",
              "         [0.9843137 , 0.9843137 , 0.9843137 ],\n",
              "         [0.9882353 , 0.9882353 , 0.9882353 ]],\n",
              "\n",
              "        [[0.8980392 , 0.90588236, 0.9019608 ],\n",
              "         [0.9019608 , 0.90588236, 0.9019608 ],\n",
              "         [0.9019608 , 0.90588236, 0.9019608 ],\n",
              "         ...,\n",
              "         [0.9843137 , 0.9843137 , 0.9843137 ],\n",
              "         [0.9843137 , 0.9843137 , 0.9843137 ],\n",
              "         [0.9843137 , 0.9843137 , 0.9843137 ]],\n",
              "\n",
              "        [[0.8901961 , 0.8980392 , 0.89411765],\n",
              "         [0.89411765, 0.9019608 , 0.89411765],\n",
              "         [0.89411765, 0.9019608 , 0.89411765],\n",
              "         ...,\n",
              "         [0.9843137 , 0.9843137 , 0.9843137 ],\n",
              "         [0.9843137 , 0.9843137 , 0.9843137 ],\n",
              "         [0.9882353 , 0.9843137 , 0.9843137 ]]]], dtype=float32)"
            ]
          },
          "metadata": {},
          "execution_count": 6
        }
      ]
    },
    {
      "cell_type": "code",
      "source": [
        "import gc\n",
        "gc.collect()"
      ],
      "metadata": {
        "colab": {
          "base_uri": "https://localhost:8080/"
        },
        "id": "ijl2n25nEEOn",
        "outputId": "3fa624bb-4404-4a3a-9d6b-55fe2cdd3714"
      },
      "execution_count": 7,
      "outputs": [
        {
          "output_type": "execute_result",
          "data": {
            "text/plain": [
              "32"
            ]
          },
          "metadata": {},
          "execution_count": 7
        }
      ]
    },
    {
      "cell_type": "code",
      "source": [
        "import numpy as np\n",
        "import pandas as pd\n",
        "import os\n",
        "import tensorflow as tf\n",
        "import cv2\n",
        "from tensorflow import keras\n",
        "from tensorflow.keras.layers import Dense, LSTM, Dropout, GRU, Bidirectional\n",
        "from tensorflow.keras.models import Sequential, Model\n",
        "from  matplotlib import pyplot as plt\n",
        "import matplotlib.image as mpimg\n",
        "import random\n",
        "%matplotlib inline"
      ],
      "metadata": {
        "id": "zYLvu1Hi5spt"
      },
      "execution_count": 8,
      "outputs": []
    },
    {
      "cell_type": "code",
      "source": [
        "listOfProjatiCopy = listOfProjati.copy()\n",
        "listOfProjatiCopy"
      ],
      "metadata": {
        "colab": {
          "base_uri": "https://localhost:8080/"
        },
        "id": "eCzmQLwN5z49",
        "outputId": "7fb13da5-1d78-4474-9a34-d76bf4d4e511"
      },
      "execution_count": 9,
      "outputs": [
        {
          "output_type": "execute_result",
          "data": {
            "text/plain": [
              "['Lengra',\n",
              " 'Fazlee',\n",
              " 'Haribhanga',\n",
              " 'Thai Banana Mango',\n",
              " 'Bari 7',\n",
              " 'Bari 11',\n",
              " 'Bari 4',\n",
              " 'Bari 8',\n",
              " 'African Jambo',\n",
              " 'Sabira',\n",
              " 'Phillipine Honey Dew',\n",
              " 'Maryam',\n",
              " 'Indian Totapori',\n",
              " 'Kacha Mitha',\n",
              " 'Thai Moryam',\n",
              " 'Modhurani',\n",
              " 'Baper Bari',\n",
              " 'Red Palmar',\n",
              " 'King Breunei',\n",
              " 'Taiwani Red',\n",
              " 'Qzai',\n",
              " 'Him Sagor',\n",
              " 'Gopal Vog',\n",
              " 'Bari 13',\n",
              " 'Aprupali',\n",
              " 'Bari 9']"
            ]
          },
          "metadata": {},
          "execution_count": 9
        }
      ]
    },
    {
      "cell_type": "code",
      "source": [
        "from sklearn import preprocessing\n",
        "le = preprocessing.LabelEncoder()\n",
        "le.fit(listOfProjatiCopy)\n",
        "listOfProjatiCopy = le.transform(listOfProjatiCopy)\n",
        "listOfProjatiCopy"
      ],
      "metadata": {
        "colab": {
          "base_uri": "https://localhost:8080/"
        },
        "id": "3UdT98id523l",
        "outputId": "ab8475ca-34d9-4c22-8efb-4788f9d84c38"
      },
      "execution_count": 10,
      "outputs": [
        {
          "output_type": "execute_result",
          "data": {
            "text/plain": [
              "array([16,  9, 11, 24,  6,  3,  5,  7,  0, 22, 19, 17, 13, 14, 25, 18,  2,\n",
              "       21, 15, 23, 20, 12, 10,  4,  1,  8])"
            ]
          },
          "metadata": {},
          "execution_count": 10
        }
      ]
    },
    {
      "cell_type": "code",
      "source": [
        "target_val = []\n",
        "for i in range(len(listOfProjati)):\n",
        "  tempList = [listOfProjatiCopy[i]]*countDict[listOfProjati[i]]\n",
        "  target_val.extend(tempList)\n",
        "target_val = np.array(target_val)\n",
        "target_val"
      ],
      "metadata": {
        "colab": {
          "base_uri": "https://localhost:8080/"
        },
        "id": "3JxJaRRb55Qs",
        "outputId": "6a5214eb-7d6e-4d30-9bf6-fceb66fcd359"
      },
      "execution_count": 11,
      "outputs": [
        {
          "output_type": "execute_result",
          "data": {
            "text/plain": [
              "array([16, 16, 16, ...,  8,  8,  8])"
            ]
          },
          "metadata": {},
          "execution_count": 11
        }
      ]
    },
    {
      "cell_type": "code",
      "source": [
        "from sklearn.model_selection import train_test_split\n",
        "x, x_test, y, y_test = train_test_split(img_data,target_val,test_size=0.3, stratify=target_val)\n",
        "x_train, x_val, y_train, y_val = train_test_split(x,y,test_size = 0.2, stratify=y)"
      ],
      "metadata": {
        "id": "IAMmt6Gv6EK7"
      },
      "execution_count": 12,
      "outputs": []
    },
    {
      "cell_type": "code",
      "source": [
        "print((x_train.shape,y_train.shape))\n",
        "print((x_test.shape,y_test.shape))\n",
        "print((x_val.shape,y_val.shape))"
      ],
      "metadata": {
        "colab": {
          "base_uri": "https://localhost:8080/"
        },
        "id": "zoGJ19Bw6Fpi",
        "outputId": "a6329d05-dc86-4b76-cf7e-6efdfd02982c"
      },
      "execution_count": 13,
      "outputs": [
        {
          "output_type": "stream",
          "name": "stdout",
          "text": [
            "((9041, 128, 128, 3), (9041,))\n",
            "((4844, 128, 128, 3), (4844,))\n",
            "((2261, 128, 128, 3), (2261,))\n"
          ]
        }
      ]
    },
    {
      "cell_type": "code",
      "source": [
        "from tensorflow.keras.utils import to_categorical\n",
        "y_train=to_categorical(y_train)\n",
        "y_val=to_categorical(y_val)\n",
        "y_test=to_categorical(y_test)"
      ],
      "metadata": {
        "id": "bK-SRnxU6HXS"
      },
      "execution_count": 14,
      "outputs": []
    },
    {
      "cell_type": "code",
      "source": [
        "print((x_train.shape,y_train.shape))\n",
        "print((x_val.shape,y_val.shape))\n",
        "print((x_test.shape,y_test.shape))"
      ],
      "metadata": {
        "colab": {
          "base_uri": "https://localhost:8080/"
        },
        "id": "Vm3et-Mo6Iqa",
        "outputId": "530f5955-f916-4661-826b-dc85779c4881"
      },
      "execution_count": 15,
      "outputs": [
        {
          "output_type": "stream",
          "name": "stdout",
          "text": [
            "((9041, 128, 128, 3), (9041, 26))\n",
            "((2261, 128, 128, 3), (2261, 26))\n",
            "((4844, 128, 128, 3), (4844, 26))\n"
          ]
        }
      ]
    },
    {
      "cell_type": "code",
      "source": [
        "from keras.preprocessing.image import ImageDataGenerator\n",
        "train_generator = ImageDataGenerator()\n",
        "val_generator = ImageDataGenerator()\n",
        "test_generator = ImageDataGenerator()\n",
        "train_generator.fit(x_train)\n",
        "val_generator.fit(x_val)\n",
        "test_generator.fit(x_test)"
      ],
      "metadata": {
        "id": "MltruYNh6MmC"
      },
      "execution_count": 16,
      "outputs": []
    },
    {
      "cell_type": "code",
      "source": [
        "# import seaborn as sns\n",
        "import itertools\n",
        "from sklearn.metrics import confusion_matrix\n",
        "from keras import Sequential\n",
        "from tensorflow.keras.applications.mobilenet_v2 import MobileNetV2\n",
        "from keras.preprocessing.image import ImageDataGenerator\n",
        "from tensorflow.keras.optimizers import SGD,Adam\n",
        "from keras.callbacks import ReduceLROnPlateau\n",
        "from keras.layers import Flatten, Dense, BatchNormalization, Activation,Dropout"
      ],
      "metadata": {
        "id": "UX3wExR56SRq"
      },
      "execution_count": 17,
      "outputs": []
    },
    {
      "cell_type": "code",
      "source": [
        "inc = MobileNetV2(include_top=False, weights='imagenet', input_shape=(128,128,3), classes=y_train.shape[1])\n",
        "# inc.load_weights('mobilenet_7_5_128_tf.h5', by_name = True, skip_mismatch = True)"
      ],
      "metadata": {
        "colab": {
          "base_uri": "https://localhost:8080/"
        },
        "id": "kbwJgtIP6cnS",
        "outputId": "f8f6a8b0-2090-4113-af4a-82cd6b348709"
      },
      "execution_count": 19,
      "outputs": [
        {
          "output_type": "stream",
          "name": "stdout",
          "text": [
            "Downloading data from https://storage.googleapis.com/tensorflow/keras-applications/mobilenet_v2/mobilenet_v2_weights_tf_dim_ordering_tf_kernels_1.0_128_no_top.h5\n",
            "9406464/9406464 [==============================] - 0s 0us/step\n"
          ]
        }
      ]
    },
    {
      "cell_type": "code",
      "source": [
        "model_inc = Sequential()\n",
        "model_inc.add(inc)\n",
        "model_inc.add(Flatten())\n",
        "# model_inc.add(Dense(1024,activation=('relu'),input_dim=512))\n",
        "# model_inc.add(Dense(512,activation=('relu')))\n",
        "# model_inc.add(Dense(256,activation=('relu')))\n",
        "# model_inc.add(Dropout(.3))\n",
        "# model_inc.add(Dense(128,activation=('relu')))\n",
        "# model_inc.add(Dropout(.2))\n",
        "model_inc.add(Dense(26,activation=('softmax')))"
      ],
      "metadata": {
        "id": "8UTfh7BB6eAi"
      },
      "execution_count": 21,
      "outputs": []
    },
    {
      "cell_type": "code",
      "source": [
        "batch_size= 60\n",
        "epochs=35\n",
        "learning_rate=.001\n",
        "sgd=SGD(learning_rate,momentum=.9,nesterov=False)"
      ],
      "metadata": {
        "id": "5MWIVe_C6hX6"
      },
      "execution_count": 36,
      "outputs": []
    },
    {
      "cell_type": "code",
      "source": [
        "model_inc.compile(optimizer=sgd,loss='categorical_crossentropy',metrics=['accuracy'])\n",
        "lrr= ReduceLROnPlateau(monitor='val_accuracy', factor=.01,  patience=3, min_lr=1e-5)"
      ],
      "metadata": {
        "id": "2kRbXlsA6jEz"
      },
      "execution_count": 39,
      "outputs": []
    },
    {
      "cell_type": "code",
      "source": [
        "hist = model_inc.fit(train_generator.flow(x_train, y_train, batch_size = batch_size), epochs=epochs, steps_per_epoch = x_train.shape[0]//batch_size, validation_data = val_generator.flow(x_val, y_val, batch_size = batch_size), callbacks = [lrr], verbose = 1)"
      ],
      "metadata": {
        "colab": {
          "base_uri": "https://localhost:8080/"
        },
        "id": "JTjwjcaG6j16",
        "outputId": "bbf7b690-706a-4466-923b-e340b197ead7"
      },
      "execution_count": 38,
      "outputs": [
        {
          "output_type": "stream",
          "name": "stdout",
          "text": [
            "150/150 [==============================] - 625s 4s/step - loss: 0.0024 - accuracy: 0.9999 - val_loss: 0.7689 - val_accuracy: 0.8010 - lr: 0.0010\n"
          ]
        }
      ]
    },
    {
      "cell_type": "code",
      "source": [
        "plt.plot(hist.history[\"accuracy\"])\n",
        "plt.plot(hist.history['val_accuracy'])\n",
        "plt.ylim(0,1)\n",
        "plt.title(\"Model accuracy\")\n",
        "plt.ylabel(\"Accuracy\")\n",
        "plt.xlabel(\"Epochs\")\n",
        "plt.legend([\"Accuracy\",\"Validation Accuracy\"])\n",
        "plt.show()"
      ],
      "metadata": {
        "colab": {
          "base_uri": "https://localhost:8080/",
          "height": 472
        },
        "id": "HKzC5_xb6pfq",
        "outputId": "e072fe83-671e-447d-d129-07a265f7e443"
      },
      "execution_count": 40,
      "outputs": [
        {
          "output_type": "display_data",
          "data": {
            "text/plain": [
              "<Figure size 640x480 with 1 Axes>"
            ],
            "image/png": "[encoded data removed]"
          },
          "metadata": {}
        }
      ]
    },
    {
      "cell_type": "code",
      "source": [
        "plt.plot(hist.history[\"loss\"])\n",
        "plt.plot(hist.history['val_loss'])\n",
        "plt.title(\"Model Loss\")\n",
        "plt.ylabel(\"Loss\")\n",
        "plt.xlabel(\"Epochs\")\n",
        "plt.legend([\"Loss\",\"Validation Loss\"])\n",
        "plt.show()"
      ],
      "metadata": {
        "colab": {
          "base_uri": "https://localhost:8080/",
          "height": 472
        },
        "id": "R-31Hwh46s2h",
        "outputId": "bbc36ef6-3707-407e-ea04-66b0957d2e38"
      },
      "execution_count": 41,
      "outputs": [
        {
          "output_type": "display_data",
          "data": {
            "text/plain": [
              "<Figure size 640x480 with 1 Axes>"
            ],
            "image/png": "[encoded data removed]"
          },
          "metadata": {}
        }
      ]
    },
    {
      "cell_type": "code",
      "source": [
        "y_pred1 = model_inc.predict(x_test)\n",
        "y_true = np.argmax(y_pred1,axis=1)\n",
        "y_demo = np.argmax(y_test,axis=1)"
      ],
      "metadata": {
        "id": "G7NBagcJ6vuS"
      },
      "execution_count": null,
      "outputs": []
    },
    {
      "cell_type": "code",
      "source": [
        "from sklearn.metrics import accuracy_score\n",
        "accuracy_score(y_true, y_demo)"
      ],
      "metadata": {
        "colab": {
          "base_uri": "https://localhost:8080/"
        },
        "id": "sX1vmGFR68li",
        "outputId": "99612d14-0b62-4eb5-b5e9-41ad0aba0ad7"
      },
      "execution_count": 28,
      "outputs": [
        {
          "output_type": "execute_result",
          "data": {
            "text/plain": [
              "0.7223369116432701"
            ]
          },
          "metadata": {},
          "execution_count": 28
        }
      ]
    },
    {
      "cell_type": "code",
      "source": [
        "from sklearn.metrics import f1_score\n",
        "f1_score(y_true, y_demo, average='weighted')"
      ],
      "metadata": {
        "colab": {
          "base_uri": "https://localhost:8080/"
        },
        "id": "Rxpbn4-c6-T5",
        "outputId": "0d67465b-e7e4-4940-df95-c09117b62ef7"
      },
      "execution_count": 29,
      "outputs": [
        {
          "output_type": "execute_result",
          "data": {
            "text/plain": [
              "0.7096356875795068"
            ]
          },
          "metadata": {},
          "execution_count": 29
        }
      ]
    },
    {
      "cell_type": "code",
      "source": [
        "from sklearn.metrics import recall_score\n",
        "recall_score(y_true,y_demo,average='weighted')"
      ],
      "metadata": {
        "colab": {
          "base_uri": "https://localhost:8080/"
        },
        "id": "l7Nsj_hL7AQ4",
        "outputId": "c16bf691-2d91-4d3b-9000-aa05ff668505"
      },
      "execution_count": 30,
      "outputs": [
        {
          "output_type": "execute_result",
          "data": {
            "text/plain": [
              "0.7223369116432701"
            ]
          },
          "metadata": {},
          "execution_count": 30
        }
      ]
    },
    {
      "cell_type": "code",
      "source": [
        "from sklearn.metrics import precision_score\n",
        "precision_score(y_true,y_demo,average='weighted')"
      ],
      "metadata": {
        "colab": {
          "base_uri": "https://localhost:8080/"
        },
        "id": "p2f4dr5r7Bhp",
        "outputId": "df7fddb1-8a4e-417d-aa83-a9e5499f7b19"
      },
      "execution_count": 31,
      "outputs": [
        {
          "output_type": "execute_result",
          "data": {
            "text/plain": [
              "0.7996470405703018"
            ]
          },
          "metadata": {},
          "execution_count": 31
        }
      ]
    },
    {
      "cell_type": "code",
      "source": [
        "from sklearn.metrics import classification_report\n",
        "target_names=listOfProjati\n",
        "print(classification_report(y_true, y_demo, target_names=target_names))"
      ],
      "metadata": {
        "colab": {
          "base_uri": "https://localhost:8080/"
        },
        "id": "OosuxMNXlHcJ",
        "outputId": "94596176-4da7-43eb-bda3-ab0b950880bc"
      },
      "execution_count": 32,
      "outputs": [
        {
          "output_type": "stream",
          "name": "stdout",
          "text": [
            "                      precision    recall  f1-score   support\n",
            "\n",
            "              Lengra       0.69      0.97      0.81       129\n",
            "              Fazlee       0.46      0.83      0.59       100\n",
            "          Haribhanga       0.76      0.54      0.63       252\n",
            "   Thai Banana Mango       0.21      0.88      0.33        42\n",
            "              Bari 7       0.82      0.89      0.85       141\n",
            "             Bari 11       0.95      0.98      0.96       175\n",
            "              Bari 4       0.52      0.97      0.68        97\n",
            "              Bari 8       0.65      0.99      0.79       118\n",
            "       African Jambo       0.79      0.96      0.87       148\n",
            "              Sabira       0.88      0.76      0.82       210\n",
            "Phillipine Honey Dew       0.65      0.86      0.74       136\n",
            "              Maryam       0.43      0.80      0.56        96\n",
            "     Indian Totapori       0.94      0.57      0.71       216\n",
            "         Kacha Mitha       0.76      0.96      0.85       173\n",
            "         Thai Moryam       0.80      0.83      0.81       244\n",
            "           Modhurani       0.53      0.87      0.66       112\n",
            "          Baper Bari       0.98      0.43      0.60       253\n",
            "          Red Palmar       0.64      0.93      0.76       217\n",
            "        King Breunei       0.85      0.41      0.55       372\n",
            "         Taiwani Red       0.65      0.98      0.78       141\n",
            "                Qzai       0.90      0.87      0.88       252\n",
            "           Him Sagor       0.61      0.86      0.72        88\n",
            "           Gopal Vog       0.88      1.00      0.93       164\n",
            "             Bari 13       0.57      0.98      0.72        61\n",
            "            Aprupali       0.98      0.29      0.44       625\n",
            "              Bari 9       0.86      0.81      0.84       282\n",
            "\n",
            "            accuracy                           0.72      4844\n",
            "           macro avg       0.72      0.82      0.73      4844\n",
            "        weighted avg       0.80      0.72      0.71      4844\n",
            "\n"
          ]
        }
      ]
    },
    {
      "cell_type": "code",
      "source": [
        "from sklearn.metrics import confusion_matrix\n",
        "cm = confusion_matrix(y_true, y_demo)"
      ],
      "metadata": {
        "id": "C35keGZW7Cxo"
      },
      "execution_count": 33,
      "outputs": []
    },
    {
      "cell_type": "code",
      "source": [
        "model_inc.save('mobilenetv2')"
      ],
      "metadata": {
        "colab": {
          "base_uri": "https://localhost:8080/"
        },
        "id": "ebnHng_pk0m6",
        "outputId": "be389717-d759-4f48-9715-26fbcc44a4a6"
      },
      "execution_count": 34,
      "outputs": [
        {
          "output_type": "stream",
          "name": "stderr",
          "text": [
            "WARNING:absl:Function `_wrapped_model` contains input name(s) mobilenetv2_1.00_128_input with unsupported characters which will be renamed to mobilenetv2_1_00_128_input in the SavedModel.\n",
            "WARNING:absl:`mobilenetv2_1.00_128_input` is not a valid tf.function parameter name. Sanitizing to `mobilenetv2_1_00_128_input`.\n",
            "WARNING:absl:`mobilenetv2_1.00_128_input` is not a valid tf.function parameter name. Sanitizing to `mobilenetv2_1_00_128_input`.\n",
            "WARNING:absl:`mobilenetv2_1.00_128_input` is not a valid tf.function parameter name. Sanitizing to `mobilenetv2_1_00_128_input`.\n",
            "WARNING:absl:Found untraced functions such as _update_step_xla, _jit_compiled_convolution_op, _jit_compiled_convolution_op, _jit_compiled_convolution_op, _jit_compiled_convolution_op while saving (showing 5 of 53). These functions will not be directly callable after loading.\n"
          ]
        }
      ]
    },
    {
      "cell_type": "code",
      "source": [],
      "metadata": {
        "id": "v8-A4MbVoMtx"
      },
      "execution_count": null,
      "outputs": []
    },
    {
      "cell_type": "code",
      "source": [
        "from tensorflow import keras\n",
        "model = keras.models.load_model('mobilenetv2')"
      ],
      "metadata": {
        "id": "tNg44ECtkqpD"
      },
      "execution_count": 35,
      "outputs": []
    },
    {
      "cell_type": "code",
      "source": [],
      "metadata": {
        "id": "X7kquYMrmzbN"
      },
      "execution_count": null,
      "outputs": []
    }
  ]
}