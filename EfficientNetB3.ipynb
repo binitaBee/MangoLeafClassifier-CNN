{
  "nbformat": 4,
  "nbformat_minor": 0,
  "metadata": {
    "colab": {
      "provenance": [],
      "gpuType": "T4"
    },
    "kernelspec": {
      "name": "python3",
      "display_name": "Python 3"
    },
    "language_info": {
      "name": "python"
    },
    "accelerator": "TPU"
  },
  "cells": [
    {
      "cell_type": "code",
      "source": [
        "from google.colab import drive\n",
        "drive.mount('/content/drive')"
      ],
      "metadata": {
        "colab": {
          "base_uri": "https://localhost:8080/"
        },
        "id": "hW69UG0l8d78",
        "outputId": "403604a1-7c11-4a01-b831-ce05347845e7"
      },
      "execution_count": null,
      "outputs": [
        {
          "output_type": "stream",
          "name": "stdout",
          "text": [
            "Drive already mounted at /content/drive; to attempt to forcibly remount, call drive.mount(\"/content/drive\", force_remount=True).\n"
          ]
        }
      ]
    },
    {
      "cell_type": "code",
      "execution_count": null,
      "metadata": {
        "id": "Pdqa9WiwPSlx"
      },
      "outputs": [],
      "source": [
        "%cd /content/drive/MyDrive/Preprocessed\n",
        "!ls"
      ]
    },
    {
      "cell_type": "code",
      "source": [
        "listOfProjati = []\n",
        "ProjatiDirectory = {}\n",
        "import os\n",
        "path = os.getcwd()\n",
        "for dir in os.listdir(path):\n",
        "  if os.path.isdir(dir):\n",
        "    if str(dir) != \"thai banana mango (renamed)\" and str(dir) != \"Jubair\":\n",
        "      listOfProjati.append(str(dir))\n",
        "      ProjatiDirectory[str(dir)] = '/' + str(dir)\n",
        "ProjatiDirectory"
      ],
      "metadata": {
        "id": "Ek1qHRChQasH"
      },
      "execution_count": null,
      "outputs": []
    },
    {
      "cell_type": "code",
      "source": [
        "countDict = {}\n",
        "for projati in listOfProjati:\n",
        "  subfolderPath = path + ProjatiDirectory[projati]\n",
        "  c = 0\n",
        "  for file in os.listdir(subfolderPath):\n",
        "    if file.endswith('.jpg') or file.endswith('.JPG') or file.endswith('.jpeg') or file.endswith('.JPEG') or file.endswith('.PNG') or file.endswith('.png'):\n",
        "      # file_name, file_extension = os.path.splitext(file)\n",
        "      c += 1\n",
        "  countDict[projati] = c\n",
        "countDict"
      ],
      "metadata": {
        "id": "DDyFttNvQlIZ"
      },
      "execution_count": null,
      "outputs": []
    },
    {
      "cell_type": "code",
      "source": [
        "import numpy as np\n",
        "img_data=np.load('image_data_pp.npy')\n",
        "img_data"
      ],
      "metadata": {
        "id": "KL7-_28kY2Qh",
        "colab": {
          "base_uri": "https://localhost:8080/"
        },
        "outputId": "eb460c1f-d4dd-42aa-d540-7d3fd8a93613"
      },
      "execution_count": null,
      "outputs": [
        {
          "output_type": "execute_result",
          "data": {
            "text/plain": [
              "array([[[[0.64705884, 0.6431373 , 0.654902  ],\n",
              "         [0.64705884, 0.6431373 , 0.65882355],\n",
              "         [0.64705884, 0.6431373 , 0.65882355],\n",
              "         ...,\n",
              "         [0.7921569 , 0.8156863 , 0.80784315],\n",
              "         [0.79607844, 0.8117647 , 0.80784315],\n",
              "         [0.8       , 0.8117647 , 0.8117647 ]],\n",
              "\n",
              "        [[0.6431373 , 0.6392157 , 0.64705884],\n",
              "         [0.6431373 , 0.6392157 , 0.654902  ],\n",
              "         [0.6431373 , 0.6392157 , 0.654902  ],\n",
              "         ...,\n",
              "         [0.8       , 0.8117647 , 0.80784315],\n",
              "         [0.8039216 , 0.8117647 , 0.80784315],\n",
              "         [0.8039216 , 0.8117647 , 0.8117647 ]],\n",
              "\n",
              "        [[0.6431373 , 0.6392157 , 0.6509804 ],\n",
              "         [0.64705884, 0.6431373 , 0.654902  ],\n",
              "         [0.6431373 , 0.6392157 , 0.654902  ],\n",
              "         ...,\n",
              "         [0.8       , 0.8117647 , 0.8039216 ],\n",
              "         [0.8039216 , 0.8156863 , 0.80784315],\n",
              "         [0.8       , 0.8117647 , 0.80784315]],\n",
              "\n",
              "        ...,\n",
              "\n",
              "        [[0.7882353 , 0.78039217, 0.78039217],\n",
              "         [0.7921569 , 0.78431374, 0.78431374],\n",
              "         [0.7921569 , 0.78431374, 0.78431374],\n",
              "         ...,\n",
              "         [0.88235295, 0.88235295, 0.88235295],\n",
              "         [0.88235295, 0.88235295, 0.88235295],\n",
              "         [0.88235295, 0.88235295, 0.88235295]],\n",
              "\n",
              "        [[0.7921569 , 0.78431374, 0.78431374],\n",
              "         [0.7921569 , 0.78431374, 0.78431374],\n",
              "         [0.7921569 , 0.78431374, 0.78431374],\n",
              "         ...,\n",
              "         [0.88235295, 0.88235295, 0.88235295],\n",
              "         [0.8784314 , 0.8784314 , 0.8784314 ],\n",
              "         [0.88235295, 0.88235295, 0.88235295]],\n",
              "\n",
              "        [[0.7921569 , 0.78431374, 0.7882353 ],\n",
              "         [0.7921569 , 0.78431374, 0.78431374],\n",
              "         [0.7882353 , 0.78039217, 0.78039217],\n",
              "         ...,\n",
              "         [0.88235295, 0.88235295, 0.88235295],\n",
              "         [0.88235295, 0.88235295, 0.88235295],\n",
              "         [0.8745098 , 0.8745098 , 0.8745098 ]]],\n",
              "\n",
              "\n",
              "       [[[0.8392157 , 0.8392157 , 0.8392157 ],\n",
              "         [0.84313726, 0.84313726, 0.84313726],\n",
              "         [0.84313726, 0.84313726, 0.84313726],\n",
              "         ...,\n",
              "         [0.7058824 , 0.7058824 , 0.7058824 ],\n",
              "         [0.7019608 , 0.7019608 , 0.7019608 ],\n",
              "         [0.6901961 , 0.6901961 , 0.69411767]],\n",
              "\n",
              "        [[0.8392157 , 0.8392157 , 0.8392157 ],\n",
              "         [0.8392157 , 0.8392157 , 0.8392157 ],\n",
              "         [0.8392157 , 0.8392157 , 0.8392157 ],\n",
              "         ...,\n",
              "         [0.69803923, 0.69411767, 0.69803923],\n",
              "         [0.6901961 , 0.6901961 , 0.6901961 ],\n",
              "         [0.68235296, 0.6862745 , 0.6862745 ]],\n",
              "\n",
              "        [[0.8392157 , 0.8392157 , 0.8392157 ],\n",
              "         [0.8352941 , 0.8352941 , 0.8352941 ],\n",
              "         [0.8392157 , 0.8392157 , 0.8392157 ],\n",
              "         ...,\n",
              "         [0.69411767, 0.69411767, 0.69411767],\n",
              "         [0.6862745 , 0.6862745 , 0.6862745 ],\n",
              "         [0.68235296, 0.68235296, 0.68235296]],\n",
              "\n",
              "        ...,\n",
              "\n",
              "        [[0.77254903, 0.7921569 , 0.78431374],\n",
              "         [0.7764706 , 0.79607844, 0.7882353 ],\n",
              "         [0.7764706 , 0.79607844, 0.7882353 ],\n",
              "         ...,\n",
              "         [0.6       , 0.60784316, 0.6156863 ],\n",
              "         [0.6       , 0.60784316, 0.6117647 ],\n",
              "         [0.6       , 0.60784316, 0.6117647 ]],\n",
              "\n",
              "        [[0.77254903, 0.7921569 , 0.78431374],\n",
              "         [0.77254903, 0.7921569 , 0.78431374],\n",
              "         [0.77254903, 0.7921569 , 0.78431374],\n",
              "         ...,\n",
              "         [0.6       , 0.6039216 , 0.6156863 ],\n",
              "         [0.6039216 , 0.6117647 , 0.6156863 ],\n",
              "         [0.6       , 0.60784316, 0.6117647 ]],\n",
              "\n",
              "        [[0.77254903, 0.7921569 , 0.78431374],\n",
              "         [0.7764706 , 0.79607844, 0.7882353 ],\n",
              "         [0.77254903, 0.7921569 , 0.78431374],\n",
              "         ...,\n",
              "         [0.60784316, 0.6117647 , 0.62352943],\n",
              "         [0.60784316, 0.6117647 , 0.627451  ],\n",
              "         [0.60784316, 0.6156863 , 0.627451  ]]],\n",
              "\n",
              "\n",
              "       [[[0.8666667 , 0.8745098 , 0.8745098 ],\n",
              "         [0.8666667 , 0.8745098 , 0.8745098 ],\n",
              "         [0.8666667 , 0.8745098 , 0.8745098 ],\n",
              "         ...,\n",
              "         [0.80784315, 0.8039216 , 0.8117647 ],\n",
              "         [0.80784315, 0.8039216 , 0.8117647 ],\n",
              "         [0.8117647 , 0.80784315, 0.8156863 ]],\n",
              "\n",
              "        [[0.8666667 , 0.8745098 , 0.8745098 ],\n",
              "         [0.8627451 , 0.87058824, 0.87058824],\n",
              "         [0.8627451 , 0.87058824, 0.87058824],\n",
              "         ...,\n",
              "         [0.80784315, 0.8039216 , 0.8117647 ],\n",
              "         [0.8039216 , 0.8       , 0.80784315],\n",
              "         [0.8       , 0.79607844, 0.8       ]],\n",
              "\n",
              "        [[0.8627451 , 0.87058824, 0.87058824],\n",
              "         [0.8627451 , 0.87058824, 0.87058824],\n",
              "         [0.8627451 , 0.87058824, 0.87058824],\n",
              "         ...,\n",
              "         [0.8       , 0.8       , 0.8039216 ],\n",
              "         [0.8       , 0.79607844, 0.8       ],\n",
              "         [0.8039216 , 0.8       , 0.8       ]],\n",
              "\n",
              "        ...,\n",
              "\n",
              "        [[0.7921569 , 0.8117647 , 0.80784315],\n",
              "         [0.7921569 , 0.8117647 , 0.80784315],\n",
              "         [0.7921569 , 0.8117647 , 0.80784315],\n",
              "         ...,\n",
              "         [0.5882353 , 0.5921569 , 0.60784316],\n",
              "         [0.5921569 , 0.59607846, 0.6117647 ],\n",
              "         [0.59607846, 0.6       , 0.6156863 ]],\n",
              "\n",
              "        [[0.7921569 , 0.8117647 , 0.80784315],\n",
              "         [0.7882353 , 0.80784315, 0.8039216 ],\n",
              "         [0.7921569 , 0.8117647 , 0.80784315],\n",
              "         ...,\n",
              "         [0.5921569 , 0.59607846, 0.6117647 ],\n",
              "         [0.59607846, 0.6       , 0.6156863 ],\n",
              "         [0.59607846, 0.6       , 0.6156863 ]],\n",
              "\n",
              "        [[0.7882353 , 0.80784315, 0.8039216 ],\n",
              "         [0.7882353 , 0.80784315, 0.8039216 ],\n",
              "         [0.7882353 , 0.80784315, 0.8       ],\n",
              "         ...,\n",
              "         [0.59607846, 0.6       , 0.6156863 ],\n",
              "         [0.59607846, 0.6       , 0.6156863 ],\n",
              "         [0.6       , 0.6039216 , 0.61960787]]],\n",
              "\n",
              "\n",
              "       ...,\n",
              "\n",
              "\n",
              "       [[[0.9607843 , 0.98039216, 0.9764706 ],\n",
              "         [0.9490196 , 0.9647059 , 0.972549  ],\n",
              "         [0.9607843 , 0.98039216, 0.9764706 ],\n",
              "         ...,\n",
              "         [0.9882353 , 0.99607843, 1.        ],\n",
              "         [0.9882353 , 0.99607843, 1.        ],\n",
              "         [0.99607843, 0.99607843, 0.99607843]],\n",
              "\n",
              "        [[0.9607843 , 0.9764706 , 0.9843137 ],\n",
              "         [0.9607843 , 0.9764706 , 0.9843137 ],\n",
              "         [0.9490196 , 0.9647059 , 0.972549  ],\n",
              "         ...,\n",
              "         [0.9882353 , 0.99607843, 1.        ],\n",
              "         [0.99607843, 0.99607843, 0.99607843],\n",
              "         [0.99607843, 0.99607843, 0.99607843]],\n",
              "\n",
              "        [[0.9490196 , 0.9647059 , 0.972549  ],\n",
              "         [0.9490196 , 0.9647059 , 0.972549  ],\n",
              "         [0.9490196 , 0.9647059 , 0.972549  ],\n",
              "         ...,\n",
              "         [0.9882353 , 0.99607843, 1.        ],\n",
              "         [0.9882353 , 0.99607843, 1.        ],\n",
              "         [0.99607843, 0.99607843, 0.99607843]],\n",
              "\n",
              "        ...,\n",
              "\n",
              "        [[0.94509804, 0.94509804, 0.94509804],\n",
              "         [0.95686275, 0.95686275, 0.95686275],\n",
              "         [0.95686275, 0.95686275, 0.95686275],\n",
              "         ...,\n",
              "         [1.        , 1.        , 1.        ],\n",
              "         [0.99215686, 0.99215686, 0.99215686],\n",
              "         [1.        , 1.        , 1.        ]],\n",
              "\n",
              "        [[0.9490196 , 0.95686275, 0.9529412 ],\n",
              "         [0.95686275, 0.95686275, 0.95686275],\n",
              "         [0.95686275, 0.95686275, 0.95686275],\n",
              "         ...,\n",
              "         [0.99215686, 0.99215686, 0.99215686],\n",
              "         [0.99215686, 0.99215686, 0.99215686],\n",
              "         [0.99215686, 0.99215686, 0.99215686]],\n",
              "\n",
              "        [[0.92941177, 0.9411765 , 0.93333334],\n",
              "         [0.92941177, 0.9411765 , 0.93333334],\n",
              "         [0.92941177, 0.9411765 , 0.93333334],\n",
              "         ...,\n",
              "         [0.99215686, 0.99215686, 0.99215686],\n",
              "         [0.99215686, 0.99215686, 0.99215686],\n",
              "         [1.        , 0.99215686, 0.9882353 ]]],\n",
              "\n",
              "\n",
              "       [[[1.        , 1.        , 1.        ],\n",
              "         [1.        , 1.        , 1.        ],\n",
              "         [1.        , 1.        , 1.        ],\n",
              "         ...,\n",
              "         [1.        , 1.        , 1.        ],\n",
              "         [1.        , 1.        , 1.        ],\n",
              "         [1.        , 1.        , 1.        ]],\n",
              "\n",
              "        [[1.        , 1.        , 1.        ],\n",
              "         [1.        , 1.        , 1.        ],\n",
              "         [1.        , 1.        , 1.        ],\n",
              "         ...,\n",
              "         [1.        , 1.        , 1.        ],\n",
              "         [1.        , 1.        , 1.        ],\n",
              "         [1.        , 1.        , 1.        ]],\n",
              "\n",
              "        [[1.        , 1.        , 1.        ],\n",
              "         [1.        , 1.        , 1.        ],\n",
              "         [1.        , 1.        , 1.        ],\n",
              "         ...,\n",
              "         [1.        , 1.        , 1.        ],\n",
              "         [1.        , 1.        , 1.        ],\n",
              "         [1.        , 1.        , 1.        ]],\n",
              "\n",
              "        ...,\n",
              "\n",
              "        [[0.972549  , 0.972549  , 0.972549  ],\n",
              "         [0.972549  , 0.9764706 , 0.9764706 ],\n",
              "         [0.9764706 , 0.9764706 , 0.972549  ],\n",
              "         ...,\n",
              "         [1.        , 1.        , 1.        ],\n",
              "         [1.        , 1.        , 1.        ],\n",
              "         [1.        , 1.        , 1.        ]],\n",
              "\n",
              "        [[0.96862745, 0.9764706 , 0.972549  ],\n",
              "         [0.972549  , 0.9764706 , 0.972549  ],\n",
              "         [0.972549  , 0.9764706 , 0.972549  ],\n",
              "         ...,\n",
              "         [1.        , 1.        , 1.        ],\n",
              "         [1.        , 1.        , 1.        ],\n",
              "         [1.        , 1.        , 1.        ]],\n",
              "\n",
              "        [[0.9647059 , 0.96862745, 0.96862745],\n",
              "         [0.96862745, 0.972549  , 0.96862745],\n",
              "         [0.96862745, 0.972549  , 0.96862745],\n",
              "         ...,\n",
              "         [1.        , 1.        , 1.        ],\n",
              "         [1.        , 1.        , 1.        ],\n",
              "         [1.        , 1.        , 1.        ]]],\n",
              "\n",
              "\n",
              "       [[[0.94509804, 0.9607843 , 0.9607843 ],\n",
              "         [0.9411765 , 0.95686275, 0.9607843 ],\n",
              "         [0.94509804, 0.9607843 , 0.9607843 ],\n",
              "         ...,\n",
              "         [0.96862745, 0.9764706 , 0.9764706 ],\n",
              "         [0.972549  , 0.9764706 , 0.9764706 ],\n",
              "         [0.9764706 , 0.9764706 , 0.9764706 ]],\n",
              "\n",
              "        [[0.94509804, 0.9607843 , 0.9647059 ],\n",
              "         [0.94509804, 0.9607843 , 0.9647059 ],\n",
              "         [0.9411765 , 0.95686275, 0.9607843 ],\n",
              "         ...,\n",
              "         [0.972549  , 0.9764706 , 0.9764706 ],\n",
              "         [0.9764706 , 0.9764706 , 0.9764706 ],\n",
              "         [0.9764706 , 0.9764706 , 0.9764706 ]],\n",
              "\n",
              "        [[0.9411765 , 0.95686275, 0.9607843 ],\n",
              "         [0.9411765 , 0.95686275, 0.9607843 ],\n",
              "         [0.9411765 , 0.95686275, 0.9607843 ],\n",
              "         ...,\n",
              "         [0.972549  , 0.9764706 , 0.9764706 ],\n",
              "         [0.972549  , 0.9764706 , 0.9764706 ],\n",
              "         [0.9764706 , 0.9764706 , 0.9764706 ]],\n",
              "\n",
              "        ...,\n",
              "\n",
              "        [[0.9019608 , 0.9019608 , 0.9019608 ],\n",
              "         [0.9019608 , 0.90588236, 0.90588236],\n",
              "         [0.90588236, 0.90588236, 0.9019608 ],\n",
              "         ...,\n",
              "         [0.9882353 , 0.9882353 , 0.9882353 ],\n",
              "         [0.9843137 , 0.9843137 , 0.9843137 ],\n",
              "         [0.9882353 , 0.9882353 , 0.9882353 ]],\n",
              "\n",
              "        [[0.8980392 , 0.90588236, 0.9019608 ],\n",
              "         [0.9019608 , 0.90588236, 0.9019608 ],\n",
              "         [0.9019608 , 0.90588236, 0.9019608 ],\n",
              "         ...,\n",
              "         [0.9843137 , 0.9843137 , 0.9843137 ],\n",
              "         [0.9843137 , 0.9843137 , 0.9843137 ],\n",
              "         [0.9843137 , 0.9843137 , 0.9843137 ]],\n",
              "\n",
              "        [[0.8901961 , 0.8980392 , 0.89411765],\n",
              "         [0.89411765, 0.9019608 , 0.89411765],\n",
              "         [0.89411765, 0.9019608 , 0.89411765],\n",
              "         ...,\n",
              "         [0.9843137 , 0.9843137 , 0.9843137 ],\n",
              "         [0.9843137 , 0.9843137 , 0.9843137 ],\n",
              "         [0.9882353 , 0.9843137 , 0.9843137 ]]]], dtype=float32)"
            ]
          },
          "metadata": {},
          "execution_count": 5
        }
      ]
    },
    {
      "cell_type": "code",
      "source": [
        "import gc\n",
        "gc.collect()"
      ],
      "metadata": {
        "id": "7xKYuTjmQ9Hr",
        "colab": {
          "base_uri": "https://localhost:8080/"
        },
        "outputId": "4b7db14e-bb5b-4053-f95d-cbcc244154e8"
      },
      "execution_count": null,
      "outputs": [
        {
          "output_type": "execute_result",
          "data": {
            "text/plain": [
              "32"
            ]
          },
          "metadata": {},
          "execution_count": 6
        }
      ]
    },
    {
      "cell_type": "code",
      "source": [
        "listOfProjatiCopy = listOfProjati.copy()\n"
      ],
      "metadata": {
        "id": "KPDVbQGx_nZd"
      },
      "execution_count": null,
      "outputs": []
    },
    {
      "cell_type": "code",
      "source": [
        "from sklearn import preprocessing\n",
        "le = preprocessing.LabelEncoder()\n",
        "le.fit(listOfProjatiCopy)\n",
        "listOfProjatiCopy = le.transform(listOfProjatiCopy)\n",
        "listOfProjatiCopy"
      ],
      "metadata": {
        "id": "8KGghEVp_qqO",
        "colab": {
          "base_uri": "https://localhost:8080/"
        },
        "outputId": "5cfa9705-da03-4cfd-cc9c-398a1800604d"
      },
      "execution_count": null,
      "outputs": [
        {
          "output_type": "execute_result",
          "data": {
            "text/plain": [
              "array([16,  9, 11, 24,  6,  3,  5,  7,  0, 22, 19, 17, 13, 14, 25, 18,  2,\n",
              "       21, 15, 23, 20, 12, 10,  4,  1,  8])"
            ]
          },
          "metadata": {},
          "execution_count": 8
        }
      ]
    },
    {
      "cell_type": "code",
      "source": [
        "target_val = []\n",
        "for i in range(len(listOfProjati)):\n",
        "  tempList = [listOfProjatiCopy[i]]*countDict[listOfProjati[i]]\n",
        "  target_val.extend(tempList)\n",
        "target_val = np.array(target_val)\n",
        "target_val"
      ],
      "metadata": {
        "id": "YmXcKcj7_tGY",
        "colab": {
          "base_uri": "https://localhost:8080/"
        },
        "outputId": "fa31d5ac-1585-446f-9243-6f22a7c315c3"
      },
      "execution_count": null,
      "outputs": [
        {
          "output_type": "execute_result",
          "data": {
            "text/plain": [
              "array([16, 16, 16, ...,  8,  8,  8])"
            ]
          },
          "metadata": {},
          "execution_count": 9
        }
      ]
    },
    {
      "cell_type": "code",
      "source": [
        "import numpy as np\n",
        "import pandas as pd\n",
        "import os\n",
        "import tensorflow as tf\n",
        "import cv2\n",
        "from tensorflow import keras\n",
        "from tensorflow.keras.layers import Dense, LSTM, Dropout, GRU, Bidirectional\n",
        "from tensorflow.keras.models import Sequential, Model\n",
        "from  matplotlib import pyplot as plt\n",
        "import matplotlib.image as mpimg\n",
        "import random\n",
        "%matplotlib inline"
      ],
      "metadata": {
        "id": "8AGoLWlUQ_dS"
      },
      "execution_count": null,
      "outputs": []
    },
    {
      "cell_type": "code",
      "source": [
        "listOfProjatiCopy = listOfProjati.copy()"
      ],
      "metadata": {
        "id": "t6XGNNMwRCcF"
      },
      "execution_count": null,
      "outputs": []
    },
    {
      "cell_type": "code",
      "source": [
        "from sklearn import preprocessing\n",
        "le = preprocessing.LabelEncoder()\n",
        "le.fit(listOfProjatiCopy)\n",
        "listOfProjatiCopy = le.transform(listOfProjatiCopy)\n",
        "listOfProjatiCopy"
      ],
      "metadata": {
        "id": "PRdhmgpuRFPs",
        "colab": {
          "base_uri": "https://localhost:8080/"
        },
        "outputId": "92a62a31-9b24-48a6-96b1-cc2193f2c007"
      },
      "execution_count": null,
      "outputs": [
        {
          "output_type": "execute_result",
          "data": {
            "text/plain": [
              "array([16,  9, 11, 24,  6,  3,  5,  7,  0, 22, 19, 17, 13, 14, 25, 18,  2,\n",
              "       21, 15, 23, 20, 12, 10,  4,  1,  8])"
            ]
          },
          "metadata": {},
          "execution_count": 12
        }
      ]
    },
    {
      "cell_type": "code",
      "source": [
        "target_val = []\n",
        "for i in range(len(listOfProjati)):\n",
        "  tempList = [listOfProjatiCopy[i]]*countDict[listOfProjati[i]]\n",
        "  target_val.extend(tempList)\n",
        "target_val = np.array(target_val)\n",
        "target_val"
      ],
      "metadata": {
        "id": "eKJ6lH4zRHtp",
        "colab": {
          "base_uri": "https://localhost:8080/"
        },
        "outputId": "635d61d3-2550-4519-ee02-d5ebb22b0b2b"
      },
      "execution_count": null,
      "outputs": [
        {
          "output_type": "execute_result",
          "data": {
            "text/plain": [
              "array([16, 16, 16, ...,  8,  8,  8])"
            ]
          },
          "metadata": {},
          "execution_count": 13
        }
      ]
    },
    {
      "cell_type": "code",
      "source": [
        "from sklearn.model_selection import train_test_split\n",
        "x, x_test, y, y_test = train_test_split(img_data,target_val,test_size=0.3, stratify=target_val)\n",
        "x_train, x_val, y_train, y_val = train_test_split(x,y,test_size = 0.2, stratify=y)"
      ],
      "metadata": {
        "id": "a8td3rHDRKQY"
      },
      "execution_count": null,
      "outputs": []
    },
    {
      "cell_type": "code",
      "source": [
        "from tensorflow.keras.utils import to_categorical\n",
        "y_train=to_categorical(y_train)\n",
        "y_val=to_categorical(y_val)\n",
        "y_test=to_categorical(y_test)\n",
        "print((x_train.shape,y_train.shape))\n",
        "print((x_val.shape,y_val.shape))\n",
        "print((x_test.shape,y_test.shape))"
      ],
      "metadata": {
        "id": "onDQWRiRRHzq",
        "colab": {
          "base_uri": "https://localhost:8080/"
        },
        "outputId": "72f55d8f-50f9-4581-a019-2db4bb6cc162"
      },
      "execution_count": null,
      "outputs": [
        {
          "output_type": "stream",
          "name": "stdout",
          "text": [
            "((9041, 128, 128, 3), (9041, 26))\n",
            "((2261, 128, 128, 3), (2261, 26))\n",
            "((4844, 128, 128, 3), (4844, 26))\n"
          ]
        }
      ]
    },
    {
      "cell_type": "code",
      "source": [
        "from keras.preprocessing.image import ImageDataGenerator\n",
        "train_generator = ImageDataGenerator()\n",
        "val_generator = ImageDataGenerator()\n",
        "test_generator = ImageDataGenerator()\n",
        "train_generator.fit(x_train)\n",
        "val_generator.fit(x_val)\n",
        "test_generator.fit(x_test)"
      ],
      "metadata": {
        "id": "JclczhHeRP5u"
      },
      "execution_count": null,
      "outputs": []
    },
    {
      "cell_type": "code",
      "source": [
        "import tensorflow as tf\n",
        "from tensorflow import keras\n",
        "from tensorflow.keras.models import Sequential\n",
        "from tensorflow.keras.optimizers import Adam, Adamax,SGD\n",
        "from tensorflow.keras.metrics import categorical_crossentropy\n",
        "from tensorflow.keras.preprocessing.image import ImageDataGenerator\n",
        "from tensorflow.keras.layers import Conv2D, MaxPooling2D, Flatten, Dense, Activation, Dropout, BatchNormalization\n",
        "from tensorflow.keras import regularizers\n",
        "from keras.callbacks import ReduceLROnPlateau"
      ],
      "metadata": {
        "id": "F6H3ZtS_RTox"
      },
      "execution_count": null,
      "outputs": []
    },
    {
      "cell_type": "code",
      "source": [
        "Model = tf.keras.applications.efficientnet.EfficientNetB3(include_top= False, weights= \"imagenet\", input_shape= (128,128,3), pooling= 'max')"
      ],
      "metadata": {
        "id": "sHZosdfIRUbJ",
        "colab": {
          "base_uri": "https://localhost:8080/"
        },
        "outputId": "eb4761cf-9900-4c67-f494-be508ae7eeb7"
      },
      "execution_count": null,
      "outputs": [
        {
          "output_type": "stream",
          "name": "stdout",
          "text": [
            "Downloading data from https://storage.googleapis.com/keras-applications/efficientnetb3_notop.h5\n",
            "43941136/43941136 [==============================] - 0s 0us/step\n"
          ]
        }
      ]
    },
    {
      "cell_type": "code",
      "source": [
        "model = Sequential([\n",
        "    Model,\n",
        "    BatchNormalization(axis= -1, momentum= 0.99, epsilon= 0.001),\n",
        "    Dense(256, kernel_regularizer= regularizers.l2(l= 0.016), activity_regularizer= regularizers.l1(0.006),\n",
        "                bias_regularizer= regularizers.l1(0.006), activation= 'relu'),\n",
        "    Dropout(rate= 0.45, seed= 123),\n",
        "    Dense(26, activation= 'softmax')\n",
        "])\n",
        "\n",
        "model.compile(Adamax(learning_rate= 0.001), loss= 'categorical_crossentropy', metrics= ['accuracy'])\n",
        "\n",
        "model.summary()"
      ],
      "metadata": {
        "id": "KnpAS_3cRXBU"
      },
      "execution_count": null,
      "outputs": []
    },
    {
      "cell_type": "code",
      "source": [
        "batch_size= 40\n",
        "epochs=20\n",
        "learning_rate=.001\n",
        "sgd=SGD(learning_rate,momentum=.9,nesterov=False)"
      ],
      "metadata": {
        "id": "f7xIhPvdRY7L"
      },
      "execution_count": null,
      "outputs": []
    },
    {
      "cell_type": "code",
      "source": [
        "model.compile(optimizer=sgd,loss='categorical_crossentropy',metrics=['accuracy'])\n",
        "lrr= ReduceLROnPlateau(monitor='val_accuracy', factor=.01,  patience=3, min_lr=1e-5)"
      ],
      "metadata": {
        "id": "FyF75E0ZRa5B"
      },
      "execution_count": null,
      "outputs": []
    },
    {
      "cell_type": "code",
      "source": [
        "hist = model.fit(train_generator.flow(x_train, y_train, batch_size = batch_size), epochs=epochs, steps_per_epoch = x_train.shape[0]//batch_size, validation_data = val_generator.flow(x_val, y_val, batch_size = batch_size), callbacks = [lrr], verbose = 1)"
      ],
      "metadata": {
        "id": "5KrlAkIYRdQ2",
        "colab": {
          "base_uri": "https://localhost:8080/"
        },
        "outputId": "d9ba8383-2690-4128-a355-3dc874717056"
      },
      "execution_count": null,
      "outputs": [
        {
          "output_type": "stream",
          "name": "stdout",
          "text": [
            "Epoch 1/20\n",
            "  2/226 [..............................] - ETA: 37:58 - loss: 12.5914 - accuracy: 0.0250  "
          ]
        }
      ]
    },
    {
      "cell_type": "code",
      "source": [
        "plt.plot(hist.history[\"accuracy\"])\n",
        "plt.plot(hist.history['val_accuracy'])\n",
        "plt.ylim(0,1)\n",
        "plt.title(\"Model accuracy\")\n",
        "plt.ylabel(\"Accuracy\")\n",
        "plt.xlabel(\"Epochs\")\n",
        "plt.legend([\"Accuracy\",\"Validation Accuracy\"])\n",
        "plt.show()"
      ],
      "metadata": {
        "id": "meuUKHwIRfD6",
        "colab": {
          "base_uri": "https://localhost:8080/",
          "height": 472
        },
        "outputId": "d64beb65-736b-4584-9ec6-8c8984737bda"
      },
      "execution_count": null,
      "outputs": [
        {
          "output_type": "display_data",
          "data": {
            "text/plain": [
              "<Figure size 640x480 with 1 Axes>"
            ],
            "image/png": "[encoded data removed]"
          },
          "metadata": {}
        }
      ]
    },
    {
      "cell_type": "code",
      "source": [
        "plt.plot(hist.history[\"loss\"])\n",
        "plt.plot(hist.history['val_loss'])\n",
        "plt.title(\"Model Loss\")\n",
        "plt.ylabel(\"Loss\")\n",
        "plt.xlabel(\"Epochs\")\n",
        "plt.legend([\"Loss\",\"Validation Loss\"])\n",
        "plt.show()"
      ],
      "metadata": {
        "id": "aRaxCcHZRhQx",
        "colab": {
          "base_uri": "https://localhost:8080/",
          "height": 472
        },
        "outputId": "278ccdeb-8992-4517-b1e6-82bcdcbb7b74"
      },
      "execution_count": null,
      "outputs": [
        {
          "output_type": "display_data",
          "data": {
            "text/plain": [
              "<Figure size 640x480 with 1 Axes>"
            ],
            "image/png": "[encoded data removed]"
          },
          "metadata": {}
        }
      ]
    },
    {
      "cell_type": "code",
      "source": [
        "y_pred1 = model.predict(x_test)\n",
        "y_true = np.argmax(y_pred1,axis=1)\n",
        "y_demo = np.argmax(y_test,axis=1)"
      ],
      "metadata": {
        "id": "TEvLo3-BRkuJ",
        "colab": {
          "base_uri": "https://localhost:8080/"
        },
        "outputId": "c48323ff-534c-40a8-9d28-3aed51913c49"
      },
      "execution_count": null,
      "outputs": [
        {
          "output_type": "stream",
          "name": "stdout",
          "text": [
            "136/136 [==============================] - 5s 23ms/step\n"
          ]
        }
      ]
    },
    {
      "cell_type": "code",
      "source": [
        "from sklearn.metrics import accuracy_score\n",
        "accuracy_score(y_true, y_demo)"
      ],
      "metadata": {
        "id": "wlfUgxIrRlc1",
        "colab": {
          "base_uri": "https://localhost:8080/"
        },
        "outputId": "e4321497-26e7-4183-9ccb-652e86ea8bcf"
      },
      "execution_count": null,
      "outputs": [
        {
          "output_type": "execute_result",
          "data": {
            "text/plain": [
              "0.8287433464475816"
            ]
          },
          "metadata": {},
          "execution_count": 35
        }
      ]
    },
    {
      "cell_type": "code",
      "source": [
        "from sklearn.metrics import f1_score\n",
        "f1_score(y_true, y_demo, average='weighted')"
      ],
      "metadata": {
        "id": "u6ZHHypMRnZ1",
        "colab": {
          "base_uri": "https://localhost:8080/"
        },
        "outputId": "de932f87-c277-4aa4-9a62-4c1ede9bd7d4"
      },
      "execution_count": null,
      "outputs": [
        {
          "output_type": "execute_result",
          "data": {
            "text/plain": [
              "0.8368234906009143"
            ]
          },
          "metadata": {},
          "execution_count": 36
        }
      ]
    },
    {
      "cell_type": "code",
      "source": [
        "from sklearn.metrics import recall_score\n",
        "recall_score(y_true,y_demo,average='weighted')"
      ],
      "metadata": {
        "id": "xotUHKcjRpLP",
        "colab": {
          "base_uri": "https://localhost:8080/"
        },
        "outputId": "a18f53a4-c474-4eee-d542-19f2fac572b3"
      },
      "execution_count": null,
      "outputs": [
        {
          "output_type": "execute_result",
          "data": {
            "text/plain": [
              "0.8287433464475816"
            ]
          },
          "metadata": {},
          "execution_count": 37
        }
      ]
    },
    {
      "cell_type": "code",
      "source": [
        "from sklearn.metrics import precision_score\n",
        "precision_score(y_true,y_demo,average='weighted')"
      ],
      "metadata": {
        "id": "xeYhKPnDRsKy",
        "colab": {
          "base_uri": "https://localhost:8080/"
        },
        "outputId": "dc040ef3-41f0-412e-dfc7-d6fa79068da8"
      },
      "execution_count": null,
      "outputs": [
        {
          "output_type": "execute_result",
          "data": {
            "text/plain": [
              "0.8525803795556472"
            ]
          },
          "metadata": {},
          "execution_count": 38
        }
      ]
    },
    {
      "cell_type": "code",
      "source": [
        "from sklearn.metrics import confusion_matrix\n",
        "cm = confusion_matrix(y_true, y_demo)\n",
        "print(cm)"
      ],
      "metadata": {
        "id": "FtC5uQDORtlJ",
        "colab": {
          "base_uri": "https://localhost:8080/"
        },
        "outputId": "f91750db-303c-43a9-9ba6-5c5782c2a4fa"
      },
      "execution_count": null,
      "outputs": [
        {
          "output_type": "stream",
          "name": "stdout",
          "text": [
            "[[127   0   0   0   0   0   0   0   0   0   0   1   0   0   0   1   2   3\n",
            "    0   0   1   2   0   0   0   3   0   0   0   0   2]\n",
            " [  0 266   8   9  10   0   0   0   0   1  11   0   1   7   9   1   1   4\n",
            "    0   2   1   0   0   0   0   1   1   1   1   0   5]\n",
            " [  0   1  45   0   0   0   0   0   0  16   0   0   0   2   0   0   0   0\n",
            "    0   0   1   0   0   0   0   0   0   2   0   0  14]\n",
            " [  0   5   0  14   3   0   0   0   0   0   1   0   0   0   0   0   0   0\n",
            "    0   0   0   0   1   0   1   2   0   0   0   0   0]\n",
            " [  0   1   0   0   3   0   0   0   0   0   4   0   1   1   3   0   0   0\n",
            "    0   0   0   0   0   0   0   0   0   0   0   0   0]\n",
            " [  0   0   2   0   0 139   0   0   0   0   0   0   0   0   0   0   0   0\n",
            "    0   0   0   0   0   0   0   0   0   0   2   1   0]\n",
            " [  0   1   0   0   0   0 190   0   0   0   0   0   0   0   0   0   0   2\n",
            "    0   4   0   2   0   7   0   0   0   0   1   0   0]\n",
            " [  0   1   0   0   0   0   0  50   0   0   0   0   0   0   0   0   0   0\n",
            "    0   0   0   0   0   0   0   0   0   0   0   0   0]\n",
            " [  0   0   0   0   0   0   0   0  14   0   1   0   0   0   0   0   0   0\n",
            "    0   0   0   0   0   0   0   0   0  19   0   0   0]\n",
            " [  0   0  21   0   0   0   0   0   0  14   0   0   0   0   0   0   0   0\n",
            "    0   0   0   0   0   0   0   0   0   0   0   0  19]\n",
            " [  0   1   0   0   5   0   0   0   0   0   1   0   1   1   0   0   0   0\n",
            "    0   0   0   0   0   0   0   0   0   0   0   0   0]\n",
            " [  1   1   0   1   1   1   0   0   0   0   0 163   0   0   0   3   5   3\n",
            "    0   0   0   3   1   0   0   2   4   0   0   0   0]\n",
            " [  0   2   0   0   3   0   1   1   0   0   2   0  76   7   0   0   0   0\n",
            "    0   1   0   0   0   0   0   0   0   0   1   0   0]\n",
            " [  0   5   0   0   2   0   0   0   0   0   6   0   3  69   3   0   0   0\n",
            "    0   0   0   0   0   0   0   0   0   0   1   0   1]\n",
            " [  0   0   3   0   0   0   0   0   0   0   3   0   4   1 128   0   0  10\n",
            "   11   6   1   0   0   0   0   0   0   0   5   1   1]\n",
            " [  0   2   0   0   0   0   0   0   0   0   0   4   0   0   0 186   1   5\n",
            "    0   0   0   1   1   0   4   1   1   0   0   0   0]\n",
            " [  0   0   0   0   2   0   0   0   0   0   2   7   0   0   0   2 244   2\n",
            "    0   0   0  11   4   0   0   6   9   0   0   0   0]\n",
            " [  0   0   0   0   0   0   0   0   0   0   1   1   0   0   4   0   0  22\n",
            "    0   0   0   0   0   0   0   0   2   0   1   0   0]\n",
            " [  0   0   2   0   1   0   0   0   0   0   1   0   0   0   6   0   0   6\n",
            "  105   1   0   0   1   0   1   0   0   0   2   0   0]\n",
            " [  0   5   3   0   2   1   4   0   0   1   1   0   0   2   1   1   0   2\n",
            "    0 144   1   0   0   5   0   0   0   0   5   0   0]\n",
            " [  0   0   0   0   3   0   0   0   0   0   2   1   0   0   1   0   0   1\n",
            "    0   1 126   0   0   0   0   0   0   2   6   2   0]\n",
            " [  1   0   0   0   0   0   0   0   0   0   0   0   0   0   0   1  11   0\n",
            "    0   0   0 241   2   0   3   8   2   0   0   0   0]\n",
            " [  0   0   1   0   1   0   1   0   0   0   0   0   0   0   0   2   1   1\n",
            "    0   0   0   7 233   0   0   1   3   0   0   0   0]\n",
            " [  0   0   0   0   0   0   1   0   0   0   0   0   0   0   0   0   0   0\n",
            "    0   4   0   0   0   9   0   0   0   0   0   0   0]\n",
            " [  0   3   0   0   0   0   0   1   0   0   0   1   0   1   0   4   1   0\n",
            "    0   0   0   1   1   0 209   1   0   0   0   0   0]\n",
            " [  0   0   0   0   0   0   0   0   0   0   0   3   1   0   0   1   9   1\n",
            "    0   0   0   1   3   0   3 203   3   0   0   0   0]\n",
            " [  1   0   0   1   1   0   0   0   0   0   1   0   0   0   0   1   4   0\n",
            "    0   0   0   1   3   0   0   1 191   0   0   0   0]\n",
            " [  0   0   0   0   0   0   1   0  39   0   0   0   1   0   2   1   0   0\n",
            "    1   2   1   0   0   0   0   0   5 140  22   2   0]\n",
            " [  0   0   0   0   0   0   0   1   0   0   0   0   0   0   4   0   0   2\n",
            "    3   1   2   0   0   0   0   0   0   0 122   0   0]\n",
            " [  0   1   0   0   0   0   0   0   0   0   0   0   0   0   9   0   0   8\n",
            "    2  11   3   0   1   0   0   0   0   1   4  85   0]\n",
            " [  0   0   3   0   0   0   0   0   0   3   0   0   0   0   0   0   0   1\n",
            "    0   0   0   0   0   0   0   0   0   0   0   1  22]]\n"
          ]
        }
      ]
    }
  ]
}