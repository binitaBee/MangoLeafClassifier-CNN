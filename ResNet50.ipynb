{
  "nbformat": 4,
  "nbformat_minor": 0,
  "metadata": {
    "colab": {
      "provenance": [],
      "gpuType": "T4"
    },
    "kernelspec": {
      "name": "python3",
      "display_name": "Python 3"
    },
    "language_info": {
      "name": "python"
    },
    "accelerator": "GPU",
    "gpuClass": "standard"
  },
  "cells": [
    {
      "cell_type": "code",
      "source": [
        "from google.colab import drive\n",
        "drive.mount('/content/drive')"
      ],
      "metadata": {
        "id": "5DXhREwT6vZo"
      },
      "execution_count": null,
      "outputs": []
    },
    {
      "cell_type": "code",
      "execution_count": null,
      "metadata": {
        "colab": {
          "base_uri": "https://localhost:8080/"
        },
        "id": "Pdqa9WiwPSlx",
        "outputId": "1354d77e-4e70-4567-970d-3b11eeba6d37"
      },
      "outputs": [
        {
          "output_type": "stream",
          "name": "stdout",
          "text": [
            "/content/drive/.shortcut-targets-by-id/1j7rXKwiBhEw3MvgmveMocX9aPbnsfoWl/MangoPaata database\n",
            "'African Jumbo'   Bari-4     Hari-Bhanga    qzai\n",
            " Amrupali\t 'BARI 4'    himsagar\t   'Red Palmar'\n",
            "'Baper baari'\t 'BARI 7'    Jubair\t   'thai banana mango'\n",
            "'baper bari'\t 'BARI 8'   'King Brunei'  'thai banana mango (renamed)'\n",
            "'Bari 11'\t 'BARI 9'    Lengra\n",
            "'BARI 11'\t  Fazlee     Modhurani\n",
            "'BARI 13'\t  Gopalvog   Moriyam\n"
          ]
        }
      ],
      "source": [
        "%cd /content/drive/MyDrive/Preprocessed\n",
        "!ls"
      ]
    },
    {
      "cell_type": "code",
      "source": [
        "listOfProjati = []\n",
        "ProjatiDirectory = {}\n",
        "import os\n",
        "path = os.getcwd()\n",
        "for dir in os.listdir(path):\n",
        "  if os.path.isdir(dir):\n",
        "    if str(dir) != \"thai banana mango (renamed)\" and str(dir) != \"Jubair\":\n",
        "      listOfProjati.append(str(dir))\n",
        "      ProjatiDirectory[str(dir)] = '/' + str(dir)\n",
        "ProjatiDirectory"
      ],
      "metadata": {
        "id": "Ek1qHRChQasH"
      },
      "execution_count": null,
      "outputs": []
    },
    {
      "cell_type": "code",
      "source": [
        "countDict = {}\n",
        "for projati in listOfProjati:\n",
        "  subfolderPath = path + ProjatiDirectory[projati]\n",
        "  c = 0\n",
        "  for file in os.listdir(subfolderPath):\n",
        "    if file.endswith('.jpg') or file.endswith('.JPG') or file.endswith('.jpeg') or file.endswith('.JPEG'):\n",
        "      # file_name, file_extension = os.path.splitext(file)\n",
        "      c += 1\n",
        "  countDict[projati] = c\n",
        "countDict"
      ],
      "metadata": {
        "id": "DDyFttNvQlIZ"
      },
      "execution_count": null,
      "outputs": []
    },
    {
      "cell_type": "code",
      "source": [
        "%cd /content/drive/MyDrive/Preprocessed"
      ],
      "metadata": {
        "id": "ezGIjIpXQxgU",
        "colab": {
          "base_uri": "https://localhost:8080/"
        },
        "outputId": "47e1dd1d-a50e-4dcd-df10-3381b5d8bc60"
      },
      "execution_count": null,
      "outputs": [
        {
          "output_type": "stream",
          "name": "stdout",
          "text": [
            "/content/drive/MyDrive/MangoPaata\n"
          ]
        }
      ]
    },
    {
      "cell_type": "code",
      "source": [
        "import numpy as np\n",
        "img_data=np.load('image_data.npy')\n",
        "img_data"
      ],
      "metadata": {
        "id": "KL7-_28kY2Qh"
      },
      "execution_count": null,
      "outputs": []
    },
    {
      "cell_type": "code",
      "source": [
        "import gc\n",
        "gc.collect()"
      ],
      "metadata": {
        "id": "7xKYuTjmQ9Hr"
      },
      "execution_count": null,
      "outputs": []
    },
    {
      "cell_type": "code",
      "source": [
        "import numpy as np\n",
        "import pandas as pd\n",
        "import os\n",
        "import tensorflow as tf\n",
        "import cv2\n",
        "from tensorflow import keras\n",
        "from tensorflow.keras.layers import Dense, LSTM, Dropout, GRU, Bidirectional\n",
        "from tensorflow.keras.models import Sequential, Model\n",
        "from  matplotlib import pyplot as plt\n",
        "import matplotlib.image as mpimg\n",
        "import random\n",
        "%matplotlib inline"
      ],
      "metadata": {
        "id": "8AGoLWlUQ_dS"
      },
      "execution_count": null,
      "outputs": []
    },
    {
      "cell_type": "code",
      "source": [
        "listOfProjatiCopy = listOfProjati.copy()"
      ],
      "metadata": {
        "id": "t6XGNNMwRCcF"
      },
      "execution_count": null,
      "outputs": []
    },
    {
      "cell_type": "code",
      "source": [
        "from sklearn import preprocessing\n",
        "le = preprocessing.LabelEncoder()\n",
        "le.fit(listOfProjatiCopy)\n",
        "listOfProjatiCopy = le.transform(listOfProjatiCopy)\n",
        "listOfProjatiCopy"
      ],
      "metadata": {
        "id": "PRdhmgpuRFPs",
        "colab": {
          "base_uri": "https://localhost:8080/"
        },
        "outputId": "a778d84b-30ca-4500-81ef-3fd44345d59f"
      },
      "execution_count": null,
      "outputs": [
        {
          "output_type": "execute_result",
          "data": {
            "text/plain": [
              "array([10,  5,  7,  6,  2,  3,  4,  0,  8,  9, 30, 23, 19, 17, 14,  1, 28,\n",
              "       18, 29, 27, 20, 13, 12, 11, 15, 22, 16, 25, 21, 26, 24])"
            ]
          },
          "metadata": {},
          "execution_count": 9
        }
      ]
    },
    {
      "cell_type": "code",
      "source": [
        "target_val = []\n",
        "for i in range(len(listOfProjati)):\n",
        "  tempList = [listOfProjatiCopy[i]]*countDict[listOfProjati[i]]\n",
        "  target_val.extend(tempList)\n",
        "target_val = np.array(target_val)\n",
        "target_val"
      ],
      "metadata": {
        "id": "eKJ6lH4zRHtp",
        "colab": {
          "base_uri": "https://localhost:8080/"
        },
        "outputId": "ec4d6e17-a330-425f-9680-1414c5de5103"
      },
      "execution_count": null,
      "outputs": [
        {
          "output_type": "execute_result",
          "data": {
            "text/plain": [
              "array([10, 10, 10, ..., 24, 24, 24])"
            ]
          },
          "metadata": {},
          "execution_count": 10
        }
      ]
    },
    {
      "cell_type": "code",
      "source": [
        "from sklearn.model_selection import train_test_split\n",
        "x, x_test, y, y_test = train_test_split(img_data,target_val,test_size=0.3, stratify=target_val)\n",
        "x_train, x_val, y_train, y_val = train_test_split(x,y,test_size = 0.2, stratify=y)"
      ],
      "metadata": {
        "id": "a8td3rHDRKQY"
      },
      "execution_count": null,
      "outputs": []
    },
    {
      "cell_type": "code",
      "source": [
        "from tensorflow.keras.utils import to_categorical\n",
        "y_train=to_categorical(y_train)\n",
        "y_val=to_categorical(y_val)\n",
        "y_test=to_categorical(y_test)\n",
        "print((x_train.shape,y_train.shape))\n",
        "print((x_val.shape,y_val.shape))\n",
        "print((x_test.shape,y_test.shape))"
      ],
      "metadata": {
        "id": "onDQWRiRRHzq",
        "colab": {
          "base_uri": "https://localhost:8080/"
        },
        "outputId": "18665d57-c4d1-4f38-89da-7f9e78e5a93c"
      },
      "execution_count": null,
      "outputs": [
        {
          "output_type": "stream",
          "name": "stdout",
          "text": [
            "((8064, 64, 64, 3), (8064, 31))\n",
            "((2016, 64, 64, 3), (2016, 31))\n",
            "((4321, 64, 64, 3), (4321, 31))\n"
          ]
        }
      ]
    },
    {
      "cell_type": "code",
      "source": [
        "from keras.preprocessing.image import ImageDataGenerator\n",
        "train_generator = ImageDataGenerator()\n",
        "val_generator = ImageDataGenerator()\n",
        "test_generator = ImageDataGenerator()\n",
        "train_generator.fit(x_train)\n",
        "val_generator.fit(x_val)\n",
        "test_generator.fit(x_test)"
      ],
      "metadata": {
        "id": "JclczhHeRP5u"
      },
      "execution_count": null,
      "outputs": []
    },
    {
      "cell_type": "code",
      "source": [
        "import matplotlib.pyplot as plt\n",
        "import numpy as np\n",
        "import os\n",
        "import PIL\n",
        "import tensorflow as tf\n",
        "from tensorflow import keras\n",
        "from tensorflow.keras import layers\n",
        "from tensorflow.python.keras.layers import Dense, Flatten\n",
        "from tensorflow.keras.models import Sequential\n",
        "from tensorflow.keras.optimizers import Adam\n",
        "from keras.callbacks import ReduceLROnPlateau"
      ],
      "metadata": {
        "id": "F6H3ZtS_RTox"
      },
      "execution_count": null,
      "outputs": []
    },
    {
      "cell_type": "code",
      "source": [
        "resnet_model = Sequential()\n",
        "\n",
        "pretrained_model= tf.keras.applications.ResNet50(include_top=False,\n",
        "                   input_shape=(64,64,3),\n",
        "                   pooling='avg',classes=31,\n",
        "                   weights='imagenet')\n",
        "# for layer in pretrained_model.layers:\n",
        "#         layer.trainable=False\n",
        "\n",
        "resnet_model.add(pretrained_model)\n",
        "resnet_model.add(Flatten())\n",
        "resnet_model.add(Dense(512, activation='relu'))\n",
        "resnet_model.add(Dense(26, activation='softmax'))"
      ],
      "metadata": {
        "id": "sHZosdfIRUbJ"
      },
      "execution_count": null,
      "outputs": []
    },
    {
      "cell_type": "code",
      "source": [
        "resnet_model.summary()"
      ],
      "metadata": {
        "id": "KnpAS_3cRXBU",
        "colab": {
          "base_uri": "https://localhost:8080/"
        },
        "outputId": "673dc9bc-759b-48a4-f604-62813268837e"
      },
      "execution_count": null,
      "outputs": [
        {
          "output_type": "stream",
          "name": "stdout",
          "text": [
            "Model: \"sequential_2\"\n",
            "_________________________________________________________________\n",
            " Layer (type)                Output Shape              Param #   \n",
            "=================================================================\n",
            " resnet50 (Functional)       (None, 2048)              23587712  \n",
            "                                                                 \n",
            " module_wrapper_6 (ModuleWra  (None, 2048)             0         \n",
            " pper)                                                           \n",
            "                                                                 \n",
            " module_wrapper_7 (ModuleWra  (None, 512)              1049088   \n",
            " pper)                                                           \n",
            "                                                                 \n",
            " module_wrapper_8 (ModuleWra  (None, 31)               15903     \n",
            " pper)                                                           \n",
            "                                                                 \n",
            "=================================================================\n",
            "Total params: 24,652,703\n",
            "Trainable params: 24,599,583\n",
            "Non-trainable params: 53,120\n",
            "_________________________________________________________________\n"
          ]
        }
      ]
    },
    {
      "cell_type": "code",
      "source": [
        "resnet_model.compile(optimizer=Adam(lr=0.001),loss='categorical_crossentropy',metrics=['accuracy'])"
      ],
      "metadata": {
        "id": "f7xIhPvdRY7L",
        "colab": {
          "base_uri": "https://localhost:8080/"
        },
        "outputId": "4a42bf85-1e32-4225-d7ac-d3920be49611"
      },
      "execution_count": null,
      "outputs": [
        {
          "output_type": "stream",
          "name": "stderr",
          "text": [
            "WARNING:absl:`lr` is deprecated in Keras optimizer, please use `learning_rate` or use the legacy optimizer, e.g.,tf.keras.optimizers.legacy.Adam.\n"
          ]
        }
      ]
    },
    {
      "cell_type": "code",
      "source": [
        "lrr= ReduceLROnPlateau(monitor='val_accuracy', factor=.01,  patience=3, min_lr=1e-5)"
      ],
      "metadata": {
        "id": "FyF75E0ZRa5B"
      },
      "execution_count": null,
      "outputs": []
    },
    {
      "cell_type": "code",
      "source": [
        "batch_size = 27\n",
        "hist = resnet_model.fit(train_generator.flow(x_train, y_train, batch_size = batch_size), epochs=30, steps_per_epoch = x_train.shape[0]//batch_size, validation_data = val_generator.flow(x_val, y_val, batch_size = batch_size), callbacks = [lrr], verbose = 1)"
      ],
      "metadata": {
        "id": "5KrlAkIYRdQ2",
        "colab": {
          "base_uri": "https://localhost:8080/"
        },
        "outputId": "84e78e29-aa82-417c-9e65-fd4c2db55f5e"
      },
      "execution_count": null,
      "outputs": [
        {
          "output_type": "stream",
          "name": "stdout",
          "text": [
            "Epoch 1/30\n",
            "252/252 [==============================] - 59s 67ms/step - loss: 1.5509 - accuracy: 0.5844 - val_loss: 7.7101 - val_accuracy: 0.0283 - lr: 0.0010\n",
            "Epoch 2/30\n",
            "252/252 [==============================] - 16s 62ms/step - loss: 0.7026 - accuracy: 0.7785 - val_loss: 8.0698 - val_accuracy: 0.0303 - lr: 0.0010\n",
            "Epoch 3/30\n",
            "252/252 [==============================] - 16s 62ms/step - loss: 0.5330 - accuracy: 0.8235 - val_loss: 5.2966 - val_accuracy: 0.1245 - lr: 0.0010\n",
            "Epoch 4/30\n",
            "252/252 [==============================] - 16s 62ms/step - loss: 0.4083 - accuracy: 0.8653 - val_loss: 4.0569 - val_accuracy: 0.2738 - lr: 0.0010\n",
            "Epoch 5/30\n",
            "252/252 [==============================] - 16s 62ms/step - loss: 0.3611 - accuracy: 0.8774 - val_loss: 1.0119 - val_accuracy: 0.7302 - lr: 0.0010\n",
            "Epoch 6/30\n",
            "252/252 [==============================] - 16s 62ms/step - loss: 0.2945 - accuracy: 0.8953 - val_loss: 1.3673 - val_accuracy: 0.6711 - lr: 0.0010\n",
            "Epoch 7/30\n",
            "252/252 [==============================] - 16s 62ms/step - loss: 0.2185 - accuracy: 0.9174 - val_loss: 2.0458 - val_accuracy: 0.5620 - lr: 0.0010\n",
            "Epoch 8/30\n",
            "252/252 [==============================] - 16s 62ms/step - loss: 0.3379 - accuracy: 0.8932 - val_loss: 7.5807 - val_accuracy: 0.3735 - lr: 0.0010\n",
            "Epoch 9/30\n",
            "252/252 [==============================] - 15s 61ms/step - loss: 0.1996 - accuracy: 0.9247 - val_loss: 0.3828 - val_accuracy: 0.8676 - lr: 1.0000e-05\n",
            "Epoch 10/30\n",
            "252/252 [==============================] - 15s 61ms/step - loss: 0.1602 - accuracy: 0.9408 - val_loss: 0.3571 - val_accuracy: 0.8760 - lr: 1.0000e-05\n",
            "Epoch 11/30\n",
            "252/252 [==============================] - 16s 62ms/step - loss: 0.1336 - accuracy: 0.9506 - val_loss: 0.3463 - val_accuracy: 0.8780 - lr: 1.0000e-05\n",
            "Epoch 12/30\n",
            "252/252 [==============================] - 16s 62ms/step - loss: 0.1240 - accuracy: 0.9523 - val_loss: 0.3377 - val_accuracy: 0.8800 - lr: 1.0000e-05\n",
            "Epoch 13/30\n",
            "252/252 [==============================] - 15s 61ms/step - loss: 0.1118 - accuracy: 0.9570 - val_loss: 0.3330 - val_accuracy: 0.8849 - lr: 1.0000e-05\n",
            "Epoch 14/30\n",
            "252/252 [==============================] - 15s 61ms/step - loss: 0.1002 - accuracy: 0.9603 - val_loss: 0.3288 - val_accuracy: 0.8849 - lr: 1.0000e-05\n",
            "Epoch 15/30\n",
            "252/252 [==============================] - 16s 61ms/step - loss: 0.0921 - accuracy: 0.9644 - val_loss: 0.3247 - val_accuracy: 0.8899 - lr: 1.0000e-05\n",
            "Epoch 16/30\n",
            "252/252 [==============================] - 16s 62ms/step - loss: 0.0861 - accuracy: 0.9663 - val_loss: 0.3181 - val_accuracy: 0.8929 - lr: 1.0000e-05\n",
            "Epoch 17/30\n",
            "252/252 [==============================] - 16s 63ms/step - loss: 0.0789 - accuracy: 0.9697 - val_loss: 0.3165 - val_accuracy: 0.8909 - lr: 1.0000e-05\n",
            "Epoch 18/30\n",
            "252/252 [==============================] - 15s 61ms/step - loss: 0.0755 - accuracy: 0.9696 - val_loss: 0.3135 - val_accuracy: 0.8938 - lr: 1.0000e-05\n",
            "Epoch 19/30\n",
            "252/252 [==============================] - 16s 62ms/step - loss: 0.0698 - accuracy: 0.9709 - val_loss: 0.3123 - val_accuracy: 0.8924 - lr: 1.0000e-05\n",
            "Epoch 20/30\n",
            "252/252 [==============================] - 15s 61ms/step - loss: 0.0660 - accuracy: 0.9712 - val_loss: 0.3126 - val_accuracy: 0.8943 - lr: 1.0000e-05\n",
            "Epoch 21/30\n",
            "252/252 [==============================] - 16s 62ms/step - loss: 0.0651 - accuracy: 0.9747 - val_loss: 0.3150 - val_accuracy: 0.8973 - lr: 1.0000e-05\n",
            "Epoch 22/30\n",
            "252/252 [==============================] - 15s 61ms/step - loss: 0.0595 - accuracy: 0.9742 - val_loss: 0.3129 - val_accuracy: 0.8983 - lr: 1.0000e-05\n",
            "Epoch 23/30\n",
            "252/252 [==============================] - 16s 63ms/step - loss: 0.0575 - accuracy: 0.9771 - val_loss: 0.3088 - val_accuracy: 0.8963 - lr: 1.0000e-05\n",
            "Epoch 24/30\n",
            "252/252 [==============================] - 16s 63ms/step - loss: 0.0530 - accuracy: 0.9785 - val_loss: 0.3143 - val_accuracy: 0.8958 - lr: 1.0000e-05\n",
            "Epoch 25/30\n",
            "252/252 [==============================] - 16s 62ms/step - loss: 0.0519 - accuracy: 0.9771 - val_loss: 0.3163 - val_accuracy: 0.8963 - lr: 1.0000e-05\n",
            "Epoch 26/30\n",
            "252/252 [==============================] - 16s 62ms/step - loss: 0.0509 - accuracy: 0.9779 - val_loss: 0.3124 - val_accuracy: 0.8968 - lr: 1.0000e-05\n",
            "Epoch 27/30\n",
            "252/252 [==============================] - 15s 61ms/step - loss: 0.0471 - accuracy: 0.9776 - val_loss: 0.3174 - val_accuracy: 0.8958 - lr: 1.0000e-05\n",
            "Epoch 28/30\n",
            "252/252 [==============================] - 16s 63ms/step - loss: 0.0460 - accuracy: 0.9795 - val_loss: 0.3185 - val_accuracy: 0.8958 - lr: 1.0000e-05\n",
            "Epoch 29/30\n",
            "252/252 [==============================] - 16s 62ms/step - loss: 0.0440 - accuracy: 0.9793 - val_loss: 0.3207 - val_accuracy: 0.8958 - lr: 1.0000e-05\n",
            "Epoch 30/30\n",
            "252/252 [==============================] - 16s 62ms/step - loss: 0.0438 - accuracy: 0.9789 - val_loss: 0.3200 - val_accuracy: 0.8953 - lr: 1.0000e-05\n"
          ]
        }
      ]
    },
    {
      "cell_type": "code",
      "source": [
        "plt.plot(hist.history[\"accuracy\"])\n",
        "plt.plot(hist.history['val_accuracy'])\n",
        "plt.ylim(0,1)\n",
        "plt.title(\"Model accuracy\")\n",
        "plt.ylabel(\"Accuracy\")\n",
        "plt.xlabel(\"Epochs\")\n",
        "plt.legend([\"Accuracy\",\"Validation Accuracy\"])\n",
        "plt.show()"
      ],
      "metadata": {
        "id": "meuUKHwIRfD6",
        "colab": {
          "base_uri": "https://localhost:8080/",
          "height": 472
        },
        "outputId": "bf753177-ba7d-4f2c-ea25-eb04a5f58887"
      },
      "execution_count": null,
      "outputs": [
        {
          "output_type": "display_data",
          "data": {
            "text/plain": [
              "<Figure size 640x480 with 1 Axes>"
            ],
            "image/png": "[encoded data removed]"
          },
          "metadata": {}
        }
      ]
    },
    {
      "cell_type": "code",
      "source": [
        "plt.plot(hist.history[\"loss\"])\n",
        "plt.plot(hist.history['val_loss'])\n",
        "plt.title(\"Model Loss\")\n",
        "plt.ylabel(\"Loss\")\n",
        "plt.xlabel(\"Epochs\")\n",
        "plt.legend([\"Loss\",\"Validation Loss\"])\n",
        "plt.show()"
      ],
      "metadata": {
        "id": "aRaxCcHZRhQx",
        "colab": {
          "base_uri": "https://localhost:8080/",
          "height": 472
        },
        "outputId": "86494208-b533-4559-a01f-9e0815c34636"
      },
      "execution_count": null,
      "outputs": [
        {
          "output_type": "display_data",
          "data": {
            "text/plain": [
              "<Figure size 640x480 with 1 Axes>"
            ],
            "image/png": "[encoded data removed]"
          },
          "metadata": {}
        }
      ]
    },
    {
      "cell_type": "code",
      "source": [
        "y_pred1 = resnet_model.predict(x_test)\n",
        "y_true = np.argmax(y_pred1,axis=1)\n",
        "y_demo = np.argmax(y_test,axis=1)"
      ],
      "metadata": {
        "id": "TEvLo3-BRkuJ",
        "colab": {
          "base_uri": "https://localhost:8080/"
        },
        "outputId": "a5653fe3-5a44-4b48-f281-b7aab1c2f8c6"
      },
      "execution_count": null,
      "outputs": [
        {
          "output_type": "stream",
          "name": "stdout",
          "text": [
            "136/136 [==============================] - 3s 14ms/step\n"
          ]
        }
      ]
    },
    {
      "cell_type": "code",
      "source": [
        "from sklearn.metrics import accuracy_score\n",
        "accuracy_score(y_true, y_demo)"
      ],
      "metadata": {
        "id": "wlfUgxIrRlc1",
        "colab": {
          "base_uri": "https://localhost:8080/"
        },
        "outputId": "6c1f897f-51bb-4a50-ef42-29e4e5d5af52"
      },
      "execution_count": null,
      "outputs": [
        {
          "output_type": "execute_result",
          "data": {
            "text/plain": [
              "0.9009488544318445"
            ]
          },
          "metadata": {},
          "execution_count": 47
        }
      ]
    },
    {
      "cell_type": "code",
      "source": [
        "from sklearn.metrics import f1_score\n",
        "f1_score(y_true, y_demo, average='weighted')"
      ],
      "metadata": {
        "id": "u6ZHHypMRnZ1",
        "colab": {
          "base_uri": "https://localhost:8080/"
        },
        "outputId": "cd83f1d4-ffc3-4211-a6dd-2222e6d69402"
      },
      "execution_count": null,
      "outputs": [
        {
          "output_type": "execute_result",
          "data": {
            "text/plain": [
              "0.9014478419580791"
            ]
          },
          "metadata": {},
          "execution_count": 48
        }
      ]
    },
    {
      "cell_type": "code",
      "source": [
        "from sklearn.metrics import recall_score\n",
        "recall_score(y_true,y_demo,average='weighted')"
      ],
      "metadata": {
        "id": "xotUHKcjRpLP",
        "colab": {
          "base_uri": "https://localhost:8080/"
        },
        "outputId": "e44a7206-4291-412b-f1ab-ab5b11d02b36"
      },
      "execution_count": null,
      "outputs": [
        {
          "output_type": "execute_result",
          "data": {
            "text/plain": [
              "0.9009488544318445"
            ]
          },
          "metadata": {},
          "execution_count": 49
        }
      ]
    },
    {
      "cell_type": "code",
      "source": [
        "from sklearn.metrics import precision_score\n",
        "precision_score(y_true,y_demo,average='weighted')"
      ],
      "metadata": {
        "id": "xeYhKPnDRsKy",
        "colab": {
          "base_uri": "https://localhost:8080/"
        },
        "outputId": "4c810791-7fab-4766-9a6a-877b8b985c25"
      },
      "execution_count": null,
      "outputs": [
        {
          "output_type": "execute_result",
          "data": {
            "text/plain": [
              "0.6021898235698252"
            ]
          },
          "metadata": {},
          "execution_count": 36
        }
      ]
    },
    {
      "cell_type": "code",
      "source": [
        "from sklearn.metrics import classification_report\n",
        "target_names=listOfProjati\n",
        "print(classification_report(y_true, y_demo, target_names=target_names))"
      ],
      "metadata": {
        "id": "FtC5uQDORtlJ",
        "colab": {
          "base_uri": "https://localhost:8080/"
        },
        "outputId": "85ee5849-50f0-423b-9572-a2d02cfc4b2d"
      },
      "execution_count": null,
      "outputs": [
        {
          "output_type": "stream",
          "name": "stdout",
          "text": [
            "                      precision    recall  f1-score   support\n",
            "\n",
            "              Bari-4       0.99      0.96      0.98       134\n",
            "              BARI 7       0.93      0.92      0.92       298\n",
            "              BARI 9       0.56      0.67      0.61        73\n",
            "              BARI 8       0.64      0.73      0.68        22\n",
            "             BARI 11       0.19      0.20      0.19        35\n",
            "             BARI 13       0.99      0.99      0.99       141\n",
            "              BARI 4       1.00      0.99      0.99       200\n",
            "       African Jumbo       0.94      1.00      0.97        50\n",
            "         Baper baari       0.36      0.51      0.42        37\n",
            "             Bari 11       0.46      0.30      0.36        54\n",
            "   thai banana mango       0.24      0.24      0.24        38\n",
            "          Red Palmar       0.95      0.96      0.96       179\n",
            "           Modhurani       0.98      0.95      0.96        91\n",
            "         King Brunei       0.96      0.84      0.90       103\n",
            "         Hari-Bhanga       0.84      0.90      0.87       159\n",
            "            Amrupali       0.97      0.92      0.94       215\n",
            "            himsagar       0.94      0.94      0.94       280\n",
            "              Lengra       0.74      0.82      0.78        66\n",
            "                qzai       0.98      0.94      0.96       128\n",
            "          baper bari       0.93      0.90      0.91       184\n",
            "             Moriyam       0.94      0.97      0.96       133\n",
            "            Gopalvog       0.93      0.96      0.94       260\n",
            "              Fazlee       0.94      0.95      0.95       248\n",
            "         Brunei King       0.57      0.75      0.65        16\n",
            "     Indian Totapori       0.97      0.99      0.98       217\n",
            "                Qzai       0.95      0.93      0.94       233\n",
            "         Kacha mitha       0.90      0.95      0.93       211\n",
            "         Taiwani red       0.85      0.75      0.80       187\n",
            "Philippine Honey Dew       0.95      0.92      0.93       180\n",
            "         Thai Morium       0.96      0.96      0.96        92\n",
            "              Sabira       0.78      0.88      0.83        57\n",
            "\n",
            "            accuracy                           0.90      4321\n",
            "           macro avg       0.82      0.83      0.82      4321\n",
            "        weighted avg       0.90      0.90      0.90      4321\n",
            "\n"
          ]
        }
      ]
    }
  ]
}